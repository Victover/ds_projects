{
 "cells": [
  {
   "cell_type": "markdown",
   "id": "c353de9a",
   "metadata": {},
   "source": [
    "# Проект: классификация"
   ]
  },
  {
   "cell_type": "code",
   "execution_count": 1,
   "id": "4a6e54dc",
   "metadata": {},
   "outputs": [],
   "source": [
    "import pandas as pd\n",
    "import numpy as np\n",
    "import matplotlib.pyplot as plt\n",
    "import seaborn as sns\n",
    "from  sklearn.ensemble import IsolationForest\n",
    "import warnings\n",
    "warnings.filterwarnings('ignore')\n",
    "from sklearn.preprocessing  import LabelEncoder\n",
    "from sklearn import linear_model \n",
    "from sklearn import tree \n",
    "from sklearn import ensemble \n",
    "from sklearn import metrics \n",
    "from sklearn import preprocessing \n",
    "from sklearn.model_selection import train_test_split \n",
    "from sklearn.feature_selection import SelectKBest, f_classif"
   ]
  },
  {
   "cell_type": "markdown",
   "id": "71559b60",
   "metadata": {},
   "source": [
    "## Часть 1. Знакомство с данными, обработка пропусков и выбросов"
   ]
  },
  {
   "cell_type": "markdown",
   "id": "7c5e31b2",
   "metadata": {},
   "source": [
    "### Задание 1"
   ]
  },
  {
   "cell_type": "code",
   "execution_count": 3,
   "id": "20730cd7",
   "metadata": {},
   "outputs": [
    {
     "data": {
      "text/html": [
       "<div>\n",
       "<style scoped>\n",
       "    .dataframe tbody tr th:only-of-type {\n",
       "        vertical-align: middle;\n",
       "    }\n",
       "\n",
       "    .dataframe tbody tr th {\n",
       "        vertical-align: top;\n",
       "    }\n",
       "\n",
       "    .dataframe thead th {\n",
       "        text-align: right;\n",
       "    }\n",
       "</style>\n",
       "<table border=\"1\" class=\"dataframe\">\n",
       "  <thead>\n",
       "    <tr style=\"text-align: right;\">\n",
       "      <th></th>\n",
       "      <th>age</th>\n",
       "      <th>job</th>\n",
       "      <th>marital</th>\n",
       "      <th>education</th>\n",
       "      <th>default</th>\n",
       "      <th>balance</th>\n",
       "      <th>housing</th>\n",
       "      <th>loan</th>\n",
       "      <th>contact</th>\n",
       "      <th>day</th>\n",
       "      <th>month</th>\n",
       "      <th>duration</th>\n",
       "      <th>campaign</th>\n",
       "      <th>pdays</th>\n",
       "      <th>previous</th>\n",
       "      <th>poutcome</th>\n",
       "      <th>deposit</th>\n",
       "    </tr>\n",
       "  </thead>\n",
       "  <tbody>\n",
       "    <tr>\n",
       "      <th>0</th>\n",
       "      <td>59</td>\n",
       "      <td>admin.</td>\n",
       "      <td>married</td>\n",
       "      <td>secondary</td>\n",
       "      <td>no</td>\n",
       "      <td>2 343,00 $</td>\n",
       "      <td>yes</td>\n",
       "      <td>no</td>\n",
       "      <td>unknown</td>\n",
       "      <td>5</td>\n",
       "      <td>may</td>\n",
       "      <td>1042</td>\n",
       "      <td>1</td>\n",
       "      <td>-1</td>\n",
       "      <td>0</td>\n",
       "      <td>unknown</td>\n",
       "      <td>yes</td>\n",
       "    </tr>\n",
       "    <tr>\n",
       "      <th>1</th>\n",
       "      <td>56</td>\n",
       "      <td>admin.</td>\n",
       "      <td>married</td>\n",
       "      <td>secondary</td>\n",
       "      <td>no</td>\n",
       "      <td>45,00 $</td>\n",
       "      <td>no</td>\n",
       "      <td>no</td>\n",
       "      <td>unknown</td>\n",
       "      <td>5</td>\n",
       "      <td>may</td>\n",
       "      <td>1467</td>\n",
       "      <td>1</td>\n",
       "      <td>-1</td>\n",
       "      <td>0</td>\n",
       "      <td>unknown</td>\n",
       "      <td>yes</td>\n",
       "    </tr>\n",
       "    <tr>\n",
       "      <th>2</th>\n",
       "      <td>41</td>\n",
       "      <td>technician</td>\n",
       "      <td>married</td>\n",
       "      <td>secondary</td>\n",
       "      <td>no</td>\n",
       "      <td>1 270,00 $</td>\n",
       "      <td>yes</td>\n",
       "      <td>no</td>\n",
       "      <td>unknown</td>\n",
       "      <td>5</td>\n",
       "      <td>may</td>\n",
       "      <td>1389</td>\n",
       "      <td>1</td>\n",
       "      <td>-1</td>\n",
       "      <td>0</td>\n",
       "      <td>unknown</td>\n",
       "      <td>yes</td>\n",
       "    </tr>\n",
       "    <tr>\n",
       "      <th>3</th>\n",
       "      <td>55</td>\n",
       "      <td>services</td>\n",
       "      <td>married</td>\n",
       "      <td>secondary</td>\n",
       "      <td>no</td>\n",
       "      <td>2 476,00 $</td>\n",
       "      <td>yes</td>\n",
       "      <td>no</td>\n",
       "      <td>unknown</td>\n",
       "      <td>5</td>\n",
       "      <td>may</td>\n",
       "      <td>579</td>\n",
       "      <td>1</td>\n",
       "      <td>-1</td>\n",
       "      <td>0</td>\n",
       "      <td>unknown</td>\n",
       "      <td>yes</td>\n",
       "    </tr>\n",
       "    <tr>\n",
       "      <th>4</th>\n",
       "      <td>54</td>\n",
       "      <td>admin.</td>\n",
       "      <td>married</td>\n",
       "      <td>tertiary</td>\n",
       "      <td>no</td>\n",
       "      <td>184,00 $</td>\n",
       "      <td>no</td>\n",
       "      <td>no</td>\n",
       "      <td>unknown</td>\n",
       "      <td>5</td>\n",
       "      <td>may</td>\n",
       "      <td>673</td>\n",
       "      <td>2</td>\n",
       "      <td>-1</td>\n",
       "      <td>0</td>\n",
       "      <td>unknown</td>\n",
       "      <td>yes</td>\n",
       "    </tr>\n",
       "    <tr>\n",
       "      <th>5</th>\n",
       "      <td>42</td>\n",
       "      <td>management</td>\n",
       "      <td>single</td>\n",
       "      <td>tertiary</td>\n",
       "      <td>no</td>\n",
       "      <td>0  $</td>\n",
       "      <td>yes</td>\n",
       "      <td>yes</td>\n",
       "      <td>unknown</td>\n",
       "      <td>5</td>\n",
       "      <td>may</td>\n",
       "      <td>562</td>\n",
       "      <td>2</td>\n",
       "      <td>-1</td>\n",
       "      <td>0</td>\n",
       "      <td>unknown</td>\n",
       "      <td>yes</td>\n",
       "    </tr>\n",
       "  </tbody>\n",
       "</table>\n",
       "</div>"
      ],
      "text/plain": [
       "   age         job  marital  education default       balance housing loan  \\\n",
       "0   59      admin.  married  secondary      no   2 343,00 $      yes   no   \n",
       "1   56      admin.  married  secondary      no      45,00 $       no   no   \n",
       "2   41  technician  married  secondary      no   1 270,00 $      yes   no   \n",
       "3   55    services  married  secondary      no   2 476,00 $      yes   no   \n",
       "4   54      admin.  married   tertiary      no     184,00 $       no   no   \n",
       "5   42  management   single   tertiary      no         0  $      yes  yes   \n",
       "\n",
       "   contact  day month  duration  campaign  pdays  previous poutcome deposit  \n",
       "0  unknown    5   may      1042         1     -1         0  unknown     yes  \n",
       "1  unknown    5   may      1467         1     -1         0  unknown     yes  \n",
       "2  unknown    5   may      1389         1     -1         0  unknown     yes  \n",
       "3  unknown    5   may       579         1     -1         0  unknown     yes  \n",
       "4  unknown    5   may       673         2     -1         0  unknown     yes  \n",
       "5  unknown    5   may       562         2     -1         0  unknown     yes  "
      ]
     },
     "execution_count": 3,
     "metadata": {},
     "output_type": "execute_result"
    }
   ],
   "source": [
    "df = pd.read_csv('bank_fin.csv', sep = ';')\n",
    "df.head(6)"
   ]
  },
  {
   "cell_type": "code",
   "execution_count": 4,
   "id": "ba11dc67",
   "metadata": {},
   "outputs": [
    {
     "data": {
      "text/plain": [
       "age           0\n",
       "job           0\n",
       "marital       0\n",
       "education     0\n",
       "default       0\n",
       "balance      25\n",
       "housing       0\n",
       "loan          0\n",
       "contact       0\n",
       "day           0\n",
       "month         0\n",
       "duration      0\n",
       "campaign      0\n",
       "pdays         0\n",
       "previous      0\n",
       "poutcome      0\n",
       "deposit       0\n",
       "dtype: int64"
      ]
     },
     "execution_count": 4,
     "metadata": {},
     "output_type": "execute_result"
    }
   ],
   "source": [
    "# исследуйте данные на предмет пропусков. Где есть пропущенные значения? Сколько их?\n",
    "# ваш код\n",
    "df.isna().sum()\n"
   ]
  },
  {
   "cell_type": "markdown",
   "id": "6366f059",
   "metadata": {},
   "source": [
    "### Задание 2"
   ]
  },
  {
   "cell_type": "code",
   "execution_count": 5,
   "id": "98ea29d4",
   "metadata": {},
   "outputs": [
    {
     "name": "stdout",
     "output_type": "stream",
     "text": [
      "age : [59 56 41 55 54 42 60 37 28 38 30 29 46 31 35 32 49 43 26 40 33 23 48 45\n",
      " 36 52 53 39 57 51 44 24 50 27 34 47 25 58 61 68 75 22 69 66 85 72 90 67\n",
      " 71 21 74 65 62 83 70 76 77 19 73 63 20 78 95 64 79 82 18 86 84 87 92 81\n",
      " 80 93 88 89]\n",
      "job : ['admin.' 'technician' 'services' 'management' 'retired' 'blue-collar'\n",
      " 'unemployed' 'entrepreneur' 'housemaid' 'unknown' 'self-employed'\n",
      " 'student']\n",
      "marital : ['married' 'single' 'divorced']\n",
      "education : ['secondary' 'tertiary' 'primary' 'unknown']\n",
      "default : ['no' 'yes']\n",
      "balance : [' 2 343,00 $ ' ' 45,00 $ ' ' 1 270,00 $ ' ... ' 1 594,00 $ '\n",
      " ' 2 593,00 $ ' '-134,00 $ ']\n",
      "housing : ['yes' 'no']\n",
      "loan : ['no' 'yes']\n",
      "contact : ['unknown' 'cellular' 'telephone']\n",
      "day : [ 5  6  7  8  9 12 13 14 15 16 19 20 21 23 26 27 28 29 30  2  3  4 11 17\n",
      " 18 24  1 10 22 25 31]\n",
      "month : ['may' 'jun' 'jul' 'aug' 'oct' 'nov' 'dec' 'jan' 'feb' 'mar' 'apr' 'sep']\n",
      "duration : [1042 1467 1389 ... 1504  818 1812]\n",
      "campaign : [ 1  2  3  4  6  5  8 11  9 10 15 12 14  7 24 13 17 29 21 20 16 32 19 25\n",
      " 22 43 18 41 63 27 30 26 23 28 33 31]\n",
      "pdays : [ -1 166  91 147 170 150 171 126 182 110 198 174 175  27 128 100 177 167\n",
      " 122 183 195 133 178  34  10 163 184 154  99  93   2 242 272  76 160  90\n",
      " 196 246 238 203 268 189 267  92   9  88  85 210 257 261 270 106 199 112\n",
      "  41 294 231 239 302 135 307 222 138 323 141 320 264 316 315 256 146 328\n",
      "  74 148 327 341 145 266 234 345 318 325 274 343 260 305 344 254 180 340\n",
      "  82 181 278 153   4 349 334 176  87 269  86 169  83  79   6 259  13 161\n",
      " 350  84  80 164  22 296  66 263 333  17  89  78 286 337 364 188 342 363\n",
      " 352 295 353 356 288 367 366 359 347 370 284 300 306 361 287 301 355 371\n",
      " 292 360 358 346 357 368 312 179 329 298 372 374 375 291  95 109  94  98\n",
      " 186 101 187 321  40  96  21  35  97 285 103 212 293  81  38  28  67  60\n",
      " 120  55 113  71 119  72  20 391  50 207 105 314 211 140 104  65 395 399\n",
      "  49 389 386 412  62 229 385 156  63  64  69 394  70 185 102 190 461 116\n",
      " 422 457 430 192 462 403 191 459 397 197 173 271 428 392 193 474 475 477\n",
      " 130 283 157 476 131 132 129 134 114 121 107 115  58  57 143 208 335 149\n",
      " 139  52  75 515 111  56 194 520 213 351 273 162 378 279 200 201 310 275\n",
      " 127 165 309 313 216 209 282 202 436 433 142 172 281  48 276 297 280 446\n",
      " 558 616 561 553 555 262 265 384 388 152 390 322 205 326 478 339 155 421\n",
      " 223 626 426 236 206 348 595 311 648 304 521 369 449 398  53 258 479 237\n",
      " 425 376 224 227 225 144 586 450 424 776 251 460 683 158 529 377 415 244\n",
      " 407 458 532 481 445 535 784 491 440 455 277 470   1 435 437 728 414 518\n",
      " 308 828  31  43 761  29  44 579 466 125 504 427 749 365 769 469 587 792\n",
      " 854 842 603 444 232 690 137 442 541 550  73 439 420 168 243 387 204 503\n",
      " 124 290  77  14 221 409 782 332 330 804 551 230 405 319  37 123 417 490\n",
      " 463 362 805 544 472  33 495 253  36 299 324 235 401 117  68 774 228 317\n",
      " 255 336 233 486   5 778 771 245  42 338 354 373 772  59 247 331  61 381\n",
      " 108  15   8 241 136 159 250 217  12 826 594 303 151 404 717 289 252 651\n",
      " 214  24 701 118]\n",
      "previous : [ 0  1  4  2  3 10  7  9  5 29  6 13 17  8 11 30 22 58 21 14 26 12 19 55\n",
      " 23 15 20 27 16 41 40 28 18 37]\n",
      "poutcome : ['unknown' 'other' 'failure' 'success']\n",
      "deposit : ['yes' 'no']\n"
     ]
    }
   ],
   "source": [
    "# есть ли в признаке job пропущенные значения? Возможно, они обозначены каким-то специальным словом?\n",
    "# ваш код\n",
    "\n",
    "for column in df.columns:\n",
    "    print(column, ':', df[column].unique())"
   ]
  },
  {
   "cell_type": "markdown",
   "id": "8fcf4fcd",
   "metadata": {},
   "source": [
    "### Задание 3"
   ]
  },
  {
   "cell_type": "code",
   "execution_count": 6,
   "id": "3a01be5e",
   "metadata": {},
   "outputs": [
    {
     "data": {
      "text/html": [
       "<div>\n",
       "<style scoped>\n",
       "    .dataframe tbody tr th:only-of-type {\n",
       "        vertical-align: middle;\n",
       "    }\n",
       "\n",
       "    .dataframe tbody tr th {\n",
       "        vertical-align: top;\n",
       "    }\n",
       "\n",
       "    .dataframe thead th {\n",
       "        text-align: right;\n",
       "    }\n",
       "</style>\n",
       "<table border=\"1\" class=\"dataframe\">\n",
       "  <thead>\n",
       "    <tr style=\"text-align: right;\">\n",
       "      <th></th>\n",
       "      <th>age</th>\n",
       "      <th>job</th>\n",
       "      <th>marital</th>\n",
       "      <th>education</th>\n",
       "      <th>default</th>\n",
       "      <th>balance</th>\n",
       "      <th>housing</th>\n",
       "      <th>loan</th>\n",
       "      <th>contact</th>\n",
       "      <th>day</th>\n",
       "      <th>month</th>\n",
       "      <th>duration</th>\n",
       "      <th>campaign</th>\n",
       "      <th>pdays</th>\n",
       "      <th>previous</th>\n",
       "      <th>poutcome</th>\n",
       "      <th>deposit</th>\n",
       "    </tr>\n",
       "  </thead>\n",
       "  <tbody>\n",
       "    <tr>\n",
       "      <th>0</th>\n",
       "      <td>59</td>\n",
       "      <td>admin.</td>\n",
       "      <td>married</td>\n",
       "      <td>secondary</td>\n",
       "      <td>no</td>\n",
       "      <td>2343.0</td>\n",
       "      <td>yes</td>\n",
       "      <td>no</td>\n",
       "      <td>unknown</td>\n",
       "      <td>5</td>\n",
       "      <td>may</td>\n",
       "      <td>1042</td>\n",
       "      <td>1</td>\n",
       "      <td>-1</td>\n",
       "      <td>0</td>\n",
       "      <td>unknown</td>\n",
       "      <td>yes</td>\n",
       "    </tr>\n",
       "    <tr>\n",
       "      <th>1</th>\n",
       "      <td>56</td>\n",
       "      <td>admin.</td>\n",
       "      <td>married</td>\n",
       "      <td>secondary</td>\n",
       "      <td>no</td>\n",
       "      <td>45.0</td>\n",
       "      <td>no</td>\n",
       "      <td>no</td>\n",
       "      <td>unknown</td>\n",
       "      <td>5</td>\n",
       "      <td>may</td>\n",
       "      <td>1467</td>\n",
       "      <td>1</td>\n",
       "      <td>-1</td>\n",
       "      <td>0</td>\n",
       "      <td>unknown</td>\n",
       "      <td>yes</td>\n",
       "    </tr>\n",
       "    <tr>\n",
       "      <th>2</th>\n",
       "      <td>41</td>\n",
       "      <td>technician</td>\n",
       "      <td>married</td>\n",
       "      <td>secondary</td>\n",
       "      <td>no</td>\n",
       "      <td>1270.0</td>\n",
       "      <td>yes</td>\n",
       "      <td>no</td>\n",
       "      <td>unknown</td>\n",
       "      <td>5</td>\n",
       "      <td>may</td>\n",
       "      <td>1389</td>\n",
       "      <td>1</td>\n",
       "      <td>-1</td>\n",
       "      <td>0</td>\n",
       "      <td>unknown</td>\n",
       "      <td>yes</td>\n",
       "    </tr>\n",
       "    <tr>\n",
       "      <th>3</th>\n",
       "      <td>55</td>\n",
       "      <td>services</td>\n",
       "      <td>married</td>\n",
       "      <td>secondary</td>\n",
       "      <td>no</td>\n",
       "      <td>2476.0</td>\n",
       "      <td>yes</td>\n",
       "      <td>no</td>\n",
       "      <td>unknown</td>\n",
       "      <td>5</td>\n",
       "      <td>may</td>\n",
       "      <td>579</td>\n",
       "      <td>1</td>\n",
       "      <td>-1</td>\n",
       "      <td>0</td>\n",
       "      <td>unknown</td>\n",
       "      <td>yes</td>\n",
       "    </tr>\n",
       "    <tr>\n",
       "      <th>4</th>\n",
       "      <td>54</td>\n",
       "      <td>admin.</td>\n",
       "      <td>married</td>\n",
       "      <td>tertiary</td>\n",
       "      <td>no</td>\n",
       "      <td>184.0</td>\n",
       "      <td>no</td>\n",
       "      <td>no</td>\n",
       "      <td>unknown</td>\n",
       "      <td>5</td>\n",
       "      <td>may</td>\n",
       "      <td>673</td>\n",
       "      <td>2</td>\n",
       "      <td>-1</td>\n",
       "      <td>0</td>\n",
       "      <td>unknown</td>\n",
       "      <td>yes</td>\n",
       "    </tr>\n",
       "    <tr>\n",
       "      <th>5</th>\n",
       "      <td>42</td>\n",
       "      <td>management</td>\n",
       "      <td>single</td>\n",
       "      <td>tertiary</td>\n",
       "      <td>no</td>\n",
       "      <td>0.0</td>\n",
       "      <td>yes</td>\n",
       "      <td>yes</td>\n",
       "      <td>unknown</td>\n",
       "      <td>5</td>\n",
       "      <td>may</td>\n",
       "      <td>562</td>\n",
       "      <td>2</td>\n",
       "      <td>-1</td>\n",
       "      <td>0</td>\n",
       "      <td>unknown</td>\n",
       "      <td>yes</td>\n",
       "    </tr>\n",
       "  </tbody>\n",
       "</table>\n",
       "</div>"
      ],
      "text/plain": [
       "   age         job  marital  education default  balance housing loan  contact  \\\n",
       "0   59      admin.  married  secondary      no   2343.0     yes   no  unknown   \n",
       "1   56      admin.  married  secondary      no     45.0      no   no  unknown   \n",
       "2   41  technician  married  secondary      no   1270.0     yes   no  unknown   \n",
       "3   55    services  married  secondary      no   2476.0     yes   no  unknown   \n",
       "4   54      admin.  married   tertiary      no    184.0      no   no  unknown   \n",
       "5   42  management   single   tertiary      no      0.0     yes  yes  unknown   \n",
       "\n",
       "   day month  duration  campaign  pdays  previous poutcome deposit  \n",
       "0    5   may      1042         1     -1         0  unknown     yes  \n",
       "1    5   may      1467         1     -1         0  unknown     yes  \n",
       "2    5   may      1389         1     -1         0  unknown     yes  \n",
       "3    5   may       579         1     -1         0  unknown     yes  \n",
       "4    5   may       673         2     -1         0  unknown     yes  \n",
       "5    5   may       562         2     -1         0  unknown     yes  "
      ]
     },
     "execution_count": 6,
     "metadata": {},
     "output_type": "execute_result"
    }
   ],
   "source": [
    "# преобразуйте признак balance таким образом, чтобы он корректно считывался, как вещественное число (float)\n",
    "df['balance'] = df[~df['balance'].isnull()]['balance'].apply(lambda x: float(str(x).replace(',', '.').replace(' ', '')[:-1]))\n",
    "df.head(6)"
   ]
  },
  {
   "cell_type": "markdown",
   "id": "6de63fd7",
   "metadata": {},
   "source": [
    "### Задание 4"
   ]
  },
  {
   "cell_type": "code",
   "execution_count": 7,
   "id": "6a684a63",
   "metadata": {},
   "outputs": [
    {
     "name": "stdout",
     "output_type": "stream",
     "text": [
      "1529.129\n",
      "<class 'pandas.core.frame.DataFrame'>\n",
      "RangeIndex: 11162 entries, 0 to 11161\n",
      "Data columns (total 17 columns):\n",
      " #   Column     Non-Null Count  Dtype  \n",
      "---  ------     --------------  -----  \n",
      " 0   age        11162 non-null  int64  \n",
      " 1   job        11162 non-null  object \n",
      " 2   marital    11162 non-null  object \n",
      " 3   education  11162 non-null  object \n",
      " 4   default    11162 non-null  object \n",
      " 5   balance    11162 non-null  float64\n",
      " 6   housing    11162 non-null  object \n",
      " 7   loan       11162 non-null  object \n",
      " 8   contact    11162 non-null  object \n",
      " 9   day        11162 non-null  int64  \n",
      " 10  month      11162 non-null  object \n",
      " 11  duration   11162 non-null  int64  \n",
      " 12  campaign   11162 non-null  int64  \n",
      " 13  pdays      11162 non-null  int64  \n",
      " 14  previous   11162 non-null  int64  \n",
      " 15  poutcome   11162 non-null  object \n",
      " 16  deposit    11162 non-null  object \n",
      "dtypes: float64(1), int64(6), object(10)\n",
      "memory usage: 1.4+ MB\n"
     ]
    }
   ],
   "source": [
    "# обработайте пропуски в признаки balance , заменив их на медианные значения по данному признаку\n",
    "# ваш код\n",
    "print(np.round(np.mean(df['balance']),3))\n",
    "df['balance'] = df['balance'].fillna(df['balance'].median())\n",
    "df.info()"
   ]
  },
  {
   "cell_type": "code",
   "execution_count": 8,
   "id": "42d39e18",
   "metadata": {},
   "outputs": [
    {
     "name": "stdout",
     "output_type": "stream",
     "text": [
      "1526.936\n"
     ]
    }
   ],
   "source": [
    "print(np.round(np.mean(df['balance']),3))"
   ]
  },
  {
   "cell_type": "markdown",
   "id": "1097ec42",
   "metadata": {},
   "source": [
    "### Задание 5"
   ]
  },
  {
   "cell_type": "code",
   "execution_count": 9,
   "id": "0fa070a6",
   "metadata": {},
   "outputs": [],
   "source": [
    "# обработайте пропуски в категориальных признаках: job и education, заменив их на модальные значения\n",
    "# ваш код\n",
    "df['job'] = df['job'].apply(lambda x: df['job'].mode()[0] if x == 'unknown' else x)\n",
    "df['education'] = df['education'].apply(lambda x: df['education'].mode()[0] if x == 'unknown' else x)"
   ]
  },
  {
   "cell_type": "code",
   "execution_count": 10,
   "id": "bf72ae42",
   "metadata": {},
   "outputs": [
    {
     "name": "stdout",
     "output_type": "stream",
     "text": [
      "1598.883\n"
     ]
    }
   ],
   "source": [
    "print(round(df[(df['job']==df['job'].value_counts().index[0]) & (df['education']==df['education'].value_counts().index[0])]['balance'].mean(), 3))"
   ]
  },
  {
   "cell_type": "markdown",
   "id": "02af77c6",
   "metadata": {},
   "source": [
    "### Задание 6"
   ]
  },
  {
   "cell_type": "code",
   "execution_count": 11,
   "id": "3802cdd9",
   "metadata": {},
   "outputs": [
    {
     "data": {
      "text/plain": [
       "(10105, 17)"
      ]
     },
     "execution_count": 11,
     "metadata": {},
     "output_type": "execute_result"
    }
   ],
   "source": [
    "# удалите все выбросы для признака balance\n",
    "# ваш код\n",
    "IQR = df['balance'].quantile(0.75) - df['balance'].quantile(0.25)\n",
    "df = df[(df['balance'] >= df['balance'].quantile(0.25) - 1.5*IQR) & (df['balance'] <= df['balance'].quantile(0.75) + 1.5*IQR)]\n",
    "df.shape"
   ]
  },
  {
   "cell_type": "markdown",
   "id": "5d22b8cd",
   "metadata": {},
   "source": [
    "## Часть 2:  Разведывательный анализ"
   ]
  },
  {
   "cell_type": "markdown",
   "id": "21e1f083",
   "metadata": {},
   "source": [
    "### Задание 1"
   ]
  },
  {
   "cell_type": "code",
   "execution_count": 12,
   "id": "6d0cd3a8",
   "metadata": {},
   "outputs": [
    {
     "name": "stdout",
     "output_type": "stream",
     "text": [
      "no     5424\n",
      "yes    4681\n",
      "Name: deposit, dtype: int64\n",
      "no     0.536764\n",
      "yes    0.463236\n",
      "Name: deposit, dtype: float64\n"
     ]
    },
    {
     "data": {
      "text/plain": [
       "Text(0.5, 1.0, 'проверка сбалансированности целевой переменной')"
      ]
     },
     "execution_count": 12,
     "metadata": {},
     "output_type": "execute_result"
    },
    {
     "data": {
      "image/png": "[encoded data removed]",
      "text/plain": [
       "<Figure size 216x360 with 1 Axes>"
      ]
     },
     "metadata": {
      "needs_background": "light"
     },
     "output_type": "display_data"
    }
   ],
   "source": [
    "# изучите соотношение классов в ваших данных на предмет несбалансированности, проиллюстрируйте результат\n",
    "# ваш код\n",
    "print(df['deposit'].value_counts())\n",
    "print(df['deposit'].value_counts(normalize=True))\n",
    "fig, ax = plt.subplots(figsize = (3, 5))\n",
    "sns.histplot(df['deposit'])\n",
    "ax.set_title('проверка сбалансированности целевой переменной')"
   ]
  },
  {
   "cell_type": "markdown",
   "id": "426b1d40",
   "metadata": {},
   "source": [
    "### Задания 2 и 3"
   ]
  },
  {
   "cell_type": "code",
   "execution_count": 13,
   "id": "8f7b33a2",
   "metadata": {},
   "outputs": [
    {
     "data": {
      "text/html": [
       "<div>\n",
       "<style scoped>\n",
       "    .dataframe tbody tr th:only-of-type {\n",
       "        vertical-align: middle;\n",
       "    }\n",
       "\n",
       "    .dataframe tbody tr th {\n",
       "        vertical-align: top;\n",
       "    }\n",
       "\n",
       "    .dataframe thead th {\n",
       "        text-align: right;\n",
       "    }\n",
       "</style>\n",
       "<table border=\"1\" class=\"dataframe\">\n",
       "  <thead>\n",
       "    <tr style=\"text-align: right;\">\n",
       "      <th></th>\n",
       "      <th>age</th>\n",
       "      <th>balance</th>\n",
       "      <th>day</th>\n",
       "      <th>duration</th>\n",
       "      <th>campaign</th>\n",
       "      <th>pdays</th>\n",
       "      <th>previous</th>\n",
       "    </tr>\n",
       "  </thead>\n",
       "  <tbody>\n",
       "    <tr>\n",
       "      <th>count</th>\n",
       "      <td>10105.000000</td>\n",
       "      <td>10105.000000</td>\n",
       "      <td>10105.000000</td>\n",
       "      <td>10105.000000</td>\n",
       "      <td>10105.000000</td>\n",
       "      <td>10105.000000</td>\n",
       "      <td>10105.000000</td>\n",
       "    </tr>\n",
       "    <tr>\n",
       "      <th>mean</th>\n",
       "      <td>40.895497</td>\n",
       "      <td>807.653538</td>\n",
       "      <td>15.590302</td>\n",
       "      <td>368.742603</td>\n",
       "      <td>2.517170</td>\n",
       "      <td>51.319644</td>\n",
       "      <td>0.816230</td>\n",
       "    </tr>\n",
       "    <tr>\n",
       "      <th>std</th>\n",
       "      <td>11.734931</td>\n",
       "      <td>994.151966</td>\n",
       "      <td>8.441510</td>\n",
       "      <td>346.651524</td>\n",
       "      <td>2.707159</td>\n",
       "      <td>109.644179</td>\n",
       "      <td>2.243795</td>\n",
       "    </tr>\n",
       "    <tr>\n",
       "      <th>min</th>\n",
       "      <td>18.000000</td>\n",
       "      <td>-2049.000000</td>\n",
       "      <td>1.000000</td>\n",
       "      <td>2.000000</td>\n",
       "      <td>1.000000</td>\n",
       "      <td>-1.000000</td>\n",
       "      <td>0.000000</td>\n",
       "    </tr>\n",
       "    <tr>\n",
       "      <th>25%</th>\n",
       "      <td>32.000000</td>\n",
       "      <td>95.000000</td>\n",
       "      <td>8.000000</td>\n",
       "      <td>137.000000</td>\n",
       "      <td>1.000000</td>\n",
       "      <td>-1.000000</td>\n",
       "      <td>0.000000</td>\n",
       "    </tr>\n",
       "    <tr>\n",
       "      <th>50%</th>\n",
       "      <td>38.000000</td>\n",
       "      <td>445.000000</td>\n",
       "      <td>15.000000</td>\n",
       "      <td>252.000000</td>\n",
       "      <td>2.000000</td>\n",
       "      <td>-1.000000</td>\n",
       "      <td>0.000000</td>\n",
       "    </tr>\n",
       "    <tr>\n",
       "      <th>75%</th>\n",
       "      <td>48.000000</td>\n",
       "      <td>1227.000000</td>\n",
       "      <td>22.000000</td>\n",
       "      <td>490.000000</td>\n",
       "      <td>3.000000</td>\n",
       "      <td>2.000000</td>\n",
       "      <td>1.000000</td>\n",
       "    </tr>\n",
       "    <tr>\n",
       "      <th>max</th>\n",
       "      <td>95.000000</td>\n",
       "      <td>4063.000000</td>\n",
       "      <td>31.000000</td>\n",
       "      <td>3881.000000</td>\n",
       "      <td>43.000000</td>\n",
       "      <td>854.000000</td>\n",
       "      <td>58.000000</td>\n",
       "    </tr>\n",
       "  </tbody>\n",
       "</table>\n",
       "</div>"
      ],
      "text/plain": [
       "                age       balance           day      duration      campaign  \\\n",
       "count  10105.000000  10105.000000  10105.000000  10105.000000  10105.000000   \n",
       "mean      40.895497    807.653538     15.590302    368.742603      2.517170   \n",
       "std       11.734931    994.151966      8.441510    346.651524      2.707159   \n",
       "min       18.000000  -2049.000000      1.000000      2.000000      1.000000   \n",
       "25%       32.000000     95.000000      8.000000    137.000000      1.000000   \n",
       "50%       38.000000    445.000000     15.000000    252.000000      2.000000   \n",
       "75%       48.000000   1227.000000     22.000000    490.000000      3.000000   \n",
       "max       95.000000   4063.000000     31.000000   3881.000000     43.000000   \n",
       "\n",
       "              pdays      previous  \n",
       "count  10105.000000  10105.000000  \n",
       "mean      51.319644      0.816230  \n",
       "std      109.644179      2.243795  \n",
       "min       -1.000000      0.000000  \n",
       "25%       -1.000000      0.000000  \n",
       "50%       -1.000000      0.000000  \n",
       "75%        2.000000      1.000000  \n",
       "max      854.000000     58.000000  "
      ]
     },
     "execution_count": 13,
     "metadata": {},
     "output_type": "execute_result"
    }
   ],
   "source": [
    "#рассчитайте описательные статистики для количественных переменных, проинтерпретируйте результат\n",
    "#ваш код\n",
    "df.describe()"
   ]
  },
  {
   "cell_type": "code",
   "execution_count": 14,
   "id": "ef7a6989",
   "metadata": {},
   "outputs": [
    {
     "data": {
      "image/png": "[encoded data removed]",
      "text/plain": [
       "<Figure size 1080x2160 with 7 Axes>"
      ]
     },
     "metadata": {
      "needs_background": "light"
     },
     "output_type": "display_data"
    }
   ],
   "source": [
    "numeric_features = []\n",
    "for column in df.columns:\n",
    "    if (df[column].dtype == 'float') or (df[column].dtype == 'int64'): \n",
    "        numeric_features.append(column)\n",
    "        \n",
    "fig, axes = plt.subplots(ncols=1, nrows=len(numeric_features), figsize = (15, 30))\n",
    "for index, feature in enumerate(numeric_features):\n",
    "    sns.countplot(df[feature], ax=axes[index])\n",
    "    axes[index].set_title(f'{feature} distribution', loc='right')"
   ]
  },
  {
   "attachments": {},
   "cell_type": "markdown",
   "id": "bf242cfc",
   "metadata": {},
   "source": [
    "### Выводы\n",
    "1. balance, duration, pdays!, - ненормальное распределение\n",
    "2. duration, campaign, previous - выбросы\n"
   ]
  },
  {
   "cell_type": "markdown",
   "id": "821dc39e",
   "metadata": {},
   "source": [
    "### Задания 4 и 5"
   ]
  },
  {
   "cell_type": "code",
   "execution_count": 15,
   "id": "bf45afc9",
   "metadata": {},
   "outputs": [
    {
     "data": {
      "text/html": [
       "<div>\n",
       "<style scoped>\n",
       "    .dataframe tbody tr th:only-of-type {\n",
       "        vertical-align: middle;\n",
       "    }\n",
       "\n",
       "    .dataframe tbody tr th {\n",
       "        vertical-align: top;\n",
       "    }\n",
       "\n",
       "    .dataframe thead th {\n",
       "        text-align: right;\n",
       "    }\n",
       "</style>\n",
       "<table border=\"1\" class=\"dataframe\">\n",
       "  <thead>\n",
       "    <tr style=\"text-align: right;\">\n",
       "      <th></th>\n",
       "      <th>job</th>\n",
       "      <th>marital</th>\n",
       "      <th>education</th>\n",
       "      <th>default</th>\n",
       "      <th>housing</th>\n",
       "      <th>loan</th>\n",
       "      <th>contact</th>\n",
       "      <th>month</th>\n",
       "      <th>poutcome</th>\n",
       "      <th>deposit</th>\n",
       "    </tr>\n",
       "  </thead>\n",
       "  <tbody>\n",
       "    <tr>\n",
       "      <th>count</th>\n",
       "      <td>10105</td>\n",
       "      <td>10105</td>\n",
       "      <td>10105</td>\n",
       "      <td>10105</td>\n",
       "      <td>10105</td>\n",
       "      <td>10105</td>\n",
       "      <td>10105</td>\n",
       "      <td>10105</td>\n",
       "      <td>10105</td>\n",
       "      <td>10105</td>\n",
       "    </tr>\n",
       "    <tr>\n",
       "      <th>unique</th>\n",
       "      <td>11</td>\n",
       "      <td>3</td>\n",
       "      <td>3</td>\n",
       "      <td>2</td>\n",
       "      <td>2</td>\n",
       "      <td>2</td>\n",
       "      <td>3</td>\n",
       "      <td>12</td>\n",
       "      <td>4</td>\n",
       "      <td>2</td>\n",
       "    </tr>\n",
       "    <tr>\n",
       "      <th>top</th>\n",
       "      <td>management</td>\n",
       "      <td>married</td>\n",
       "      <td>secondary</td>\n",
       "      <td>no</td>\n",
       "      <td>no</td>\n",
       "      <td>no</td>\n",
       "      <td>cellular</td>\n",
       "      <td>may</td>\n",
       "      <td>unknown</td>\n",
       "      <td>no</td>\n",
       "    </tr>\n",
       "    <tr>\n",
       "      <th>freq</th>\n",
       "      <td>2315</td>\n",
       "      <td>5715</td>\n",
       "      <td>5517</td>\n",
       "      <td>9939</td>\n",
       "      <td>5243</td>\n",
       "      <td>8712</td>\n",
       "      <td>7283</td>\n",
       "      <td>2617</td>\n",
       "      <td>7570</td>\n",
       "      <td>5424</td>\n",
       "    </tr>\n",
       "  </tbody>\n",
       "</table>\n",
       "</div>"
      ],
      "text/plain": [
       "               job  marital  education default housing   loan   contact  \\\n",
       "count        10105    10105      10105   10105   10105  10105     10105   \n",
       "unique          11        3          3       2       2      2         3   \n",
       "top     management  married  secondary      no      no     no  cellular   \n",
       "freq          2315     5715       5517    9939    5243   8712      7283   \n",
       "\n",
       "        month poutcome deposit  \n",
       "count   10105    10105   10105  \n",
       "unique     12        4       2  \n",
       "top       may  unknown      no  \n",
       "freq     2617     7570    5424  "
      ]
     },
     "execution_count": 15,
     "metadata": {},
     "output_type": "execute_result"
    }
   ],
   "source": [
    "#рассчитайте описательные статистики для категориальных переменных, проинтерпретируйте результат\n",
    "#ваш код\n",
    "#постройте визуализации, иллюстрирующие результаты\n",
    "df.describe(include = 'object')"
   ]
  },
  {
   "cell_type": "code",
   "execution_count": 16,
   "id": "76f23029",
   "metadata": {},
   "outputs": [
    {
     "data": {
      "image/png": "[encoded data removed]",
      "text/plain": [
       "<Figure size 1080x2160 with 10 Axes>"
      ]
     },
     "metadata": {
      "needs_background": "light"
     },
     "output_type": "display_data"
    }
   ],
   "source": [
    "categorical_features = []\n",
    "for column in df.columns:\n",
    "    if df[column].dtype == 'object':\n",
    "        categorical_features.append(column)\n",
    "\n",
    "fig, axes = plt.subplots(ncols=1, nrows=len(categorical_features), figsize = (15, 30))\n",
    "for index, feature in enumerate(categorical_features):\n",
    "    sns.countplot(df[feature], ax=axes[index])\n",
    "    axes[index].set_title(f'{feature} distribution', loc='right')\n"
   ]
  },
  {
   "attachments": {},
   "cell_type": "markdown",
   "id": "0c0944ae",
   "metadata": {},
   "source": [
    "Выводы\n",
    "- кампания была активнее всего в мае\n",
    "- unknow Преобладает в poutcome \n",
    "- у большинства нет кредита (loan) \n",
    "- у большинства мобильный телефон (cellular)\n",
    "- у большинства есть кредит на жилье (housing)\n",
    "- у подавляющего большинства нет задолженностей\n",
    "- у большинства secondary education\n",
    "- у большинства status married\n",
    "- много признаков только для months (12) и jobs(11)"
   ]
  },
  {
   "cell_type": "markdown",
   "id": "472cff5b",
   "metadata": {},
   "source": [
    "### Задание 6"
   ]
  },
  {
   "cell_type": "code",
   "execution_count": 17,
   "id": "2d640ce1",
   "metadata": {},
   "outputs": [
    {
     "data": {
      "text/plain": [
       "poutcome  deposit\n",
       "failure   no         0.506763\n",
       "          yes        0.493237\n",
       "other     yes        0.550936\n",
       "          no         0.449064\n",
       "success   yes        0.911111\n",
       "          no         0.088889\n",
       "unknown   no         0.602642\n",
       "          yes        0.397358\n",
       "Name: deposit, dtype: float64"
      ]
     },
     "execution_count": 17,
     "metadata": {},
     "output_type": "execute_result"
    }
   ],
   "source": [
    "# Узнайте, для какого статуса предыдущей маркетинговой кампании успех в текущей превалирует над количеством неудач.\n",
    "# ваш код\n",
    "df.groupby('poutcome')['deposit'].value_counts(normalize=True)"
   ]
  },
  {
   "cell_type": "markdown",
   "id": "9c32e3aa",
   "metadata": {},
   "source": [
    "### Задание 7"
   ]
  },
  {
   "cell_type": "code",
   "execution_count": 18,
   "id": "df437ec3",
   "metadata": {},
   "outputs": [
    {
     "data": {
      "text/plain": [
       "month\n",
       "may    0.67864\n",
       "Name: deposit, dtype: float64"
      ]
     },
     "execution_count": 18,
     "metadata": {},
     "output_type": "execute_result"
    }
   ],
   "source": [
    "# узнайте, в каком месяце чаще всего отказывались от предложения открыть депозит\n",
    "# ваш код\n",
    "(df[df['deposit'] == 'no'].groupby('month')['deposit'].count()/df.groupby('month')['deposit'].count()).nlargest(1)"
   ]
  },
  {
   "cell_type": "markdown",
   "id": "5f20762f",
   "metadata": {},
   "source": [
    "### Задание 8"
   ]
  },
  {
   "cell_type": "code",
   "execution_count": 19,
   "id": "95d56f1b",
   "metadata": {},
   "outputs": [
    {
     "data": {
      "text/plain": [
       "Text(0.5, 1.0, 'Зависимость открытия депозита/отказа  от возраста')"
      ]
     },
     "execution_count": 19,
     "metadata": {},
     "output_type": "execute_result"
    },
    {
     "data": {
      "image/png": "[encoded data removed]",
      "text/plain": [
       "<Figure size 720x432 with 1 Axes>"
      ]
     },
     "metadata": {
      "needs_background": "light"
     },
     "output_type": "display_data"
    }
   ],
   "source": [
    "# создайте возрастные группы и определите, в каких группах более склонны открывать депозит, чем отказываться от предложения\n",
    "def age_category(age):\n",
    "    if age < 30:\n",
    "        return '<30'\n",
    "    elif age < 40:\n",
    "        return '30-40'\n",
    "    elif age < 50:\n",
    "        return '40-50'\n",
    "    elif age < 60:\n",
    "        return '50-60'\n",
    "    else:\n",
    "        return '60+'\n",
    "\n",
    "df['age_cat'] = df['age'].apply(age_category)\n",
    "\n",
    "fig, ax = plt.subplots(figsize = (10, 6))\n",
    "sns.countplot(df['age_cat'], hue=df['deposit'])\n",
    "ax.set_title('Зависимость открытия депозита/отказа  от возраста')"
   ]
  },
  {
   "cell_type": "markdown",
   "id": "0841c685",
   "metadata": {},
   "source": [
    "### Задания 9 и 10"
   ]
  },
  {
   "cell_type": "code",
   "execution_count": 20,
   "id": "0d84a9e1",
   "metadata": {},
   "outputs": [
    {
     "data": {
      "text/plain": [
       "Text(0.5, 1.0, 'Зависимость открытия депозита/отказа от семейного статуса')"
      ]
     },
     "execution_count": 20,
     "metadata": {},
     "output_type": "execute_result"
    },
    {
     "data": {
      "image/png": "[encoded data removed]",
      "text/plain": [
       "<Figure size 720x432 with 1 Axes>"
      ]
     },
     "metadata": {
      "needs_background": "light"
     },
     "output_type": "display_data"
    }
   ],
   "source": [
    "# постройте визуализации для открывших и неоткрывших депозит в зависимости от семейного статуса\n",
    "fig, ax = plt.subplots(figsize = (10,6))\n",
    "sns.countplot(df['marital'], hue = df['deposit'])\n",
    "ax.set_title('Зависимость открытия депозита/отказа от семейного статуса')"
   ]
  },
  {
   "cell_type": "code",
   "execution_count": 21,
   "id": "16333967",
   "metadata": {},
   "outputs": [
    {
     "data": {
      "text/plain": [
       "Text(0.5, 1.0, 'Зависимость открытия депозита/отказа от образования')"
      ]
     },
     "execution_count": 21,
     "metadata": {},
     "output_type": "execute_result"
    },
    {
     "data": {
      "image/png": "[encoded data removed]",
      "text/plain": [
       "<Figure size 720x432 with 1 Axes>"
      ]
     },
     "metadata": {
      "needs_background": "light"
     },
     "output_type": "display_data"
    }
   ],
   "source": [
    "# постройте визуализации для открывших и неоткрывших депозит в зависимости от образования\n",
    "fig, ax = plt.subplots(figsize = (10,6))\n",
    "sns.countplot(df['education'], hue = df['deposit'])\n",
    "ax.set_title('Зависимость открытия депозита/отказа от образования')"
   ]
  },
  {
   "cell_type": "code",
   "execution_count": 22,
   "id": "738224f8",
   "metadata": {},
   "outputs": [
    {
     "data": {
      "image/png": "[encoded data removed]",
      "text/plain": [
       "<Figure size 720x432 with 1 Axes>"
      ]
     },
     "metadata": {
      "needs_background": "light"
     },
     "output_type": "display_data"
    }
   ],
   "source": [
    "# постройте визуализации для открывших и неоткрывших депозит в зависимости от вида профессиональной занятости\n",
    "fig, ax = plt.subplots(figsize = (10,6))\n",
    "sns.countplot(df['job'], hue = df['deposit'])\n",
    "ax.set_title('Зависимость открытия депозита/отказа от занятости')\n",
    "ax.xaxis.set_tick_params(rotation = 45)"
   ]
  },
  {
   "cell_type": "code",
   "execution_count": 23,
   "id": "7589f04c",
   "metadata": {},
   "outputs": [
    {
     "data": {
      "text/plain": [
       "job         job       \n",
       "management  management    2315\n",
       "Name: job, dtype: int64"
      ]
     },
     "execution_count": 23,
     "metadata": {},
     "output_type": "execute_result"
    }
   ],
   "source": [
    "df.groupby('job')['job'].value_counts().nlargest(1)"
   ]
  },
  {
   "cell_type": "markdown",
   "id": "a521e204",
   "metadata": {},
   "source": [
    "### Задание 11"
   ]
  },
  {
   "cell_type": "code",
   "execution_count": 24,
   "id": "35ab0413",
   "metadata": {},
   "outputs": [
    {
     "name": "stdout",
     "output_type": "stream",
     "text": [
      "marital    divorced  married  single\n",
      "education                           \n",
      "primary          96      339      82\n",
      "secondary       283     1289     879\n",
      "tertiary        174      784     755\n"
     ]
    },
    {
     "data": {
      "text/plain": [
       "<AxesSubplot:xlabel='marital', ylabel='education'>"
      ]
     },
     "execution_count": 24,
     "metadata": {},
     "output_type": "execute_result"
    },
    {
     "data": {
      "image/png": "[encoded data removed]",
      "text/plain": [
       "<Figure size 432x288 with 2 Axes>"
      ]
     },
     "metadata": {
      "needs_background": "light"
     },
     "output_type": "display_data"
    }
   ],
   "source": [
    "# постройте сводную таблицу, чтобы определить люди с каким образованием и семейным статусом наиболее многочисленны\n",
    "#(если рассматривать тех, кто открыл депозит)\n",
    "df_yes = df[df['deposit'] == 'yes']\n",
    "pivot_yes = pd.pivot_table(df_yes, index ='education', columns ='marital', values = 'deposit', aggfunc ='count')\n",
    "print(pivot_yes )\n",
    "sns.heatmap(pivot_yes, annot=True, fmt = '.2f') "
   ]
  },
  {
   "cell_type": "code",
   "execution_count": 25,
   "id": "0c49775e",
   "metadata": {},
   "outputs": [
    {
     "name": "stdout",
     "output_type": "stream",
     "text": [
      "marital    divorced  married  single\n",
      "education                           \n",
      "primary          91      641     100\n",
      "secondary       370     1830     866\n",
      "tertiary        163      832     531\n"
     ]
    },
    {
     "data": {
      "text/plain": [
       "<AxesSubplot:xlabel='marital', ylabel='education'>"
      ]
     },
     "execution_count": 25,
     "metadata": {},
     "output_type": "execute_result"
    },
    {
     "data": {
      "image/png": "[encoded data removed]",
      "text/plain": [
       "<Figure size 432x288 with 2 Axes>"
      ]
     },
     "metadata": {
      "needs_background": "light"
     },
     "output_type": "display_data"
    }
   ],
   "source": [
    "df_no = df[df['deposit'] == 'no']\n",
    "pivot_no = pd.pivot_table(df_no, index ='education', columns ='marital', values = 'deposit', aggfunc ='count')\n",
    "print(pivot_no )\n",
    "sns.heatmap(pivot_no, annot=True, fmt = '.2f') "
   ]
  },
  {
   "attachments": {},
   "cell_type": "markdown",
   "id": "9ed037f0",
   "metadata": {},
   "source": [
    "### вывод\n",
    "одни и те же сочетания признаков наиболее популярны как среди открывших кредит, так и среди не открывших. Здесь нет зависимости отказа от сочетания признаков"
   ]
  },
  {
   "cell_type": "markdown",
   "id": "dfd805c0",
   "metadata": {},
   "source": [
    "## Часть 3: преобразование данных"
   ]
  },
  {
   "cell_type": "markdown",
   "id": "e44e715b",
   "metadata": {},
   "source": [
    "### Задание 1"
   ]
  },
  {
   "cell_type": "code",
   "execution_count": 27,
   "id": "1e815773",
   "metadata": {},
   "outputs": [
    {
     "data": {
      "text/plain": [
       "11995"
      ]
     },
     "execution_count": 27,
     "metadata": {},
     "output_type": "execute_result"
    }
   ],
   "source": [
    "# преобразуйте уровни образования\n",
    "education_encoder = LabelEncoder()\n",
    "education_encoder.fit(df['education'])\n",
    "df['education'] = education_encoder.transform(df['education'])\n",
    "df['education'].sum()"
   ]
  },
  {
   "cell_type": "code",
   "execution_count": 28,
   "id": "a9b1f767",
   "metadata": {},
   "outputs": [],
   "source": [
    "# преобразуем возрастные группы с помощью порядкового кодирования\n",
    "age_encoder = LabelEncoder()\n",
    "df['age_cat'] = age_encoder.fit_transform(df['age_cat'])"
   ]
  },
  {
   "cell_type": "markdown",
   "id": "8c93e73d",
   "metadata": {},
   "source": [
    "### Задания 2 и 3"
   ]
  },
  {
   "cell_type": "code",
   "execution_count": 29,
   "id": "626a5762",
   "metadata": {},
   "outputs": [],
   "source": [
    "# преобразуйте бинарные переменные в представление из нулей и единиц для 'deposit'\n",
    "df['deposit'] = df['deposit'].replace({'yes': 1, 'no': 0})"
   ]
  },
  {
   "cell_type": "code",
   "execution_count": 30,
   "id": "fb4a044a",
   "metadata": {},
   "outputs": [
    {
     "name": "stdout",
     "output_type": "stream",
     "text": [
      "0.499\n"
     ]
    }
   ],
   "source": [
    "print(round(df['deposit'].std(), 3))"
   ]
  },
  {
   "cell_type": "code",
   "execution_count": 31,
   "id": "32474bd2",
   "metadata": {},
   "outputs": [],
   "source": [
    "# преобразуйте бинарные переменные в представление из нулей и единиц для других признаков ('loan', 'default', 'housing')\n",
    "binary_features = ['loan', 'default', 'housing']\n",
    "for feature in binary_features:\n",
    "    df[feature] = df[feature].apply(lambda x: 0 if x == 'no' else 1)"
   ]
  },
  {
   "cell_type": "code",
   "execution_count": 32,
   "metadata": {},
   "outputs": [
    {
     "name": "stdout",
     "output_type": "stream",
     "text": [
      "0.635\n"
     ]
    }
   ],
   "source": [
    "print(round((df['housing'].mean() + df['loan'].mean() + df['default'].mean()),3))"
   ]
  },
  {
   "cell_type": "markdown",
   "id": "c40dc02a",
   "metadata": {},
   "source": [
    "### Задание 4"
   ]
  },
  {
   "cell_type": "code",
   "execution_count": 33,
   "id": "3c38b530",
   "metadata": {},
   "outputs": [
    {
     "name": "stdout",
     "output_type": "stream",
     "text": [
      "(10105, 18)\n",
      "(10105, 46)\n"
     ]
    }
   ],
   "source": [
    "# создайте дамми-переменные\n",
    "print(df.shape)\n",
    "df  = pd.get_dummies(df, columns=['job', 'marital', 'contact', 'month','poutcome'])\n",
    "print(df.shape)"
   ]
  },
  {
   "cell_type": "markdown",
   "id": "9a23e318",
   "metadata": {},
   "source": [
    "### Задания 5 и 6"
   ]
  },
  {
   "cell_type": "code",
   "execution_count": 34,
   "id": "1c884c1a",
   "metadata": {},
   "outputs": [
    {
     "data": {
      "text/html": [
       "<div>\n",
       "<style scoped>\n",
       "    .dataframe tbody tr th:only-of-type {\n",
       "        vertical-align: middle;\n",
       "    }\n",
       "\n",
       "    .dataframe tbody tr th {\n",
       "        vertical-align: top;\n",
       "    }\n",
       "\n",
       "    .dataframe thead th {\n",
       "        text-align: right;\n",
       "    }\n",
       "</style>\n",
       "<table border=\"1\" class=\"dataframe\">\n",
       "  <thead>\n",
       "    <tr style=\"text-align: right;\">\n",
       "      <th></th>\n",
       "      <th>age</th>\n",
       "      <th>education</th>\n",
       "      <th>default</th>\n",
       "      <th>balance</th>\n",
       "      <th>housing</th>\n",
       "      <th>loan</th>\n",
       "      <th>day</th>\n",
       "      <th>duration</th>\n",
       "      <th>campaign</th>\n",
       "      <th>pdays</th>\n",
       "      <th>...</th>\n",
       "      <th>month_jun</th>\n",
       "      <th>month_mar</th>\n",
       "      <th>month_may</th>\n",
       "      <th>month_nov</th>\n",
       "      <th>month_oct</th>\n",
       "      <th>month_sep</th>\n",
       "      <th>poutcome_failure</th>\n",
       "      <th>poutcome_other</th>\n",
       "      <th>poutcome_success</th>\n",
       "      <th>poutcome_unknown</th>\n",
       "    </tr>\n",
       "  </thead>\n",
       "  <tbody>\n",
       "    <tr>\n",
       "      <th>age</th>\n",
       "      <td>1.000000</td>\n",
       "      <td>-0.191124</td>\n",
       "      <td>-0.009929</td>\n",
       "      <td>0.115164</td>\n",
       "      <td>-0.164196</td>\n",
       "      <td>-0.026357</td>\n",
       "      <td>0.000396</td>\n",
       "      <td>-0.006007</td>\n",
       "      <td>-0.001143</td>\n",
       "      <td>0.006107</td>\n",
       "      <td>...</td>\n",
       "      <td>0.009769</td>\n",
       "      <td>0.024785</td>\n",
       "      <td>-0.119656</td>\n",
       "      <td>0.026875</td>\n",
       "      <td>0.056998</td>\n",
       "      <td>0.036352</td>\n",
       "      <td>0.001994</td>\n",
       "      <td>-0.020942</td>\n",
       "      <td>0.060009</td>\n",
       "      <td>-0.031455</td>\n",
       "    </tr>\n",
       "    <tr>\n",
       "      <th>education</th>\n",
       "      <td>-0.191124</td>\n",
       "      <td>1.000000</td>\n",
       "      <td>-0.015692</td>\n",
       "      <td>0.043251</td>\n",
       "      <td>-0.094350</td>\n",
       "      <td>-0.052566</td>\n",
       "      <td>0.008989</td>\n",
       "      <td>-0.016869</td>\n",
       "      <td>-0.012280</td>\n",
       "      <td>0.024123</td>\n",
       "      <td>...</td>\n",
       "      <td>-0.036503</td>\n",
       "      <td>0.052196</td>\n",
       "      <td>-0.104157</td>\n",
       "      <td>0.028704</td>\n",
       "      <td>0.027617</td>\n",
       "      <td>0.030846</td>\n",
       "      <td>0.019845</td>\n",
       "      <td>0.015103</td>\n",
       "      <td>0.070489</td>\n",
       "      <td>-0.069069</td>\n",
       "    </tr>\n",
       "    <tr>\n",
       "      <th>default</th>\n",
       "      <td>-0.009929</td>\n",
       "      <td>-0.015692</td>\n",
       "      <td>1.000000</td>\n",
       "      <td>-0.110928</td>\n",
       "      <td>0.009551</td>\n",
       "      <td>0.074786</td>\n",
       "      <td>0.018724</td>\n",
       "      <td>-0.008162</td>\n",
       "      <td>0.033404</td>\n",
       "      <td>-0.037323</td>\n",
       "      <td>...</td>\n",
       "      <td>0.019626</td>\n",
       "      <td>-0.020028</td>\n",
       "      <td>-0.001761</td>\n",
       "      <td>0.000544</td>\n",
       "      <td>-0.023931</td>\n",
       "      <td>-0.016977</td>\n",
       "      <td>-0.025450</td>\n",
       "      <td>-0.017923</td>\n",
       "      <td>-0.041510</td>\n",
       "      <td>0.055032</td>\n",
       "    </tr>\n",
       "    <tr>\n",
       "      <th>balance</th>\n",
       "      <td>0.115164</td>\n",
       "      <td>0.043251</td>\n",
       "      <td>-0.110928</td>\n",
       "      <td>1.000000</td>\n",
       "      <td>-0.094919</td>\n",
       "      <td>-0.113089</td>\n",
       "      <td>-0.009987</td>\n",
       "      <td>0.025781</td>\n",
       "      <td>-0.042689</td>\n",
       "      <td>0.045155</td>\n",
       "      <td>...</td>\n",
       "      <td>0.039753</td>\n",
       "      <td>0.043832</td>\n",
       "      <td>-0.098073</td>\n",
       "      <td>0.081861</td>\n",
       "      <td>0.057041</td>\n",
       "      <td>0.047841</td>\n",
       "      <td>0.031040</td>\n",
       "      <td>0.028111</td>\n",
       "      <td>0.073358</td>\n",
       "      <td>-0.085456</td>\n",
       "    </tr>\n",
       "    <tr>\n",
       "      <th>housing</th>\n",
       "      <td>-0.164196</td>\n",
       "      <td>-0.094350</td>\n",
       "      <td>0.009551</td>\n",
       "      <td>-0.094919</td>\n",
       "      <td>1.000000</td>\n",
       "      <td>0.072252</td>\n",
       "      <td>-0.022644</td>\n",
       "      <td>0.038492</td>\n",
       "      <td>0.006257</td>\n",
       "      <td>0.064138</td>\n",
       "      <td>...</td>\n",
       "      <td>-0.073133</td>\n",
       "      <td>-0.075948</td>\n",
       "      <td>0.432605</td>\n",
       "      <td>-0.000219</td>\n",
       "      <td>-0.092026</td>\n",
       "      <td>-0.086893</td>\n",
       "      <td>0.085167</td>\n",
       "      <td>0.009830</td>\n",
       "      <td>-0.134477</td>\n",
       "      <td>0.024082</td>\n",
       "    </tr>\n",
       "    <tr>\n",
       "      <th>loan</th>\n",
       "      <td>-0.026357</td>\n",
       "      <td>-0.052566</td>\n",
       "      <td>0.074786</td>\n",
       "      <td>-0.113089</td>\n",
       "      <td>0.072252</td>\n",
       "      <td>1.000000</td>\n",
       "      <td>0.019136</td>\n",
       "      <td>0.001476</td>\n",
       "      <td>0.033889</td>\n",
       "      <td>-0.030788</td>\n",
       "      <td>...</td>\n",
       "      <td>-0.014897</td>\n",
       "      <td>-0.041105</td>\n",
       "      <td>0.002778</td>\n",
       "      <td>0.017720</td>\n",
       "      <td>-0.032357</td>\n",
       "      <td>-0.046196</td>\n",
       "      <td>0.007458</td>\n",
       "      <td>-0.019289</td>\n",
       "      <td>-0.082098</td>\n",
       "      <td>0.059235</td>\n",
       "    </tr>\n",
       "    <tr>\n",
       "      <th>day</th>\n",
       "      <td>0.000396</td>\n",
       "      <td>0.008989</td>\n",
       "      <td>0.018724</td>\n",
       "      <td>-0.009987</td>\n",
       "      <td>-0.022644</td>\n",
       "      <td>0.019136</td>\n",
       "      <td>1.000000</td>\n",
       "      <td>-0.016695</td>\n",
       "      <td>0.142169</td>\n",
       "      <td>-0.078757</td>\n",
       "      <td>...</td>\n",
       "      <td>-0.182032</td>\n",
       "      <td>-0.044303</td>\n",
       "      <td>-0.014580</td>\n",
       "      <td>0.056471</td>\n",
       "      <td>0.072179</td>\n",
       "      <td>-0.068744</td>\n",
       "      <td>-0.071175</td>\n",
       "      <td>-0.008806</td>\n",
       "      <td>-0.044366</td>\n",
       "      <td>0.085442</td>\n",
       "    </tr>\n",
       "    <tr>\n",
       "      <th>duration</th>\n",
       "      <td>-0.006007</td>\n",
       "      <td>-0.016869</td>\n",
       "      <td>-0.008162</td>\n",
       "      <td>0.025781</td>\n",
       "      <td>0.038492</td>\n",
       "      <td>0.001476</td>\n",
       "      <td>-0.016695</td>\n",
       "      <td>1.000000</td>\n",
       "      <td>-0.042576</td>\n",
       "      <td>-0.033053</td>\n",
       "      <td>...</td>\n",
       "      <td>-0.003061</td>\n",
       "      <td>-0.034640</td>\n",
       "      <td>0.007983</td>\n",
       "      <td>-0.015655</td>\n",
       "      <td>-0.012541</td>\n",
       "      <td>-0.012077</td>\n",
       "      <td>-0.039476</td>\n",
       "      <td>-0.009497</td>\n",
       "      <td>-0.025971</td>\n",
       "      <td>0.050571</td>\n",
       "    </tr>\n",
       "    <tr>\n",
       "      <th>campaign</th>\n",
       "      <td>-0.001143</td>\n",
       "      <td>-0.012280</td>\n",
       "      <td>0.033404</td>\n",
       "      <td>-0.042689</td>\n",
       "      <td>0.006257</td>\n",
       "      <td>0.033889</td>\n",
       "      <td>0.142169</td>\n",
       "      <td>-0.042576</td>\n",
       "      <td>1.000000</td>\n",
       "      <td>-0.105214</td>\n",
       "      <td>...</td>\n",
       "      <td>0.046763</td>\n",
       "      <td>-0.030574</td>\n",
       "      <td>-0.044348</td>\n",
       "      <td>-0.077307</td>\n",
       "      <td>-0.071519</td>\n",
       "      <td>-0.048672</td>\n",
       "      <td>-0.082282</td>\n",
       "      <td>-0.024854</td>\n",
       "      <td>-0.094260</td>\n",
       "      <td>0.134842</td>\n",
       "    </tr>\n",
       "    <tr>\n",
       "      <th>pdays</th>\n",
       "      <td>0.006107</td>\n",
       "      <td>0.024123</td>\n",
       "      <td>-0.037323</td>\n",
       "      <td>0.045155</td>\n",
       "      <td>0.064138</td>\n",
       "      <td>-0.030788</td>\n",
       "      <td>-0.078757</td>\n",
       "      <td>-0.033053</td>\n",
       "      <td>-0.105214</td>\n",
       "      <td>1.000000</td>\n",
       "      <td>...</td>\n",
       "      <td>-0.093551</td>\n",
       "      <td>0.024192</td>\n",
       "      <td>0.028678</td>\n",
       "      <td>-0.007350</td>\n",
       "      <td>0.079833</td>\n",
       "      <td>0.110907</td>\n",
       "      <td>0.608719</td>\n",
       "      <td>0.338049</td>\n",
       "      <td>0.326215</td>\n",
       "      <td>-0.824031</td>\n",
       "    </tr>\n",
       "    <tr>\n",
       "      <th>previous</th>\n",
       "      <td>0.025383</td>\n",
       "      <td>0.025368</td>\n",
       "      <td>-0.036605</td>\n",
       "      <td>0.060419</td>\n",
       "      <td>-0.000221</td>\n",
       "      <td>-0.020087</td>\n",
       "      <td>-0.059739</td>\n",
       "      <td>-0.034233</td>\n",
       "      <td>-0.052312</td>\n",
       "      <td>0.513708</td>\n",
       "      <td>...</td>\n",
       "      <td>-0.050067</td>\n",
       "      <td>0.025225</td>\n",
       "      <td>-0.025077</td>\n",
       "      <td>0.019722</td>\n",
       "      <td>0.055077</td>\n",
       "      <td>0.099795</td>\n",
       "      <td>0.347800</td>\n",
       "      <td>0.318888</td>\n",
       "      <td>0.328978</td>\n",
       "      <td>-0.628346</td>\n",
       "    </tr>\n",
       "    <tr>\n",
       "      <th>deposit</th>\n",
       "      <td>0.024357</td>\n",
       "      <td>0.098253</td>\n",
       "      <td>-0.038872</td>\n",
       "      <td>0.135893</td>\n",
       "      <td>-0.200290</td>\n",
       "      <td>-0.107240</td>\n",
       "      <td>-0.056878</td>\n",
       "      <td>0.457818</td>\n",
       "      <td>-0.130707</td>\n",
       "      <td>0.147917</td>\n",
       "      <td>...</td>\n",
       "      <td>-0.008533</td>\n",
       "      <td>0.135348</td>\n",
       "      <td>-0.168203</td>\n",
       "      <td>-0.027754</td>\n",
       "      <td>0.130599</td>\n",
       "      <td>0.125239</td>\n",
       "      <td>0.021124</td>\n",
       "      <td>0.039319</td>\n",
       "      <td>0.288491</td>\n",
       "      <td>-0.228300</td>\n",
       "    </tr>\n",
       "    <tr>\n",
       "      <th>age_cat</th>\n",
       "      <td>0.122622</td>\n",
       "      <td>-0.099057</td>\n",
       "      <td>0.002058</td>\n",
       "      <td>0.027820</td>\n",
       "      <td>-0.153188</td>\n",
       "      <td>-0.028775</td>\n",
       "      <td>-0.007096</td>\n",
       "      <td>0.002826</td>\n",
       "      <td>-0.050747</td>\n",
       "      <td>-0.007693</td>\n",
       "      <td>...</td>\n",
       "      <td>0.013792</td>\n",
       "      <td>0.050918</td>\n",
       "      <td>-0.036141</td>\n",
       "      <td>-0.069144</td>\n",
       "      <td>0.061172</td>\n",
       "      <td>0.051113</td>\n",
       "      <td>-0.042362</td>\n",
       "      <td>0.012121</td>\n",
       "      <td>0.069088</td>\n",
       "      <td>-0.021810</td>\n",
       "    </tr>\n",
       "    <tr>\n",
       "      <th>job_admin.</th>\n",
       "      <td>-0.057502</td>\n",
       "      <td>-0.055817</td>\n",
       "      <td>-0.022421</td>\n",
       "      <td>-0.028057</td>\n",
       "      <td>0.063547</td>\n",
       "      <td>0.049098</td>\n",
       "      <td>-0.010680</td>\n",
       "      <td>-0.023585</td>\n",
       "      <td>-0.018834</td>\n",
       "      <td>0.046293</td>\n",
       "      <td>...</td>\n",
       "      <td>-0.001089</td>\n",
       "      <td>0.003533</td>\n",
       "      <td>0.027696</td>\n",
       "      <td>-0.008095</td>\n",
       "      <td>0.006208</td>\n",
       "      <td>0.006847</td>\n",
       "      <td>0.038762</td>\n",
       "      <td>0.008044</td>\n",
       "      <td>0.004628</td>\n",
       "      <td>-0.035007</td>\n",
       "    </tr>\n",
       "    <tr>\n",
       "      <th>job_blue-collar</th>\n",
       "      <td>-0.065917</td>\n",
       "      <td>-0.371796</td>\n",
       "      <td>0.022989</td>\n",
       "      <td>-0.049484</td>\n",
       "      <td>0.194115</td>\n",
       "      <td>0.056857</td>\n",
       "      <td>-0.019876</td>\n",
       "      <td>0.032253</td>\n",
       "      <td>0.002430</td>\n",
       "      <td>-0.024269</td>\n",
       "      <td>...</td>\n",
       "      <td>0.032766</td>\n",
       "      <td>-0.055255</td>\n",
       "      <td>0.170969</td>\n",
       "      <td>-0.025624</td>\n",
       "      <td>-0.051792</td>\n",
       "      <td>-0.045333</td>\n",
       "      <td>-0.015957</td>\n",
       "      <td>0.003622</td>\n",
       "      <td>-0.074494</td>\n",
       "      <td>0.059758</td>\n",
       "    </tr>\n",
       "    <tr>\n",
       "      <th>job_entrepreneur</th>\n",
       "      <td>0.028390</td>\n",
       "      <td>0.024219</td>\n",
       "      <td>0.023264</td>\n",
       "      <td>-0.008727</td>\n",
       "      <td>0.006600</td>\n",
       "      <td>0.038298</td>\n",
       "      <td>-0.005463</td>\n",
       "      <td>0.000594</td>\n",
       "      <td>0.011168</td>\n",
       "      <td>-0.026802</td>\n",
       "      <td>...</td>\n",
       "      <td>0.026586</td>\n",
       "      <td>-0.019403</td>\n",
       "      <td>-0.018227</td>\n",
       "      <td>0.045535</td>\n",
       "      <td>-0.019363</td>\n",
       "      <td>-0.008032</td>\n",
       "      <td>0.002007</td>\n",
       "      <td>-0.022674</td>\n",
       "      <td>-0.034155</td>\n",
       "      <td>0.032629</td>\n",
       "    </tr>\n",
       "    <tr>\n",
       "      <th>job_housemaid</th>\n",
       "      <td>0.092661</td>\n",
       "      <td>-0.144242</td>\n",
       "      <td>0.019273</td>\n",
       "      <td>0.000907</td>\n",
       "      <td>-0.063824</td>\n",
       "      <td>-0.028973</td>\n",
       "      <td>0.010920</td>\n",
       "      <td>-0.010009</td>\n",
       "      <td>0.008832</td>\n",
       "      <td>-0.023625</td>\n",
       "      <td>...</td>\n",
       "      <td>0.049777</td>\n",
       "      <td>0.004569</td>\n",
       "      <td>-0.053982</td>\n",
       "      <td>-0.005830</td>\n",
       "      <td>0.012923</td>\n",
       "      <td>-0.007499</td>\n",
       "      <td>-0.015545</td>\n",
       "      <td>-0.008928</td>\n",
       "      <td>-0.005594</td>\n",
       "      <td>0.019350</td>\n",
       "    </tr>\n",
       "    <tr>\n",
       "      <th>job_management</th>\n",
       "      <td>-0.036163</td>\n",
       "      <td>0.518735</td>\n",
       "      <td>-0.000055</td>\n",
       "      <td>0.039205</td>\n",
       "      <td>-0.077697</td>\n",
       "      <td>-0.052683</td>\n",
       "      <td>0.003025</td>\n",
       "      <td>-0.024309</td>\n",
       "      <td>0.018159</td>\n",
       "      <td>0.010868</td>\n",
       "      <td>...</td>\n",
       "      <td>-0.026360</td>\n",
       "      <td>0.036884</td>\n",
       "      <td>-0.095434</td>\n",
       "      <td>0.030269</td>\n",
       "      <td>0.010856</td>\n",
       "      <td>0.037880</td>\n",
       "      <td>0.004471</td>\n",
       "      <td>0.010845</td>\n",
       "      <td>0.035995</td>\n",
       "      <td>-0.032725</td>\n",
       "    </tr>\n",
       "    <tr>\n",
       "      <th>job_retired</th>\n",
       "      <td>0.545524</td>\n",
       "      <td>-0.148800</td>\n",
       "      <td>-0.018524</td>\n",
       "      <td>0.091421</td>\n",
       "      <td>-0.168785</td>\n",
       "      <td>-0.045674</td>\n",
       "      <td>-0.005226</td>\n",
       "      <td>0.006052</td>\n",
       "      <td>-0.037189</td>\n",
       "      <td>0.007287</td>\n",
       "      <td>...</td>\n",
       "      <td>-0.010806</td>\n",
       "      <td>0.046085</td>\n",
       "      <td>-0.090053</td>\n",
       "      <td>-0.016737</td>\n",
       "      <td>0.071483</td>\n",
       "      <td>0.062945</td>\n",
       "      <td>-0.011205</td>\n",
       "      <td>-0.002926</td>\n",
       "      <td>0.070006</td>\n",
       "      <td>-0.037501</td>\n",
       "    </tr>\n",
       "    <tr>\n",
       "      <th>job_self-employed</th>\n",
       "      <td>-0.027947</td>\n",
       "      <td>0.091001</td>\n",
       "      <td>0.008924</td>\n",
       "      <td>0.009889</td>\n",
       "      <td>-0.019555</td>\n",
       "      <td>0.004113</td>\n",
       "      <td>0.001565</td>\n",
       "      <td>0.014513</td>\n",
       "      <td>0.006299</td>\n",
       "      <td>-0.012057</td>\n",
       "      <td>...</td>\n",
       "      <td>0.004955</td>\n",
       "      <td>0.002135</td>\n",
       "      <td>-0.017982</td>\n",
       "      <td>0.026810</td>\n",
       "      <td>0.009364</td>\n",
       "      <td>-0.019143</td>\n",
       "      <td>-0.009059</td>\n",
       "      <td>0.004926</td>\n",
       "      <td>-0.000882</td>\n",
       "      <td>0.004705</td>\n",
       "    </tr>\n",
       "    <tr>\n",
       "      <th>job_services</th>\n",
       "      <td>-0.077266</td>\n",
       "      <td>-0.103846</td>\n",
       "      <td>-0.020168</td>\n",
       "      <td>-0.037633</td>\n",
       "      <td>0.080129</td>\n",
       "      <td>0.032109</td>\n",
       "      <td>0.002787</td>\n",
       "      <td>0.013911</td>\n",
       "      <td>0.009145</td>\n",
       "      <td>-0.002427</td>\n",
       "      <td>...</td>\n",
       "      <td>0.012644</td>\n",
       "      <td>-0.012503</td>\n",
       "      <td>0.066271</td>\n",
       "      <td>-0.019849</td>\n",
       "      <td>-0.031120</td>\n",
       "      <td>-0.023491</td>\n",
       "      <td>-0.003684</td>\n",
       "      <td>-0.015454</td>\n",
       "      <td>-0.028109</td>\n",
       "      <td>0.029125</td>\n",
       "    </tr>\n",
       "    <tr>\n",
       "      <th>job_student</th>\n",
       "      <td>-0.231436</td>\n",
       "      <td>-0.009494</td>\n",
       "      <td>-0.019190</td>\n",
       "      <td>0.007133</td>\n",
       "      <td>-0.124261</td>\n",
       "      <td>-0.071385</td>\n",
       "      <td>-0.010712</td>\n",
       "      <td>-0.017974</td>\n",
       "      <td>-0.023710</td>\n",
       "      <td>0.025137</td>\n",
       "      <td>...</td>\n",
       "      <td>-0.017265</td>\n",
       "      <td>0.023515</td>\n",
       "      <td>-0.032509</td>\n",
       "      <td>-0.004541</td>\n",
       "      <td>0.031885</td>\n",
       "      <td>0.027500</td>\n",
       "      <td>-0.006769</td>\n",
       "      <td>0.040725</td>\n",
       "      <td>0.060619</td>\n",
       "      <td>-0.055835</td>\n",
       "    </tr>\n",
       "    <tr>\n",
       "      <th>job_technician</th>\n",
       "      <td>-0.074596</td>\n",
       "      <td>0.047966</td>\n",
       "      <td>0.004419</td>\n",
       "      <td>-0.010460</td>\n",
       "      <td>0.004772</td>\n",
       "      <td>0.009501</td>\n",
       "      <td>0.031050</td>\n",
       "      <td>-0.007488</td>\n",
       "      <td>0.022406</td>\n",
       "      <td>-0.017993</td>\n",
       "      <td>...</td>\n",
       "      <td>-0.030950</td>\n",
       "      <td>-0.016709</td>\n",
       "      <td>-0.009936</td>\n",
       "      <td>-0.008488</td>\n",
       "      <td>-0.003454</td>\n",
       "      <td>-0.024729</td>\n",
       "      <td>0.005355</td>\n",
       "      <td>-0.011311</td>\n",
       "      <td>-0.018613</td>\n",
       "      <td>0.014196</td>\n",
       "    </tr>\n",
       "    <tr>\n",
       "      <th>job_unemployed</th>\n",
       "      <td>0.001263</td>\n",
       "      <td>-0.031813</td>\n",
       "      <td>0.011120</td>\n",
       "      <td>0.009689</td>\n",
       "      <td>-0.059712</td>\n",
       "      <td>-0.039883</td>\n",
       "      <td>-0.001380</td>\n",
       "      <td>0.027641</td>\n",
       "      <td>-0.023728</td>\n",
       "      <td>0.005833</td>\n",
       "      <td>...</td>\n",
       "      <td>-0.004043</td>\n",
       "      <td>0.004451</td>\n",
       "      <td>-0.036727</td>\n",
       "      <td>0.009096</td>\n",
       "      <td>-0.003121</td>\n",
       "      <td>0.002940</td>\n",
       "      <td>-0.009655</td>\n",
       "      <td>-0.012524</td>\n",
       "      <td>0.030416</td>\n",
       "      <td>-0.007316</td>\n",
       "    </tr>\n",
       "    <tr>\n",
       "      <th>marital_divorced</th>\n",
       "      <td>0.185312</td>\n",
       "      <td>-0.033425</td>\n",
       "      <td>0.021028</td>\n",
       "      <td>-0.030406</td>\n",
       "      <td>0.009686</td>\n",
       "      <td>0.028408</td>\n",
       "      <td>0.003626</td>\n",
       "      <td>0.023425</td>\n",
       "      <td>-0.009653</td>\n",
       "      <td>-0.013343</td>\n",
       "      <td>...</td>\n",
       "      <td>0.013260</td>\n",
       "      <td>0.004882</td>\n",
       "      <td>0.009281</td>\n",
       "      <td>0.011729</td>\n",
       "      <td>-0.001757</td>\n",
       "      <td>-0.010148</td>\n",
       "      <td>-0.024844</td>\n",
       "      <td>-0.008730</td>\n",
       "      <td>-0.020206</td>\n",
       "      <td>0.035771</td>\n",
       "    </tr>\n",
       "    <tr>\n",
       "      <th>marital_married</th>\n",
       "      <td>0.316681</td>\n",
       "      <td>-0.133514</td>\n",
       "      <td>-0.007670</td>\n",
       "      <td>0.032056</td>\n",
       "      <td>0.036857</td>\n",
       "      <td>0.044692</td>\n",
       "      <td>0.001760</td>\n",
       "      <td>-0.037747</td>\n",
       "      <td>0.055415</td>\n",
       "      <td>-0.020003</td>\n",
       "      <td>...</td>\n",
       "      <td>0.002957</td>\n",
       "      <td>-0.030392</td>\n",
       "      <td>-0.031935</td>\n",
       "      <td>0.033558</td>\n",
       "      <td>-0.013898</td>\n",
       "      <td>-0.019805</td>\n",
       "      <td>0.011364</td>\n",
       "      <td>-0.030038</td>\n",
       "      <td>-0.008541</td>\n",
       "      <td>0.012296</td>\n",
       "    </tr>\n",
       "    <tr>\n",
       "      <th>marital_single</th>\n",
       "      <td>-0.464737</td>\n",
       "      <td>0.165140</td>\n",
       "      <td>-0.006322</td>\n",
       "      <td>-0.013176</td>\n",
       "      <td>-0.045904</td>\n",
       "      <td>-0.067140</td>\n",
       "      <td>-0.004371</td>\n",
       "      <td>0.024042</td>\n",
       "      <td>-0.052335</td>\n",
       "      <td>0.030483</td>\n",
       "      <td>...</td>\n",
       "      <td>-0.012282</td>\n",
       "      <td>0.028986</td>\n",
       "      <td>0.027599</td>\n",
       "      <td>-0.043800</td>\n",
       "      <td>0.016004</td>\n",
       "      <td>0.028071</td>\n",
       "      <td>0.005018</td>\n",
       "      <td>0.037987</td>\n",
       "      <td>0.023010</td>\n",
       "      <td>-0.037729</td>\n",
       "    </tr>\n",
       "    <tr>\n",
       "      <th>contact_cellular</th>\n",
       "      <td>-0.074062</td>\n",
       "      <td>0.172697</td>\n",
       "      <td>-0.028878</td>\n",
       "      <td>0.030039</td>\n",
       "      <td>-0.186832</td>\n",
       "      <td>0.000653</td>\n",
       "      <td>-0.006511</td>\n",
       "      <td>0.022006</td>\n",
       "      <td>-0.068573</td>\n",
       "      <td>0.208006</td>\n",
       "      <td>...</td>\n",
       "      <td>-0.319383</td>\n",
       "      <td>0.064403</td>\n",
       "      <td>-0.337438</td>\n",
       "      <td>0.108127</td>\n",
       "      <td>0.032717</td>\n",
       "      <td>0.053452</td>\n",
       "      <td>0.166336</td>\n",
       "      <td>0.091506</td>\n",
       "      <td>0.148420</td>\n",
       "      <td>-0.264559</td>\n",
       "    </tr>\n",
       "    <tr>\n",
       "      <th>contact_telephone</th>\n",
       "      <td>0.194455</td>\n",
       "      <td>-0.080767</td>\n",
       "      <td>-0.021596</td>\n",
       "      <td>0.061140</td>\n",
       "      <td>-0.084942</td>\n",
       "      <td>-0.016394</td>\n",
       "      <td>0.013647</td>\n",
       "      <td>-0.022244</td>\n",
       "      <td>0.056650</td>\n",
       "      <td>0.004120</td>\n",
       "      <td>...</td>\n",
       "      <td>-0.064427</td>\n",
       "      <td>0.006604</td>\n",
       "      <td>-0.076916</td>\n",
       "      <td>0.029959</td>\n",
       "      <td>0.069496</td>\n",
       "      <td>0.024017</td>\n",
       "      <td>-0.005817</td>\n",
       "      <td>0.014167</td>\n",
       "      <td>0.000254</td>\n",
       "      <td>-0.002934</td>\n",
       "    </tr>\n",
       "    <tr>\n",
       "      <th>contact_unknown</th>\n",
       "      <td>-0.036224</td>\n",
       "      <td>-0.140256</td>\n",
       "      <td>0.044621</td>\n",
       "      <td>-0.069737</td>\n",
       "      <td>0.255649</td>\n",
       "      <td>0.009172</td>\n",
       "      <td>-0.001105</td>\n",
       "      <td>-0.010665</td>\n",
       "      <td>0.040870</td>\n",
       "      <td>-0.230080</td>\n",
       "      <td>...</td>\n",
       "      <td>0.388312</td>\n",
       "      <td>-0.074450</td>\n",
       "      <td>0.415598</td>\n",
       "      <td>-0.136376</td>\n",
       "      <td>-0.077706</td>\n",
       "      <td>-0.072969</td>\n",
       "      <td>-0.178493</td>\n",
       "      <td>-0.108666</td>\n",
       "      <td>-0.162550</td>\n",
       "      <td>0.291242</td>\n",
       "    </tr>\n",
       "    <tr>\n",
       "      <th>month_apr</th>\n",
       "      <td>-0.026208</td>\n",
       "      <td>0.015456</td>\n",
       "      <td>-0.018812</td>\n",
       "      <td>0.050392</td>\n",
       "      <td>0.031485</td>\n",
       "      <td>-0.040164</td>\n",
       "      <td>0.110547</td>\n",
       "      <td>0.027398</td>\n",
       "      <td>-0.075791</td>\n",
       "      <td>0.080709</td>\n",
       "      <td>...</td>\n",
       "      <td>-0.104766</td>\n",
       "      <td>-0.046360</td>\n",
       "      <td>-0.176848</td>\n",
       "      <td>-0.086518</td>\n",
       "      <td>-0.055393</td>\n",
       "      <td>-0.050315</td>\n",
       "      <td>0.067926</td>\n",
       "      <td>0.041458</td>\n",
       "      <td>-0.000767</td>\n",
       "      <td>-0.068823</td>\n",
       "    </tr>\n",
       "    <tr>\n",
       "      <th>month_aug</th>\n",
       "      <td>0.060980</td>\n",
       "      <td>0.102218</td>\n",
       "      <td>-0.003966</td>\n",
       "      <td>-0.008252</td>\n",
       "      <td>-0.235772</td>\n",
       "      <td>-0.064208</td>\n",
       "      <td>-0.001758</td>\n",
       "      <td>-0.024372</td>\n",
       "      <td>0.149425</td>\n",
       "      <td>-0.066859</td>\n",
       "      <td>...</td>\n",
       "      <td>-0.139574</td>\n",
       "      <td>-0.061763</td>\n",
       "      <td>-0.235606</td>\n",
       "      <td>-0.115263</td>\n",
       "      <td>-0.073798</td>\n",
       "      <td>-0.067031</td>\n",
       "      <td>-0.062600</td>\n",
       "      <td>-0.040444</td>\n",
       "      <td>0.007390</td>\n",
       "      <td>0.060037</td>\n",
       "    </tr>\n",
       "    <tr>\n",
       "      <th>month_dec</th>\n",
       "      <td>0.031151</td>\n",
       "      <td>0.004171</td>\n",
       "      <td>-0.012456</td>\n",
       "      <td>0.027092</td>\n",
       "      <td>-0.059625</td>\n",
       "      <td>-0.029521</td>\n",
       "      <td>-0.011651</td>\n",
       "      <td>0.007100</td>\n",
       "      <td>-0.014967</td>\n",
       "      <td>0.045581</td>\n",
       "      <td>...</td>\n",
       "      <td>-0.033754</td>\n",
       "      <td>-0.014936</td>\n",
       "      <td>-0.056977</td>\n",
       "      <td>-0.027874</td>\n",
       "      <td>-0.017847</td>\n",
       "      <td>-0.016210</td>\n",
       "      <td>0.002631</td>\n",
       "      <td>0.036861</td>\n",
       "      <td>0.068706</td>\n",
       "      <td>-0.066145</td>\n",
       "    </tr>\n",
       "    <tr>\n",
       "      <th>month_feb</th>\n",
       "      <td>0.014729</td>\n",
       "      <td>0.036743</td>\n",
       "      <td>-0.020260</td>\n",
       "      <td>0.010160</td>\n",
       "      <td>-0.079198</td>\n",
       "      <td>-0.012067</td>\n",
       "      <td>-0.236222</td>\n",
       "      <td>-0.025231</td>\n",
       "      <td>-0.039026</td>\n",
       "      <td>0.054450</td>\n",
       "      <td>...</td>\n",
       "      <td>-0.096203</td>\n",
       "      <td>-0.042571</td>\n",
       "      <td>-0.162394</td>\n",
       "      <td>-0.079446</td>\n",
       "      <td>-0.050866</td>\n",
       "      <td>-0.046202</td>\n",
       "      <td>0.060970</td>\n",
       "      <td>0.038671</td>\n",
       "      <td>0.035524</td>\n",
       "      <td>-0.086813</td>\n",
       "    </tr>\n",
       "    <tr>\n",
       "      <th>month_jan</th>\n",
       "      <td>0.017477</td>\n",
       "      <td>-0.002330</td>\n",
       "      <td>0.003382</td>\n",
       "      <td>-0.011331</td>\n",
       "      <td>-0.090039</td>\n",
       "      <td>0.003325</td>\n",
       "      <td>0.225136</td>\n",
       "      <td>-0.010272</td>\n",
       "      <td>-0.053519</td>\n",
       "      <td>0.015399</td>\n",
       "      <td>...</td>\n",
       "      <td>-0.063231</td>\n",
       "      <td>-0.027980</td>\n",
       "      <td>-0.106736</td>\n",
       "      <td>-0.052217</td>\n",
       "      <td>-0.033432</td>\n",
       "      <td>-0.030367</td>\n",
       "      <td>0.007226</td>\n",
       "      <td>0.055332</td>\n",
       "      <td>0.013933</td>\n",
       "      <td>-0.041744</td>\n",
       "    </tr>\n",
       "    <tr>\n",
       "      <th>month_jul</th>\n",
       "      <td>-0.003662</td>\n",
       "      <td>-0.049832</td>\n",
       "      <td>0.048653</td>\n",
       "      <td>-0.086824</td>\n",
       "      <td>-0.029806</td>\n",
       "      <td>0.163249</td>\n",
       "      <td>0.130897</td>\n",
       "      <td>0.056203</td>\n",
       "      <td>0.118163</td>\n",
       "      <td>-0.108347</td>\n",
       "      <td>...</td>\n",
       "      <td>-0.141495</td>\n",
       "      <td>-0.062613</td>\n",
       "      <td>-0.238848</td>\n",
       "      <td>-0.116849</td>\n",
       "      <td>-0.074813</td>\n",
       "      <td>-0.067954</td>\n",
       "      <td>-0.103570</td>\n",
       "      <td>-0.055530</td>\n",
       "      <td>-0.067140</td>\n",
       "      <td>0.147044</td>\n",
       "    </tr>\n",
       "    <tr>\n",
       "      <th>month_jun</th>\n",
       "      <td>0.009769</td>\n",
       "      <td>-0.036503</td>\n",
       "      <td>0.019626</td>\n",
       "      <td>0.039753</td>\n",
       "      <td>-0.073133</td>\n",
       "      <td>-0.014897</td>\n",
       "      <td>-0.182032</td>\n",
       "      <td>-0.003061</td>\n",
       "      <td>0.046763</td>\n",
       "      <td>-0.093551</td>\n",
       "      <td>...</td>\n",
       "      <td>1.000000</td>\n",
       "      <td>-0.054275</td>\n",
       "      <td>-0.207042</td>\n",
       "      <td>-0.101289</td>\n",
       "      <td>-0.064851</td>\n",
       "      <td>-0.058905</td>\n",
       "      <td>-0.074250</td>\n",
       "      <td>-0.036578</td>\n",
       "      <td>-0.020967</td>\n",
       "      <td>0.085584</td>\n",
       "    </tr>\n",
       "    <tr>\n",
       "      <th>month_mar</th>\n",
       "      <td>0.024785</td>\n",
       "      <td>0.052196</td>\n",
       "      <td>-0.020028</td>\n",
       "      <td>0.043832</td>\n",
       "      <td>-0.075948</td>\n",
       "      <td>-0.041105</td>\n",
       "      <td>-0.044303</td>\n",
       "      <td>-0.034640</td>\n",
       "      <td>-0.030574</td>\n",
       "      <td>0.024192</td>\n",
       "      <td>...</td>\n",
       "      <td>-0.054275</td>\n",
       "      <td>1.000000</td>\n",
       "      <td>-0.091618</td>\n",
       "      <td>-0.044821</td>\n",
       "      <td>-0.028697</td>\n",
       "      <td>-0.026066</td>\n",
       "      <td>-0.000021</td>\n",
       "      <td>0.026776</td>\n",
       "      <td>0.044550</td>\n",
       "      <td>-0.043056</td>\n",
       "    </tr>\n",
       "    <tr>\n",
       "      <th>month_may</th>\n",
       "      <td>-0.119656</td>\n",
       "      <td>-0.104157</td>\n",
       "      <td>-0.001761</td>\n",
       "      <td>-0.098073</td>\n",
       "      <td>0.432605</td>\n",
       "      <td>0.002778</td>\n",
       "      <td>-0.014580</td>\n",
       "      <td>0.007983</td>\n",
       "      <td>-0.044348</td>\n",
       "      <td>0.028678</td>\n",
       "      <td>...</td>\n",
       "      <td>-0.207042</td>\n",
       "      <td>-0.091618</td>\n",
       "      <td>1.000000</td>\n",
       "      <td>-0.170979</td>\n",
       "      <td>-0.109470</td>\n",
       "      <td>-0.099433</td>\n",
       "      <td>0.034538</td>\n",
       "      <td>-0.012275</td>\n",
       "      <td>-0.099107</td>\n",
       "      <td>0.047688</td>\n",
       "    </tr>\n",
       "    <tr>\n",
       "      <th>month_nov</th>\n",
       "      <td>0.026875</td>\n",
       "      <td>0.028704</td>\n",
       "      <td>0.000544</td>\n",
       "      <td>0.081861</td>\n",
       "      <td>-0.000219</td>\n",
       "      <td>0.017720</td>\n",
       "      <td>0.056471</td>\n",
       "      <td>-0.015655</td>\n",
       "      <td>-0.077307</td>\n",
       "      <td>-0.007350</td>\n",
       "      <td>...</td>\n",
       "      <td>-0.101289</td>\n",
       "      <td>-0.044821</td>\n",
       "      <td>-0.170979</td>\n",
       "      <td>1.000000</td>\n",
       "      <td>-0.053555</td>\n",
       "      <td>-0.048645</td>\n",
       "      <td>0.063342</td>\n",
       "      <td>0.005001</td>\n",
       "      <td>0.015353</td>\n",
       "      <td>-0.058439</td>\n",
       "    </tr>\n",
       "    <tr>\n",
       "      <th>month_oct</th>\n",
       "      <td>0.056998</td>\n",
       "      <td>0.027617</td>\n",
       "      <td>-0.023931</td>\n",
       "      <td>0.057041</td>\n",
       "      <td>-0.092026</td>\n",
       "      <td>-0.032357</td>\n",
       "      <td>0.072179</td>\n",
       "      <td>-0.012541</td>\n",
       "      <td>-0.071519</td>\n",
       "      <td>0.079833</td>\n",
       "      <td>...</td>\n",
       "      <td>-0.064851</td>\n",
       "      <td>-0.028697</td>\n",
       "      <td>-0.109470</td>\n",
       "      <td>-0.053555</td>\n",
       "      <td>1.000000</td>\n",
       "      <td>-0.031145</td>\n",
       "      <td>0.044624</td>\n",
       "      <td>0.010524</td>\n",
       "      <td>0.111386</td>\n",
       "      <td>-0.112154</td>\n",
       "    </tr>\n",
       "    <tr>\n",
       "      <th>month_sep</th>\n",
       "      <td>0.036352</td>\n",
       "      <td>0.030846</td>\n",
       "      <td>-0.016977</td>\n",
       "      <td>0.047841</td>\n",
       "      <td>-0.086893</td>\n",
       "      <td>-0.046196</td>\n",
       "      <td>-0.068744</td>\n",
       "      <td>-0.012077</td>\n",
       "      <td>-0.048672</td>\n",
       "      <td>0.110907</td>\n",
       "      <td>...</td>\n",
       "      <td>-0.058905</td>\n",
       "      <td>-0.026066</td>\n",
       "      <td>-0.099433</td>\n",
       "      <td>-0.048645</td>\n",
       "      <td>-0.031145</td>\n",
       "      <td>1.000000</td>\n",
       "      <td>0.029983</td>\n",
       "      <td>0.050486</td>\n",
       "      <td>0.135072</td>\n",
       "      <td>-0.137132</td>\n",
       "    </tr>\n",
       "    <tr>\n",
       "      <th>poutcome_failure</th>\n",
       "      <td>0.001994</td>\n",
       "      <td>0.019845</td>\n",
       "      <td>-0.025450</td>\n",
       "      <td>0.031040</td>\n",
       "      <td>0.085167</td>\n",
       "      <td>0.007458</td>\n",
       "      <td>-0.071175</td>\n",
       "      <td>-0.039476</td>\n",
       "      <td>-0.082282</td>\n",
       "      <td>0.608719</td>\n",
       "      <td>...</td>\n",
       "      <td>-0.074250</td>\n",
       "      <td>-0.000021</td>\n",
       "      <td>0.034538</td>\n",
       "      <td>0.063342</td>\n",
       "      <td>0.044624</td>\n",
       "      <td>0.029983</td>\n",
       "      <td>1.000000</td>\n",
       "      <td>-0.078494</td>\n",
       "      <td>-0.112774</td>\n",
       "      <td>-0.606736</td>\n",
       "    </tr>\n",
       "    <tr>\n",
       "      <th>poutcome_other</th>\n",
       "      <td>-0.020942</td>\n",
       "      <td>0.015103</td>\n",
       "      <td>-0.017923</td>\n",
       "      <td>0.028111</td>\n",
       "      <td>0.009830</td>\n",
       "      <td>-0.019289</td>\n",
       "      <td>-0.008806</td>\n",
       "      <td>-0.009497</td>\n",
       "      <td>-0.024854</td>\n",
       "      <td>0.338049</td>\n",
       "      <td>...</td>\n",
       "      <td>-0.036578</td>\n",
       "      <td>0.026776</td>\n",
       "      <td>-0.012275</td>\n",
       "      <td>0.005001</td>\n",
       "      <td>0.010524</td>\n",
       "      <td>0.050486</td>\n",
       "      <td>-0.078494</td>\n",
       "      <td>1.000000</td>\n",
       "      <td>-0.071806</td>\n",
       "      <td>-0.386326</td>\n",
       "    </tr>\n",
       "    <tr>\n",
       "      <th>poutcome_success</th>\n",
       "      <td>0.060009</td>\n",
       "      <td>0.070489</td>\n",
       "      <td>-0.041510</td>\n",
       "      <td>0.073358</td>\n",
       "      <td>-0.134477</td>\n",
       "      <td>-0.082098</td>\n",
       "      <td>-0.044366</td>\n",
       "      <td>-0.025971</td>\n",
       "      <td>-0.094260</td>\n",
       "      <td>0.326215</td>\n",
       "      <td>...</td>\n",
       "      <td>-0.020967</td>\n",
       "      <td>0.044550</td>\n",
       "      <td>-0.099107</td>\n",
       "      <td>0.015353</td>\n",
       "      <td>0.111386</td>\n",
       "      <td>0.135072</td>\n",
       "      <td>-0.112774</td>\n",
       "      <td>-0.071806</td>\n",
       "      <td>1.000000</td>\n",
       "      <td>-0.555044</td>\n",
       "    </tr>\n",
       "    <tr>\n",
       "      <th>poutcome_unknown</th>\n",
       "      <td>-0.031455</td>\n",
       "      <td>-0.069069</td>\n",
       "      <td>0.055032</td>\n",
       "      <td>-0.085456</td>\n",
       "      <td>0.024082</td>\n",
       "      <td>0.059235</td>\n",
       "      <td>0.085442</td>\n",
       "      <td>0.050571</td>\n",
       "      <td>0.134842</td>\n",
       "      <td>-0.824031</td>\n",
       "      <td>...</td>\n",
       "      <td>0.085584</td>\n",
       "      <td>-0.043056</td>\n",
       "      <td>0.047688</td>\n",
       "      <td>-0.058439</td>\n",
       "      <td>-0.112154</td>\n",
       "      <td>-0.137132</td>\n",
       "      <td>-0.606736</td>\n",
       "      <td>-0.386326</td>\n",
       "      <td>-0.555044</td>\n",
       "      <td>1.000000</td>\n",
       "    </tr>\n",
       "  </tbody>\n",
       "</table>\n",
       "<p>46 rows × 46 columns</p>\n",
       "</div>"
      ],
      "text/plain": [
       "                        age  education   default   balance   housing  \\\n",
       "age                1.000000  -0.191124 -0.009929  0.115164 -0.164196   \n",
       "education         -0.191124   1.000000 -0.015692  0.043251 -0.094350   \n",
       "default           -0.009929  -0.015692  1.000000 -0.110928  0.009551   \n",
       "balance            0.115164   0.043251 -0.110928  1.000000 -0.094919   \n",
       "housing           -0.164196  -0.094350  0.009551 -0.094919  1.000000   \n",
       "loan              -0.026357  -0.052566  0.074786 -0.113089  0.072252   \n",
       "day                0.000396   0.008989  0.018724 -0.009987 -0.022644   \n",
       "duration          -0.006007  -0.016869 -0.008162  0.025781  0.038492   \n",
       "campaign          -0.001143  -0.012280  0.033404 -0.042689  0.006257   \n",
       "pdays              0.006107   0.024123 -0.037323  0.045155  0.064138   \n",
       "previous           0.025383   0.025368 -0.036605  0.060419 -0.000221   \n",
       "deposit            0.024357   0.098253 -0.038872  0.135893 -0.200290   \n",
       "age_cat            0.122622  -0.099057  0.002058  0.027820 -0.153188   \n",
       "job_admin.        -0.057502  -0.055817 -0.022421 -0.028057  0.063547   \n",
       "job_blue-collar   -0.065917  -0.371796  0.022989 -0.049484  0.194115   \n",
       "job_entrepreneur   0.028390   0.024219  0.023264 -0.008727  0.006600   \n",
       "job_housemaid      0.092661  -0.144242  0.019273  0.000907 -0.063824   \n",
       "job_management    -0.036163   0.518735 -0.000055  0.039205 -0.077697   \n",
       "job_retired        0.545524  -0.148800 -0.018524  0.091421 -0.168785   \n",
       "job_self-employed -0.027947   0.091001  0.008924  0.009889 -0.019555   \n",
       "job_services      -0.077266  -0.103846 -0.020168 -0.037633  0.080129   \n",
       "job_student       -0.231436  -0.009494 -0.019190  0.007133 -0.124261   \n",
       "job_technician    -0.074596   0.047966  0.004419 -0.010460  0.004772   \n",
       "job_unemployed     0.001263  -0.031813  0.011120  0.009689 -0.059712   \n",
       "marital_divorced   0.185312  -0.033425  0.021028 -0.030406  0.009686   \n",
       "marital_married    0.316681  -0.133514 -0.007670  0.032056  0.036857   \n",
       "marital_single    -0.464737   0.165140 -0.006322 -0.013176 -0.045904   \n",
       "contact_cellular  -0.074062   0.172697 -0.028878  0.030039 -0.186832   \n",
       "contact_telephone  0.194455  -0.080767 -0.021596  0.061140 -0.084942   \n",
       "contact_unknown   -0.036224  -0.140256  0.044621 -0.069737  0.255649   \n",
       "month_apr         -0.026208   0.015456 -0.018812  0.050392  0.031485   \n",
       "month_aug          0.060980   0.102218 -0.003966 -0.008252 -0.235772   \n",
       "month_dec          0.031151   0.004171 -0.012456  0.027092 -0.059625   \n",
       "month_feb          0.014729   0.036743 -0.020260  0.010160 -0.079198   \n",
       "month_jan          0.017477  -0.002330  0.003382 -0.011331 -0.090039   \n",
       "month_jul         -0.003662  -0.049832  0.048653 -0.086824 -0.029806   \n",
       "month_jun          0.009769  -0.036503  0.019626  0.039753 -0.073133   \n",
       "month_mar          0.024785   0.052196 -0.020028  0.043832 -0.075948   \n",
       "month_may         -0.119656  -0.104157 -0.001761 -0.098073  0.432605   \n",
       "month_nov          0.026875   0.028704  0.000544  0.081861 -0.000219   \n",
       "month_oct          0.056998   0.027617 -0.023931  0.057041 -0.092026   \n",
       "month_sep          0.036352   0.030846 -0.016977  0.047841 -0.086893   \n",
       "poutcome_failure   0.001994   0.019845 -0.025450  0.031040  0.085167   \n",
       "poutcome_other    -0.020942   0.015103 -0.017923  0.028111  0.009830   \n",
       "poutcome_success   0.060009   0.070489 -0.041510  0.073358 -0.134477   \n",
       "poutcome_unknown  -0.031455  -0.069069  0.055032 -0.085456  0.024082   \n",
       "\n",
       "                       loan       day  duration  campaign     pdays  ...  \\\n",
       "age               -0.026357  0.000396 -0.006007 -0.001143  0.006107  ...   \n",
       "education         -0.052566  0.008989 -0.016869 -0.012280  0.024123  ...   \n",
       "default            0.074786  0.018724 -0.008162  0.033404 -0.037323  ...   \n",
       "balance           -0.113089 -0.009987  0.025781 -0.042689  0.045155  ...   \n",
       "housing            0.072252 -0.022644  0.038492  0.006257  0.064138  ...   \n",
       "loan               1.000000  0.019136  0.001476  0.033889 -0.030788  ...   \n",
       "day                0.019136  1.000000 -0.016695  0.142169 -0.078757  ...   \n",
       "duration           0.001476 -0.016695  1.000000 -0.042576 -0.033053  ...   \n",
       "campaign           0.033889  0.142169 -0.042576  1.000000 -0.105214  ...   \n",
       "pdays             -0.030788 -0.078757 -0.033053 -0.105214  1.000000  ...   \n",
       "previous          -0.020087 -0.059739 -0.034233 -0.052312  0.513708  ...   \n",
       "deposit           -0.107240 -0.056878  0.457818 -0.130707  0.147917  ...   \n",
       "age_cat           -0.028775 -0.007096  0.002826 -0.050747 -0.007693  ...   \n",
       "job_admin.         0.049098 -0.010680 -0.023585 -0.018834  0.046293  ...   \n",
       "job_blue-collar    0.056857 -0.019876  0.032253  0.002430 -0.024269  ...   \n",
       "job_entrepreneur   0.038298 -0.005463  0.000594  0.011168 -0.026802  ...   \n",
       "job_housemaid     -0.028973  0.010920 -0.010009  0.008832 -0.023625  ...   \n",
       "job_management    -0.052683  0.003025 -0.024309  0.018159  0.010868  ...   \n",
       "job_retired       -0.045674 -0.005226  0.006052 -0.037189  0.007287  ...   \n",
       "job_self-employed  0.004113  0.001565  0.014513  0.006299 -0.012057  ...   \n",
       "job_services       0.032109  0.002787  0.013911  0.009145 -0.002427  ...   \n",
       "job_student       -0.071385 -0.010712 -0.017974 -0.023710  0.025137  ...   \n",
       "job_technician     0.009501  0.031050 -0.007488  0.022406 -0.017993  ...   \n",
       "job_unemployed    -0.039883 -0.001380  0.027641 -0.023728  0.005833  ...   \n",
       "marital_divorced   0.028408  0.003626  0.023425 -0.009653 -0.013343  ...   \n",
       "marital_married    0.044692  0.001760 -0.037747  0.055415 -0.020003  ...   \n",
       "marital_single    -0.067140 -0.004371  0.024042 -0.052335  0.030483  ...   \n",
       "contact_cellular   0.000653 -0.006511  0.022006 -0.068573  0.208006  ...   \n",
       "contact_telephone -0.016394  0.013647 -0.022244  0.056650  0.004120  ...   \n",
       "contact_unknown    0.009172 -0.001105 -0.010665  0.040870 -0.230080  ...   \n",
       "month_apr         -0.040164  0.110547  0.027398 -0.075791  0.080709  ...   \n",
       "month_aug         -0.064208 -0.001758 -0.024372  0.149425 -0.066859  ...   \n",
       "month_dec         -0.029521 -0.011651  0.007100 -0.014967  0.045581  ...   \n",
       "month_feb         -0.012067 -0.236222 -0.025231 -0.039026  0.054450  ...   \n",
       "month_jan          0.003325  0.225136 -0.010272 -0.053519  0.015399  ...   \n",
       "month_jul          0.163249  0.130897  0.056203  0.118163 -0.108347  ...   \n",
       "month_jun         -0.014897 -0.182032 -0.003061  0.046763 -0.093551  ...   \n",
       "month_mar         -0.041105 -0.044303 -0.034640 -0.030574  0.024192  ...   \n",
       "month_may          0.002778 -0.014580  0.007983 -0.044348  0.028678  ...   \n",
       "month_nov          0.017720  0.056471 -0.015655 -0.077307 -0.007350  ...   \n",
       "month_oct         -0.032357  0.072179 -0.012541 -0.071519  0.079833  ...   \n",
       "month_sep         -0.046196 -0.068744 -0.012077 -0.048672  0.110907  ...   \n",
       "poutcome_failure   0.007458 -0.071175 -0.039476 -0.082282  0.608719  ...   \n",
       "poutcome_other    -0.019289 -0.008806 -0.009497 -0.024854  0.338049  ...   \n",
       "poutcome_success  -0.082098 -0.044366 -0.025971 -0.094260  0.326215  ...   \n",
       "poutcome_unknown   0.059235  0.085442  0.050571  0.134842 -0.824031  ...   \n",
       "\n",
       "                   month_jun  month_mar  month_may  month_nov  month_oct  \\\n",
       "age                 0.009769   0.024785  -0.119656   0.026875   0.056998   \n",
       "education          -0.036503   0.052196  -0.104157   0.028704   0.027617   \n",
       "default             0.019626  -0.020028  -0.001761   0.000544  -0.023931   \n",
       "balance             0.039753   0.043832  -0.098073   0.081861   0.057041   \n",
       "housing            -0.073133  -0.075948   0.432605  -0.000219  -0.092026   \n",
       "loan               -0.014897  -0.041105   0.002778   0.017720  -0.032357   \n",
       "day                -0.182032  -0.044303  -0.014580   0.056471   0.072179   \n",
       "duration           -0.003061  -0.034640   0.007983  -0.015655  -0.012541   \n",
       "campaign            0.046763  -0.030574  -0.044348  -0.077307  -0.071519   \n",
       "pdays              -0.093551   0.024192   0.028678  -0.007350   0.079833   \n",
       "previous           -0.050067   0.025225  -0.025077   0.019722   0.055077   \n",
       "deposit            -0.008533   0.135348  -0.168203  -0.027754   0.130599   \n",
       "age_cat             0.013792   0.050918  -0.036141  -0.069144   0.061172   \n",
       "job_admin.         -0.001089   0.003533   0.027696  -0.008095   0.006208   \n",
       "job_blue-collar     0.032766  -0.055255   0.170969  -0.025624  -0.051792   \n",
       "job_entrepreneur    0.026586  -0.019403  -0.018227   0.045535  -0.019363   \n",
       "job_housemaid       0.049777   0.004569  -0.053982  -0.005830   0.012923   \n",
       "job_management     -0.026360   0.036884  -0.095434   0.030269   0.010856   \n",
       "job_retired        -0.010806   0.046085  -0.090053  -0.016737   0.071483   \n",
       "job_self-employed   0.004955   0.002135  -0.017982   0.026810   0.009364   \n",
       "job_services        0.012644  -0.012503   0.066271  -0.019849  -0.031120   \n",
       "job_student        -0.017265   0.023515  -0.032509  -0.004541   0.031885   \n",
       "job_technician     -0.030950  -0.016709  -0.009936  -0.008488  -0.003454   \n",
       "job_unemployed     -0.004043   0.004451  -0.036727   0.009096  -0.003121   \n",
       "marital_divorced    0.013260   0.004882   0.009281   0.011729  -0.001757   \n",
       "marital_married     0.002957  -0.030392  -0.031935   0.033558  -0.013898   \n",
       "marital_single     -0.012282   0.028986   0.027599  -0.043800   0.016004   \n",
       "contact_cellular   -0.319383   0.064403  -0.337438   0.108127   0.032717   \n",
       "contact_telephone  -0.064427   0.006604  -0.076916   0.029959   0.069496   \n",
       "contact_unknown     0.388312  -0.074450   0.415598  -0.136376  -0.077706   \n",
       "month_apr          -0.104766  -0.046360  -0.176848  -0.086518  -0.055393   \n",
       "month_aug          -0.139574  -0.061763  -0.235606  -0.115263  -0.073798   \n",
       "month_dec          -0.033754  -0.014936  -0.056977  -0.027874  -0.017847   \n",
       "month_feb          -0.096203  -0.042571  -0.162394  -0.079446  -0.050866   \n",
       "month_jan          -0.063231  -0.027980  -0.106736  -0.052217  -0.033432   \n",
       "month_jul          -0.141495  -0.062613  -0.238848  -0.116849  -0.074813   \n",
       "month_jun           1.000000  -0.054275  -0.207042  -0.101289  -0.064851   \n",
       "month_mar          -0.054275   1.000000  -0.091618  -0.044821  -0.028697   \n",
       "month_may          -0.207042  -0.091618   1.000000  -0.170979  -0.109470   \n",
       "month_nov          -0.101289  -0.044821  -0.170979   1.000000  -0.053555   \n",
       "month_oct          -0.064851  -0.028697  -0.109470  -0.053555   1.000000   \n",
       "month_sep          -0.058905  -0.026066  -0.099433  -0.048645  -0.031145   \n",
       "poutcome_failure   -0.074250  -0.000021   0.034538   0.063342   0.044624   \n",
       "poutcome_other     -0.036578   0.026776  -0.012275   0.005001   0.010524   \n",
       "poutcome_success   -0.020967   0.044550  -0.099107   0.015353   0.111386   \n",
       "poutcome_unknown    0.085584  -0.043056   0.047688  -0.058439  -0.112154   \n",
       "\n",
       "                   month_sep  poutcome_failure  poutcome_other  \\\n",
       "age                 0.036352          0.001994       -0.020942   \n",
       "education           0.030846          0.019845        0.015103   \n",
       "default            -0.016977         -0.025450       -0.017923   \n",
       "balance             0.047841          0.031040        0.028111   \n",
       "housing            -0.086893          0.085167        0.009830   \n",
       "loan               -0.046196          0.007458       -0.019289   \n",
       "day                -0.068744         -0.071175       -0.008806   \n",
       "duration           -0.012077         -0.039476       -0.009497   \n",
       "campaign           -0.048672         -0.082282       -0.024854   \n",
       "pdays               0.110907          0.608719        0.338049   \n",
       "previous            0.099795          0.347800        0.318888   \n",
       "deposit             0.125239          0.021124        0.039319   \n",
       "age_cat             0.051113         -0.042362        0.012121   \n",
       "job_admin.          0.006847          0.038762        0.008044   \n",
       "job_blue-collar    -0.045333         -0.015957        0.003622   \n",
       "job_entrepreneur   -0.008032          0.002007       -0.022674   \n",
       "job_housemaid      -0.007499         -0.015545       -0.008928   \n",
       "job_management      0.037880          0.004471        0.010845   \n",
       "job_retired         0.062945         -0.011205       -0.002926   \n",
       "job_self-employed  -0.019143         -0.009059        0.004926   \n",
       "job_services       -0.023491         -0.003684       -0.015454   \n",
       "job_student         0.027500         -0.006769        0.040725   \n",
       "job_technician     -0.024729          0.005355       -0.011311   \n",
       "job_unemployed      0.002940         -0.009655       -0.012524   \n",
       "marital_divorced   -0.010148         -0.024844       -0.008730   \n",
       "marital_married    -0.019805          0.011364       -0.030038   \n",
       "marital_single      0.028071          0.005018        0.037987   \n",
       "contact_cellular    0.053452          0.166336        0.091506   \n",
       "contact_telephone   0.024017         -0.005817        0.014167   \n",
       "contact_unknown    -0.072969         -0.178493       -0.108666   \n",
       "month_apr          -0.050315          0.067926        0.041458   \n",
       "month_aug          -0.067031         -0.062600       -0.040444   \n",
       "month_dec          -0.016210          0.002631        0.036861   \n",
       "month_feb          -0.046202          0.060970        0.038671   \n",
       "month_jan          -0.030367          0.007226        0.055332   \n",
       "month_jul          -0.067954         -0.103570       -0.055530   \n",
       "month_jun          -0.058905         -0.074250       -0.036578   \n",
       "month_mar          -0.026066         -0.000021        0.026776   \n",
       "month_may          -0.099433          0.034538       -0.012275   \n",
       "month_nov          -0.048645          0.063342        0.005001   \n",
       "month_oct          -0.031145          0.044624        0.010524   \n",
       "month_sep           1.000000          0.029983        0.050486   \n",
       "poutcome_failure    0.029983          1.000000       -0.078494   \n",
       "poutcome_other      0.050486         -0.078494        1.000000   \n",
       "poutcome_success    0.135072         -0.112774       -0.071806   \n",
       "poutcome_unknown   -0.137132         -0.606736       -0.386326   \n",
       "\n",
       "                   poutcome_success  poutcome_unknown  \n",
       "age                        0.060009         -0.031455  \n",
       "education                  0.070489         -0.069069  \n",
       "default                   -0.041510          0.055032  \n",
       "balance                    0.073358         -0.085456  \n",
       "housing                   -0.134477          0.024082  \n",
       "loan                      -0.082098          0.059235  \n",
       "day                       -0.044366          0.085442  \n",
       "duration                  -0.025971          0.050571  \n",
       "campaign                  -0.094260          0.134842  \n",
       "pdays                      0.326215         -0.824031  \n",
       "previous                   0.328978         -0.628346  \n",
       "deposit                    0.288491         -0.228300  \n",
       "age_cat                    0.069088         -0.021810  \n",
       "job_admin.                 0.004628         -0.035007  \n",
       "job_blue-collar           -0.074494          0.059758  \n",
       "job_entrepreneur          -0.034155          0.032629  \n",
       "job_housemaid             -0.005594          0.019350  \n",
       "job_management             0.035995         -0.032725  \n",
       "job_retired                0.070006         -0.037501  \n",
       "job_self-employed         -0.000882          0.004705  \n",
       "job_services              -0.028109          0.029125  \n",
       "job_student                0.060619         -0.055835  \n",
       "job_technician            -0.018613          0.014196  \n",
       "job_unemployed             0.030416         -0.007316  \n",
       "marital_divorced          -0.020206          0.035771  \n",
       "marital_married           -0.008541          0.012296  \n",
       "marital_single             0.023010         -0.037729  \n",
       "contact_cellular           0.148420         -0.264559  \n",
       "contact_telephone          0.000254         -0.002934  \n",
       "contact_unknown           -0.162550          0.291242  \n",
       "month_apr                 -0.000767         -0.068823  \n",
       "month_aug                  0.007390          0.060037  \n",
       "month_dec                  0.068706         -0.066145  \n",
       "month_feb                  0.035524         -0.086813  \n",
       "month_jan                  0.013933         -0.041744  \n",
       "month_jul                 -0.067140          0.147044  \n",
       "month_jun                 -0.020967          0.085584  \n",
       "month_mar                  0.044550         -0.043056  \n",
       "month_may                 -0.099107          0.047688  \n",
       "month_nov                  0.015353         -0.058439  \n",
       "month_oct                  0.111386         -0.112154  \n",
       "month_sep                  0.135072         -0.137132  \n",
       "poutcome_failure          -0.112774         -0.606736  \n",
       "poutcome_other            -0.071806         -0.386326  \n",
       "poutcome_success           1.000000         -0.555044  \n",
       "poutcome_unknown          -0.555044          1.000000  \n",
       "\n",
       "[46 rows x 46 columns]"
      ]
     },
     "execution_count": 34,
     "metadata": {},
     "output_type": "execute_result"
    }
   ],
   "source": [
    "# постройте корреляционную матрицу и оцените данные на предмет наличия мультиколлинеарности\n",
    "corr_data = df.corr()\n",
    "corr_data"
   ]
  },
  {
   "cell_type": "code",
   "execution_count": 35,
   "id": "0ceb3512",
   "metadata": {},
   "outputs": [
    {
     "data": {
      "text/plain": [
       "<AxesSubplot:>"
      ]
     },
     "execution_count": 35,
     "metadata": {},
     "output_type": "execute_result"
    },
    {
     "data": {
      "image/png": "[encoded data removed]",
      "text/plain": [
       "<Figure size 1440x1440 with 2 Axes>"
      ]
     },
     "metadata": {
      "needs_background": "light"
     },
     "output_type": "display_data"
    }
   ],
   "source": [
    "plt.figure(figsize=(20,20))  \n",
    "sns.heatmap(corr_data[corr_data.abs()>0.65], annot=True, fmt = '.2f')"
   ]
  },
  {
   "cell_type": "code",
   "execution_count": 36,
   "id": "bddf6c08",
   "metadata": {},
   "outputs": [
    {
     "data": {
      "text/plain": [
       "duration             0.457818\n",
       "poutcome_success     0.288491\n",
       "contact_unknown      0.249294\n",
       "poutcome_unknown     0.228300\n",
       "contact_cellular     0.223944\n",
       "housing              0.200290\n",
       "month_may            0.168203\n",
       "pdays                0.147917\n",
       "previous             0.141102\n",
       "age_cat              0.136243\n",
       "balance              0.135893\n",
       "month_mar            0.135348\n",
       "campaign             0.130707\n",
       "month_oct            0.130599\n",
       "month_sep            0.125239\n",
       "loan                 0.107240\n",
       "job_student          0.105563\n",
       "job_retired          0.100090\n",
       "education            0.098253\n",
       "marital_single       0.097005\n",
       "job_blue-collar      0.095845\n",
       "marital_married      0.094246\n",
       "month_apr            0.092888\n",
       "month_dec            0.085041\n",
       "day                  0.056878\n",
       "month_feb            0.044728\n",
       "month_jul            0.042779\n",
       "job_services         0.040433\n",
       "poutcome_other       0.039319\n",
       "job_unemployed       0.039196\n",
       "default              0.038872\n",
       "job_entrepreneur     0.032706\n",
       "job_management       0.029566\n",
       "month_nov            0.027754\n",
       "month_jan            0.025847\n",
       "age                  0.024357\n",
       "job_housemaid        0.022572\n",
       "poutcome_failure     0.021124\n",
       "month_aug            0.018225\n",
       "job_technician       0.011190\n",
       "month_jun            0.008533\n",
       "contact_telephone    0.007064\n",
       "job_self-employed    0.005194\n",
       "marital_divorced     0.004808\n",
       "job_admin.           0.001927\n",
       "Name: deposit, dtype: float64"
      ]
     },
     "execution_count": 36,
     "metadata": {},
     "output_type": "execute_result"
    }
   ],
   "source": [
    "corr_with_target = df.corr()['deposit'].drop('deposit').abs().sort_values(ascending=False)\n",
    "corr_with_target"
   ]
  },
  {
   "cell_type": "code",
   "execution_count": 38,
   "id": "1e4d34ab",
   "metadata": {},
   "outputs": [
    {
     "data": {
      "image/png": "[encoded data removed]",
      "text/plain": [
       "<Figure size 1800x504 with 1 Axes>"
      ]
     },
     "metadata": {
      "needs_background": "light"
     },
     "output_type": "display_data"
    }
   ],
   "source": [
    "fig, ax = plt.subplots(figsize = (25, 7))\n",
    "sns.barplot(x=corr_with_target.index, y=corr_with_target.values)\n",
    "ax.set_title('Корреляция признаков с целевой переменной')\n",
    "ax.set_xlabel('Признаки')\n",
    "ax.set_ylabel('Коэффициентр Пирсона')\n",
    "ax.xaxis.set_tick_params(rotation = 45)"
   ]
  },
  {
   "cell_type": "markdown",
   "id": "b5b4c1a5",
   "metadata": {},
   "source": [
    "### Задания 7 и 8"
   ]
  },
  {
   "cell_type": "code",
   "execution_count": 39,
   "id": "d8c6575c",
   "metadata": {},
   "outputs": [],
   "source": [
    "X = df.drop('deposit', axis = 1)\n",
    "y = df['deposit']\n",
    "X_train, X_test, y_train, y_test = train_test_split(X, y, test_size=0.33, stratify=y, random_state=42)"
   ]
  },
  {
   "cell_type": "code",
   "execution_count": 40,
   "id": "e3a097a4",
   "metadata": {},
   "outputs": [
    {
     "name": "stdout",
     "output_type": "stream",
     "text": [
      "3335\n",
      "0.46\n",
      "0.46\n"
     ]
    }
   ],
   "source": [
    "# рассчитайте необходимые показатели\n",
    "print(len(y_test))\n",
    "print(round(np.mean(y_test),2))\n",
    "print(round(np.mean(y_train),2))"
   ]
  },
  {
   "cell_type": "markdown",
   "id": "2e381a4f",
   "metadata": {},
   "source": [
    "### Задание 9"
   ]
  },
  {
   "cell_type": "code",
   "execution_count": 41,
   "id": "4ba1c929",
   "metadata": {},
   "outputs": [
    {
     "name": "stdout",
     "output_type": "stream",
     "text": [
      "(6770, 45) (3335, 45)\n"
     ]
    }
   ],
   "source": [
    "print(X_train.shape, X_test.shape)"
   ]
  },
  {
   "cell_type": "code",
   "execution_count": 44,
   "id": "0f6e03e0",
   "metadata": {},
   "outputs": [
    {
     "name": "stdout",
     "output_type": "stream",
     "text": [
      "['balance' 'housing' 'duration' 'campaign' 'pdays' 'previous' 'age_cat'\n",
      " 'contact_cellular' 'contact_unknown' 'month_mar' 'month_may' 'month_oct'\n",
      " 'month_sep' 'poutcome_success' 'poutcome_unknown']\n",
      "(6770, 15) (3335, 15)\n"
     ]
    }
   ],
   "source": [
    "# с помощью SelectKBest отберите 15 наиболее подходящих признаков\n",
    "Kbest_selector = SelectKBest(\n",
    "    score_func=f_classif, #критерий отбора ANOVA\n",
    "    k = 15 #количество признаков\n",
    ")\n",
    "Kbest_selector.fit(X_train, y_train)\n",
    "print(Kbest_selector.get_feature_names_out())\n",
    "X_train = X_train[Kbest_selector.get_feature_names_out()]\n",
    "X_test = X_test[Kbest_selector.get_feature_names_out()]\n",
    "print(X_train.shape, X_test.shape)"
   ]
  },
  {
   "cell_type": "markdown",
   "id": "60132ef3",
   "metadata": {},
   "source": [
    "### Задание 10"
   ]
  },
  {
   "cell_type": "code",
   "execution_count": 45,
   "id": "e91b06f3",
   "metadata": {},
   "outputs": [],
   "source": [
    "# нормализуйте данные с помощью minmaxsxaler\n",
    "mm_scaler = preprocessing.MinMaxScaler()\n",
    "mm_scaler.fit(X_train)\n",
    "X_train_scaled = mm_scaler.transform(X_train)\n",
    "X_test_scaled = mm_scaler.transform(X_test)"
   ]
  },
  {
   "cell_type": "code",
   "execution_count": 46,
   "id": "1b71cbb6",
   "metadata": {},
   "outputs": [
    {
     "name": "stdout",
     "output_type": "stream",
     "text": [
      "0.47\n"
     ]
    }
   ],
   "source": [
    "print(round(X_test_scaled[:, 0].mean(),2)) "
   ]
  },
  {
   "cell_type": "markdown",
   "id": "0894c632",
   "metadata": {},
   "source": [
    "# Часть 4: Решение задачи классификации: логистическая регрессия и решающие деревья"
   ]
  },
  {
   "cell_type": "markdown",
   "id": "41b8ff06",
   "metadata": {},
   "source": [
    "### Задание 1"
   ]
  },
  {
   "cell_type": "code",
   "execution_count": 47,
   "id": "8acc0166",
   "metadata": {},
   "outputs": [
    {
     "data": {
      "text/plain": [
       "0.8048"
      ]
     },
     "execution_count": 47,
     "metadata": {},
     "output_type": "execute_result"
    }
   ],
   "source": [
    "# обучите логистическую регрессию и рассчитайте метрики качества\n",
    "lr_model = linear_model.LogisticRegression(solver ='sag', random_state = 42, max_iter=1000)\n",
    "lr_model.fit(X_train_scaled, y_train)\n",
    "\n",
    "y_test_pred = lr_model.predict(X_test_scaled)\n",
    "\n",
    "np.round(metrics.accuracy_score(y_test, y_test_pred), 4)"
   ]
  },
  {
   "cell_type": "markdown",
   "id": "29b7e0ba",
   "metadata": {},
   "source": [
    "### Задания 2,3,4"
   ]
  },
  {
   "cell_type": "code",
   "execution_count": 48,
   "id": "c91a588b",
   "metadata": {},
   "outputs": [
    {
     "name": "stdout",
     "output_type": "stream",
     "text": [
      "Accuracy train: 1.0\n",
      "Accuracy test: 0.7472263868065967\n"
     ]
    }
   ],
   "source": [
    "# обучите решающие деревья, настройте максимальную глубину\n",
    "tree_model = tree.DecisionTreeClassifier(criterion= 'entropy', random_state=42)\n",
    "tree_model.fit(X_train_scaled, y_train)\n",
    "y_train_pred = tree_model.predict(X_train_scaled)\n",
    "y_test_pred = tree_model.predict(X_test_scaled)\n",
    "\n",
    "print('Accuracy train: {}'.format(metrics.accuracy_score(y_train, y_train_pred)))\n",
    "print('Accuracy test: {}'.format(metrics.accuracy_score(y_test, y_test_pred)))"
   ]
  },
  {
   "cell_type": "code",
   "execution_count": 49,
   "id": "0083e796",
   "metadata": {},
   "outputs": [
    {
     "name": "stdout",
     "output_type": "stream",
     "text": [
      "36\n"
     ]
    }
   ],
   "source": [
    "print(tree_model.get_depth()) #определим глубину дерева, чтобы определиться с границами перебора"
   ]
  },
  {
   "cell_type": "code",
   "execution_count": 50,
   "id": "c62ba242",
   "metadata": {},
   "outputs": [],
   "source": [
    "max_depth_list = range(3, 37, 1) #перебираем глубину деревьев от 3 до 36 в цикле\n",
    "train_accuracy_list = []\n",
    "test_accuracy_list = []\n",
    "for max_depth in max_depth_list:\n",
    "    tree_model = tree.DecisionTreeClassifier(\n",
    "        max_depth = max_depth,\n",
    "        criterion = 'entropy',\n",
    "        random_state = 42)\n",
    "    tree_model.fit(X_train_scaled, y_train)\n",
    "    train_accuracy_list.append(metrics.accuracy_score(y_train, tree_model.predict(X_train_scaled))) #записываем метрики для train\n",
    "    test_accuracy_list.append(metrics.accuracy_score(y_test, tree_model.predict(X_test_scaled))) #записываем метрики для test\n",
    "    "
   ]
  },
  {
   "cell_type": "code",
   "execution_count": 51,
   "id": "6a17a68d",
   "metadata": {},
   "outputs": [
    {
     "name": "stderr",
     "output_type": "stream",
     "text": [
      "No artists with labels found to put in legend.  Note that artists whose label start with an underscore are ignored when legend() is called with no argument.\n"
     ]
    },
    {
     "data": {
      "image/png": "[encoded data removed]",
      "text/plain": [
       "<Figure size 720x360 with 1 Axes>"
      ]
     },
     "metadata": {
      "needs_background": "light"
     },
     "output_type": "display_data"
    }
   ],
   "source": [
    "fig, ax = plt.subplots(figsize = (10, 5)) #визуализируем, как меняются метрики в зависимости от глубины дерева\n",
    "sns.lineplot(x = max_depth_list, y = train_accuracy_list, legend='auto')\n",
    "sns.lineplot(x = max_depth_list, y = test_accuracy_list, legend='auto')\n",
    "ax.set_xlabel('Max depth')\n",
    "ax.set_ylabel('Accuracy')\n",
    "ax.legend()\n",
    "ax.set_xticks(max_depth_list); "
   ]
  },
  {
   "cell_type": "code",
   "execution_count": 52,
   "id": "1a188c45",
   "metadata": {},
   "outputs": [
    {
     "name": "stdout",
     "output_type": "stream",
     "text": [
      "Accuracy test: 0.81\n"
     ]
    }
   ],
   "source": [
    "tree_model = tree.DecisionTreeClassifier(\n",
    "        max_depth = 6,\n",
    "        criterion = 'entropy',\n",
    "        random_state = 42)\n",
    "tree_model.fit(X_train_scaled, y_train)\n",
    "y_test_pred = tree_model.predict(X_test_scaled)\n",
    "print('Accuracy test: {:.2f}'.format(metrics.accuracy_score(y_test, y_test_pred)))"
   ]
  },
  {
   "cell_type": "markdown",
   "id": "fe823c18",
   "metadata": {},
   "source": [
    "### Задание 5"
   ]
  },
  {
   "cell_type": "code",
   "execution_count": 55,
   "id": "63574943",
   "metadata": {},
   "outputs": [
    {
     "name": "stdout",
     "output_type": "stream",
     "text": [
      "f1 score test: 0.81\n"
     ]
    }
   ],
   "source": [
    "# подберите оптимальные параметры с помощью gridsearch\n",
    "\n",
    "from sklearn import model_selection\n",
    "param_grid = {\n",
    "    'min_samples_split': [2, 5, 7, 10],\n",
    "    'max_depth':[3,5,7]\n",
    "} #задаем сетку параметров\n",
    "\n",
    "grid_searcher = model_selection.GridSearchCV(\n",
    "    param_grid=param_grid,\n",
    "    estimator=tree.DecisionTreeClassifier(criterion = 'entropy', random_state = 42),\n",
    "    cv=5,\n",
    "    scoring = 'f1',\n",
    "    return_train_score=True,\n",
    "    n_jobs=-1    \n",
    ") #инициализируем GridSearchCV, подаем в него сетку параметров\n",
    "\n",
    "grid_searcher.fit(X_train_scaled, y_train) #поиск опт.параметров\n",
    "\n",
    "\n",
    "y_test_pred = grid_searcher.predict(X_test_scaled) #предсказание модели с подобранными параметрами\n",
    "print('f1 score test: {:.2f}'.format(metrics.f1_score(y_test, y_test_pred))) #оценка качества"
   ]
  },
  {
   "cell_type": "markdown",
   "id": "ed0fc831",
   "metadata": {},
   "source": [
    "# Часть 5: Решение задачи классификации: ансамбли моделей и построение прогноза"
   ]
  },
  {
   "cell_type": "markdown",
   "id": "f9e36ff2",
   "metadata": {},
   "source": [
    "### Задание 1"
   ]
  },
  {
   "cell_type": "code",
   "execution_count": 56,
   "id": "e708e3fe",
   "metadata": {},
   "outputs": [
    {
     "name": "stdout",
     "output_type": "stream",
     "text": [
      "              precision    recall  f1-score   support\n",
      "\n",
      "           0       0.85      0.82      0.84      1790\n",
      "           1       0.80      0.83      0.82      1545\n",
      "\n",
      "    accuracy                           0.83      3335\n",
      "   macro avg       0.83      0.83      0.83      3335\n",
      "weighted avg       0.83      0.83      0.83      3335\n",
      "\n"
     ]
    }
   ],
   "source": [
    "# обучите на ваших данных случайный лес\n",
    "\n",
    "rf_model = ensemble.RandomForestClassifier(\n",
    "    n_estimators=100,\n",
    "    criterion='gini',\n",
    "    min_samples_leaf=5,\n",
    "    max_depth=10,\n",
    "    random_state=42\n",
    ")\n",
    "\n",
    "rf_model.fit(X_train_scaled, y_train)\n",
    "y_test_pred = rf_model.predict(X_test_scaled)\n",
    "\n",
    "print(metrics.classification_report(y_test, y_test_pred))"
   ]
  },
  {
   "cell_type": "markdown",
   "id": "71d7b13d",
   "metadata": {},
   "source": [
    "### Задания 2 и 3"
   ]
  },
  {
   "cell_type": "code",
   "execution_count": 57,
   "id": "99f12dfe",
   "metadata": {},
   "outputs": [
    {
     "name": "stdout",
     "output_type": "stream",
     "text": [
      "f1 test: 0.82\n",
      "              precision    recall  f1-score   support\n",
      "\n",
      "           0       0.85      0.82      0.84      1790\n",
      "           1       0.80      0.83      0.82      1545\n",
      "\n",
      "    accuracy                           0.83      3335\n",
      "   macro avg       0.83      0.83      0.83      3335\n",
      "weighted avg       0.83      0.83      0.83      3335\n",
      "\n"
     ]
    }
   ],
   "source": [
    "# используйте для классификации градиентный бустинг и сравните качество со случайным лесом\n",
    "gr_boost_model = ensemble.GradientBoostingClassifier(\n",
    "    learning_rate=0.05,\n",
    "    n_estimators=300,\n",
    "    min_samples_leaf=5,\n",
    "    max_depth=5,\n",
    "    random_state=42\n",
    ")\n",
    "gr_boost_model.fit(X_train_scaled, y_train)\n",
    "\n",
    "y_test_pred = gr_boost_model.predict(X_test_scaled)\n",
    "\n",
    "print('f1 test: {:.2f}'.format(metrics.f1_score(y_test, y_test_pred)))\n",
    "print(metrics.classification_report(y_test, y_test_pred))"
   ]
  },
  {
   "cell_type": "markdown",
   "id": "b08718ae",
   "metadata": {},
   "source": [
    "### Задание 4"
   ]
  },
  {
   "cell_type": "code",
   "execution_count": 59,
   "id": "0bd42fb0",
   "metadata": {},
   "outputs": [
    {
     "name": "stdout",
     "output_type": "stream",
     "text": [
      "              precision    recall  f1-score   support\n",
      "\n",
      "           0       0.84      0.83      0.83      1790\n",
      "           1       0.80      0.81      0.81      1545\n",
      "\n",
      "    accuracy                           0.82      3335\n",
      "   macro avg       0.82      0.82      0.82      3335\n",
      "weighted avg       0.82      0.82      0.82      3335\n",
      "\n"
     ]
    }
   ],
   "source": [
    "# объедините уже известные вам алгоритмы с помощью стекинга\n",
    "estimators = [('lr', lr_model), ('tree', tree_model),  ('boost', gr_boost_model)] #задаем модели для стекинга\n",
    "stek_model = ensemble.StackingClassifier(\n",
    "    estimators=estimators, #передаем первичные модели для стекинга\n",
    "    final_estimator=lr_model #задаем финальную модель\n",
    ")\n",
    "\n",
    "stek_model.fit(X_train_scaled, y_train)\n",
    "y_test_pred = stek_model.predict(X_test_scaled)\n",
    "\n",
    "print(metrics.classification_report(y_test, y_test_pred))\n"
   ]
  },
  {
   "cell_type": "markdown",
   "id": "6247a5fb",
   "metadata": {},
   "source": [
    "### Задание 5"
   ]
  },
  {
   "cell_type": "code",
   "execution_count": 60,
   "id": "35de769c",
   "metadata": {},
   "outputs": [
    {
     "name": "stdout",
     "output_type": "stream",
     "text": [
      "['balance' 'duration' 'poutcome_success']\n"
     ]
    }
   ],
   "source": [
    "# оцените, какие признаки демонстрируют наибольшую  важность в модели градиентного бустинга\n",
    "\n",
    "from sklearn.feature_selection import RFE\n",
    "FRE_selector = RFE(\n",
    "    estimator = gr_boost_model,\n",
    "    n_features_to_select=3) #создаем объект класса RFE, указываем, что нужно отобрать 3 признака\n",
    "FRE_selector.fit(X_train, y_train)\n",
    "print(FRE_selector.get_feature_names_out())"
   ]
  },
  {
   "cell_type": "markdown",
   "id": "96974dda",
   "metadata": {},
   "source": [
    "### Задания 6,7,8"
   ]
  },
  {
   "cell_type": "code",
   "execution_count": 61,
   "id": "c48e29e9",
   "metadata": {},
   "outputs": [
    {
     "name": "stderr",
     "output_type": "stream",
     "text": [
      "\u001b[32m[I 2023-02-17 17:53:51,647]\u001b[0m A new study created in memory with name: Optuna rf optimizer\u001b[0m\n",
      "\u001b[32m[I 2023-02-17 17:53:53,203]\u001b[0m Trial 0 finished with value: 0.8138281002220107 and parameters: {'n_estimators': 160, 'max_depth': 19, 'min_samples_leaf': 9}. Best is trial 0 with value: 0.8138281002220107.\u001b[0m\n",
      "\u001b[32m[I 2023-02-17 17:53:54,318]\u001b[0m Trial 1 finished with value: 0.8129564941251192 and parameters: {'n_estimators': 123, 'max_depth': 10, 'min_samples_leaf': 6}. Best is trial 0 with value: 0.8138281002220107.\u001b[0m\n",
      "\u001b[32m[I 2023-02-17 17:53:55,768]\u001b[0m Trial 2 finished with value: 0.810965890978642 and parameters: {'n_estimators': 142, 'max_depth': 28, 'min_samples_leaf': 10}. Best is trial 0 with value: 0.8138281002220107.\u001b[0m\n",
      "\u001b[32m[I 2023-02-17 17:53:56,816]\u001b[0m Trial 3 finished with value: 0.815049004110022 and parameters: {'n_estimators': 122, 'max_depth': 26, 'min_samples_leaf': 7}. Best is trial 3 with value: 0.815049004110022.\u001b[0m\n",
      "\u001b[32m[I 2023-02-17 17:53:58,168]\u001b[0m Trial 4 finished with value: 0.8176656151419559 and parameters: {'n_estimators': 196, 'max_depth': 29, 'min_samples_leaf': 7}. Best is trial 4 with value: 0.8176656151419559.\u001b[0m\n",
      "\u001b[32m[I 2023-02-17 17:53:58,937]\u001b[0m Trial 5 finished with value: 0.8159898477157361 and parameters: {'n_estimators': 113, 'max_depth': 13, 'min_samples_leaf': 5}. Best is trial 4 with value: 0.8176656151419559.\u001b[0m\n",
      "\u001b[32m[I 2023-02-17 17:53:59,958]\u001b[0m Trial 6 finished with value: 0.8163913595933926 and parameters: {'n_estimators': 162, 'max_depth': 10, 'min_samples_leaf': 3}. Best is trial 4 with value: 0.8176656151419559.\u001b[0m\n",
      "\u001b[32m[I 2023-02-17 17:54:00,776]\u001b[0m Trial 7 finished with value: 0.8147914032869786 and parameters: {'n_estimators': 115, 'max_depth': 30, 'min_samples_leaf': 7}. Best is trial 4 with value: 0.8176656151419559.\u001b[0m\n",
      "\u001b[32m[I 2023-02-17 17:54:01,988]\u001b[0m Trial 8 finished with value: 0.8172652804032766 and parameters: {'n_estimators': 168, 'max_depth': 18, 'min_samples_leaf': 3}. Best is trial 4 with value: 0.8176656151419559.\u001b[0m\n",
      "\u001b[32m[I 2023-02-17 17:54:03,602]\u001b[0m Trial 9 finished with value: 0.8175228490387646 and parameters: {'n_estimators': 200, 'max_depth': 16, 'min_samples_leaf': 6}. Best is trial 4 with value: 0.8176656151419559.\u001b[0m\n",
      "\u001b[32m[I 2023-02-17 17:54:04,852]\u001b[0m Trial 10 finished with value: 0.8168035375868604 and parameters: {'n_estimators': 200, 'max_depth': 24, 'min_samples_leaf': 8}. Best is trial 4 with value: 0.8176656151419559.\u001b[0m\n",
      "\u001b[32m[I 2023-02-17 17:54:06,105]\u001b[0m Trial 11 finished with value: 0.8166877370417194 and parameters: {'n_estimators': 200, 'max_depth': 16, 'min_samples_leaf': 5}. Best is trial 4 with value: 0.8176656151419559.\u001b[0m\n",
      "\u001b[32m[I 2023-02-17 17:54:07,330]\u001b[0m Trial 12 finished with value: 0.8177805800756621 and parameters: {'n_estimators': 182, 'max_depth': 23, 'min_samples_leaf': 5}. Best is trial 12 with value: 0.8177805800756621.\u001b[0m\n",
      "\u001b[32m[I 2023-02-17 17:54:08,496]\u001b[0m Trial 13 finished with value: 0.8166351606805292 and parameters: {'n_estimators': 181, 'max_depth': 23, 'min_samples_leaf': 4}. Best is trial 12 with value: 0.8177805800756621.\u001b[0m\n",
      "\u001b[32m[I 2023-02-17 17:54:09,500]\u001b[0m Trial 14 finished with value: 0.8153067678684377 and parameters: {'n_estimators': 175, 'max_depth': 22, 'min_samples_leaf': 8}. Best is trial 12 with value: 0.8177805800756621.\u001b[0m\n",
      "\u001b[32m[I 2023-02-17 17:54:11,166]\u001b[0m Trial 15 finished with value: 0.8160955674316254 and parameters: {'n_estimators': 185, 'max_depth': 30, 'min_samples_leaf': 2}. Best is trial 12 with value: 0.8177805800756621.\u001b[0m\n",
      "\u001b[32m[I 2023-02-17 17:54:12,625]\u001b[0m Trial 16 finished with value: 0.8178086517208715 and parameters: {'n_estimators': 143, 'max_depth': 26, 'min_samples_leaf': 5}. Best is trial 16 with value: 0.8178086517208715.\u001b[0m\n",
      "\u001b[32m[I 2023-02-17 17:54:14,036]\u001b[0m Trial 17 finished with value: 0.8182389937106916 and parameters: {'n_estimators': 144, 'max_depth': 26, 'min_samples_leaf': 4}. Best is trial 17 with value: 0.8182389937106916.\u001b[0m\n",
      "\u001b[32m[I 2023-02-17 17:54:15,130]\u001b[0m Trial 18 finished with value: 0.817867253853413 and parameters: {'n_estimators': 142, 'max_depth': 26, 'min_samples_leaf': 4}. Best is trial 17 with value: 0.8182389937106916.\u001b[0m\n",
      "\u001b[32m[I 2023-02-17 17:54:16,185]\u001b[0m Trial 19 finished with value: 0.817353033637221 and parameters: {'n_estimators': 131, 'max_depth': 26, 'min_samples_leaf': 2}. Best is trial 17 with value: 0.8182389937106916.\u001b[0m\n"
     ]
    },
    {
     "name": "stdout",
     "output_type": "stream",
     "text": [
      "{'n_estimators': 144, 'max_depth': 26, 'min_samples_leaf': 4}\n",
      "f1 test: 0.82\n"
     ]
    }
   ],
   "source": [
    "# реализуйте оптимизацию гиперпараметров с помощью Optuna\n",
    "import optuna\n",
    "\n",
    "def optuna_searcher(trial):\n",
    "    n_estimators = trial.suggest_int('n_estimators', 100, 200, 1)\n",
    "    max_depth = trial.suggest_int('max_depth', 10, 30, 1)\n",
    "    min_samples_leaf = trial.suggest_int('min_samples_leaf', 2, 10, 1) #задаем пространства признаков для оптимизации\n",
    "    \n",
    "    model = ensemble.RandomForestClassifier(\n",
    "        n_estimators=n_estimators,\n",
    "        max_depth = max_depth,\n",
    "        min_samples_leaf = min_samples_leaf,\n",
    "        random_state=42   \n",
    "    ) #задаем модель для которой проводится оптимизация\n",
    "    model.fit(X_train_scaled, y_train)\n",
    "    score = metrics.f1_score(y_test, model.predict(X_test_scaled)) #задаем метрику для оптимизации\n",
    "    return score\n",
    "\n",
    "study = optuna.create_study(study_name='Optuna rf optimizer', direction='maximize') #создаем объект для оптимизации\n",
    "study.optimize(func = optuna_searcher, n_trials=20) #проводим оптимизацию\n",
    "print(study.best_params)\n",
    "\n",
    "\n",
    "best_model = ensemble.RandomForestClassifier(**study.best_params, random_state=42) #строим модель с найденными оптимальными параметрами\n",
    "best_model.fit(X_train_scaled, y_train)\n",
    "y_test_pred = best_model.predict(X_test_scaled)\n",
    "\n",
    "print('f1 test: {:.2f}'.format(metrics.f1_score(y_test, y_test_pred)))    #оцениваем качество"
   ]
  },
  {
   "cell_type": "code",
   "execution_count": 62,
   "id": "0c065f7a",
   "metadata": {},
   "outputs": [],
   "source": [
    "!pip freeze > requirements.txt"
   ]
  }
 ],
 "metadata": {
  "kernelspec": {
   "display_name": "Python 3",
   "language": "python",
   "name": "python3"
  },
  "language_info": {
   "codemirror_mode": {
    "name": "ipython",
    "version": 3
   },
   "file_extension": ".py",
   "mimetype": "text/x-python",
   "name": "python",
   "nbconvert_exporter": "python",
   "pygments_lexer": "ipython3",
   "version": "3.9.10"
  },
  "vscode": {
   "interpreter": {
    "hash": "9f086136165bce3aeeb244448ca5394686af1346905e521452f0b4d8420c1205"
   }
  }
 },
 "nbformat": 4,
 "nbformat_minor": 5
}
