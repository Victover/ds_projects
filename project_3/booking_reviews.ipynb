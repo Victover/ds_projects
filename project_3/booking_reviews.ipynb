{
 "cells": [
  {
   "cell_type": "code",
   "execution_count": 1,
   "metadata": {},
   "outputs": [],
   "source": [
    "import numpy as np # linear algebra\n",
    "import pandas as pd # data processing, CSV file I/O (e.g. pd.read_csv)\n",
    "\n",
    "# импортируем библиотеки для визуализации\n",
    "import matplotlib.pyplot as plt\n",
    "import seaborn as sns \n",
    "%matplotlib inline\n",
    "\n",
    "# Загружаем специальный удобный инструмент для разделения датасета:\n",
    "from sklearn.model_selection import train_test_split"
   ]
  },
  {
   "cell_type": "code",
   "execution_count": 2,
   "metadata": {},
   "outputs": [],
   "source": [
    "# всегда фиксируйте RANDOM_SEED, чтобы ваши эксперименты были воспроизводимы!\n",
    "RANDOM_SEED = 42"
   ]
  },
  {
   "cell_type": "code",
   "execution_count": 3,
   "metadata": {},
   "outputs": [],
   "source": [
    "# зафиксируем версию пакетов, чтобы эксперименты были воспроизводимы:\n",
    "!pip freeze > requirements.txt"
   ]
  },
  {
   "cell_type": "code",
   "execution_count": 4,
   "metadata": {},
   "outputs": [],
   "source": [
    "df_train = pd.read_csv('hotels_train.csv') # датасет для обучения\n",
    "df_test = pd.read_csv('hotels_test.csv') # датасет для предсказания\n",
    "sample_submission = pd.read_csv('submission.csv') # самбмишн"
   ]
  },
  {
   "cell_type": "code",
   "execution_count": 5,
   "metadata": {},
   "outputs": [
    {
     "name": "stdout",
     "output_type": "stream",
     "text": [
      "<class 'pandas.core.frame.DataFrame'>\n",
      "RangeIndex: 386803 entries, 0 to 386802\n",
      "Data columns (total 17 columns):\n",
      " #   Column                                      Non-Null Count   Dtype  \n",
      "---  ------                                      --------------   -----  \n",
      " 0   hotel_address                               386803 non-null  object \n",
      " 1   additional_number_of_scoring                386803 non-null  int64  \n",
      " 2   review_date                                 386803 non-null  object \n",
      " 3   average_score                               386803 non-null  float64\n",
      " 4   hotel_name                                  386803 non-null  object \n",
      " 5   reviewer_nationality                        386803 non-null  object \n",
      " 6   negative_review                             386803 non-null  object \n",
      " 7   review_total_negative_word_counts           386803 non-null  int64  \n",
      " 8   total_number_of_reviews                     386803 non-null  int64  \n",
      " 9   positive_review                             386803 non-null  object \n",
      " 10  review_total_positive_word_counts           386803 non-null  int64  \n",
      " 11  total_number_of_reviews_reviewer_has_given  386803 non-null  int64  \n",
      " 12  reviewer_score                              386803 non-null  float64\n",
      " 13  tags                                        386803 non-null  object \n",
      " 14  days_since_review                           386803 non-null  object \n",
      " 15  lat                                         384355 non-null  float64\n",
      " 16  lng                                         384355 non-null  float64\n",
      "dtypes: float64(4), int64(5), object(8)\n",
      "memory usage: 50.2+ MB\n"
     ]
    }
   ],
   "source": [
    "df_train.info()"
   ]
  },
  {
   "cell_type": "code",
   "execution_count": 6,
   "metadata": {},
   "outputs": [
    {
     "data": {
      "text/html": [
       "<div>\n",
       "<style scoped>\n",
       "    .dataframe tbody tr th:only-of-type {\n",
       "        vertical-align: middle;\n",
       "    }\n",
       "\n",
       "    .dataframe tbody tr th {\n",
       "        vertical-align: top;\n",
       "    }\n",
       "\n",
       "    .dataframe thead th {\n",
       "        text-align: right;\n",
       "    }\n",
       "</style>\n",
       "<table border=\"1\" class=\"dataframe\">\n",
       "  <thead>\n",
       "    <tr style=\"text-align: right;\">\n",
       "      <th></th>\n",
       "      <th>hotel_address</th>\n",
       "      <th>additional_number_of_scoring</th>\n",
       "      <th>review_date</th>\n",
       "      <th>average_score</th>\n",
       "      <th>hotel_name</th>\n",
       "      <th>reviewer_nationality</th>\n",
       "      <th>negative_review</th>\n",
       "      <th>review_total_negative_word_counts</th>\n",
       "      <th>total_number_of_reviews</th>\n",
       "      <th>positive_review</th>\n",
       "      <th>review_total_positive_word_counts</th>\n",
       "      <th>total_number_of_reviews_reviewer_has_given</th>\n",
       "      <th>reviewer_score</th>\n",
       "      <th>tags</th>\n",
       "      <th>days_since_review</th>\n",
       "      <th>lat</th>\n",
       "      <th>lng</th>\n",
       "    </tr>\n",
       "  </thead>\n",
       "  <tbody>\n",
       "    <tr>\n",
       "      <th>0</th>\n",
       "      <td>Stratton Street Mayfair Westminster Borough Lo...</td>\n",
       "      <td>581</td>\n",
       "      <td>2/19/2016</td>\n",
       "      <td>8.4</td>\n",
       "      <td>The May Fair Hotel</td>\n",
       "      <td>United Kingdom</td>\n",
       "      <td>Leaving</td>\n",
       "      <td>3</td>\n",
       "      <td>1994</td>\n",
       "      <td>Staff were amazing</td>\n",
       "      <td>4</td>\n",
       "      <td>7</td>\n",
       "      <td>10.0</td>\n",
       "      <td>[' Leisure trip ', ' Couple ', ' Studio Suite ...</td>\n",
       "      <td>531 day</td>\n",
       "      <td>51.507894</td>\n",
       "      <td>-0.143671</td>\n",
       "    </tr>\n",
       "    <tr>\n",
       "      <th>1</th>\n",
       "      <td>130 134 Southampton Row Camden London WC1B 5AF...</td>\n",
       "      <td>299</td>\n",
       "      <td>1/12/2017</td>\n",
       "      <td>8.3</td>\n",
       "      <td>Mercure London Bloomsbury Hotel</td>\n",
       "      <td>United Kingdom</td>\n",
       "      <td>poor breakfast</td>\n",
       "      <td>3</td>\n",
       "      <td>1361</td>\n",
       "      <td>location</td>\n",
       "      <td>2</td>\n",
       "      <td>14</td>\n",
       "      <td>6.3</td>\n",
       "      <td>[' Business trip ', ' Couple ', ' Standard Dou...</td>\n",
       "      <td>203 day</td>\n",
       "      <td>51.521009</td>\n",
       "      <td>-0.123097</td>\n",
       "    </tr>\n",
       "  </tbody>\n",
       "</table>\n",
       "</div>"
      ],
      "text/plain": [
       "                                       hotel_address  \\\n",
       "0  Stratton Street Mayfair Westminster Borough Lo...   \n",
       "1  130 134 Southampton Row Camden London WC1B 5AF...   \n",
       "\n",
       "   additional_number_of_scoring review_date  average_score  \\\n",
       "0                           581   2/19/2016            8.4   \n",
       "1                           299   1/12/2017            8.3   \n",
       "\n",
       "                        hotel_name reviewer_nationality  negative_review  \\\n",
       "0               The May Fair Hotel      United Kingdom          Leaving    \n",
       "1  Mercure London Bloomsbury Hotel      United Kingdom    poor breakfast   \n",
       "\n",
       "   review_total_negative_word_counts  total_number_of_reviews  \\\n",
       "0                                  3                     1994   \n",
       "1                                  3                     1361   \n",
       "\n",
       "       positive_review  review_total_positive_word_counts  \\\n",
       "0   Staff were amazing                                  4   \n",
       "1             location                                  2   \n",
       "\n",
       "   total_number_of_reviews_reviewer_has_given  reviewer_score  \\\n",
       "0                                           7            10.0   \n",
       "1                                          14             6.3   \n",
       "\n",
       "                                                tags days_since_review  \\\n",
       "0  [' Leisure trip ', ' Couple ', ' Studio Suite ...           531 day   \n",
       "1  [' Business trip ', ' Couple ', ' Standard Dou...           203 day   \n",
       "\n",
       "         lat       lng  \n",
       "0  51.507894 -0.143671  \n",
       "1  51.521009 -0.123097  "
      ]
     },
     "execution_count": 6,
     "metadata": {},
     "output_type": "execute_result"
    }
   ],
   "source": [
    "df_train.head(2)"
   ]
  },
  {
   "cell_type": "code",
   "execution_count": 7,
   "metadata": {},
   "outputs": [
    {
     "name": "stdout",
     "output_type": "stream",
     "text": [
      "<class 'pandas.core.frame.DataFrame'>\n",
      "RangeIndex: 128935 entries, 0 to 128934\n",
      "Data columns (total 16 columns):\n",
      " #   Column                                      Non-Null Count   Dtype  \n",
      "---  ------                                      --------------   -----  \n",
      " 0   hotel_address                               128935 non-null  object \n",
      " 1   additional_number_of_scoring                128935 non-null  int64  \n",
      " 2   review_date                                 128935 non-null  object \n",
      " 3   average_score                               128935 non-null  float64\n",
      " 4   hotel_name                                  128935 non-null  object \n",
      " 5   reviewer_nationality                        128935 non-null  object \n",
      " 6   negative_review                             128935 non-null  object \n",
      " 7   review_total_negative_word_counts           128935 non-null  int64  \n",
      " 8   total_number_of_reviews                     128935 non-null  int64  \n",
      " 9   positive_review                             128935 non-null  object \n",
      " 10  review_total_positive_word_counts           128935 non-null  int64  \n",
      " 11  total_number_of_reviews_reviewer_has_given  128935 non-null  int64  \n",
      " 12  tags                                        128935 non-null  object \n",
      " 13  days_since_review                           128935 non-null  object \n",
      " 14  lat                                         128115 non-null  float64\n",
      " 15  lng                                         128115 non-null  float64\n",
      "dtypes: float64(3), int64(5), object(8)\n",
      "memory usage: 15.7+ MB\n"
     ]
    }
   ],
   "source": [
    "df_test.info()"
   ]
  },
  {
   "cell_type": "code",
   "execution_count": 8,
   "metadata": {},
   "outputs": [
    {
     "data": {
      "text/html": [
       "<div>\n",
       "<style scoped>\n",
       "    .dataframe tbody tr th:only-of-type {\n",
       "        vertical-align: middle;\n",
       "    }\n",
       "\n",
       "    .dataframe tbody tr th {\n",
       "        vertical-align: top;\n",
       "    }\n",
       "\n",
       "    .dataframe thead th {\n",
       "        text-align: right;\n",
       "    }\n",
       "</style>\n",
       "<table border=\"1\" class=\"dataframe\">\n",
       "  <thead>\n",
       "    <tr style=\"text-align: right;\">\n",
       "      <th></th>\n",
       "      <th>hotel_address</th>\n",
       "      <th>additional_number_of_scoring</th>\n",
       "      <th>review_date</th>\n",
       "      <th>average_score</th>\n",
       "      <th>hotel_name</th>\n",
       "      <th>reviewer_nationality</th>\n",
       "      <th>negative_review</th>\n",
       "      <th>review_total_negative_word_counts</th>\n",
       "      <th>total_number_of_reviews</th>\n",
       "      <th>positive_review</th>\n",
       "      <th>review_total_positive_word_counts</th>\n",
       "      <th>total_number_of_reviews_reviewer_has_given</th>\n",
       "      <th>tags</th>\n",
       "      <th>days_since_review</th>\n",
       "      <th>lat</th>\n",
       "      <th>lng</th>\n",
       "    </tr>\n",
       "  </thead>\n",
       "  <tbody>\n",
       "    <tr>\n",
       "      <th>0</th>\n",
       "      <td>Via Senigallia 6 20161 Milan Italy</td>\n",
       "      <td>904</td>\n",
       "      <td>7/21/2017</td>\n",
       "      <td>8.1</td>\n",
       "      <td>Hotel Da Vinci</td>\n",
       "      <td>United Kingdom</td>\n",
       "      <td>Would have appreciated a shop in the hotel th...</td>\n",
       "      <td>52</td>\n",
       "      <td>16670</td>\n",
       "      <td>Hotel was great clean friendly staff free bre...</td>\n",
       "      <td>62</td>\n",
       "      <td>1</td>\n",
       "      <td>[' Leisure trip ', ' Couple ', ' Double Room '...</td>\n",
       "      <td>13 days</td>\n",
       "      <td>45.533137</td>\n",
       "      <td>9.171102</td>\n",
       "    </tr>\n",
       "    <tr>\n",
       "      <th>1</th>\n",
       "      <td>Arlandaweg 10 Westpoort 1043 EW Amsterdam Neth...</td>\n",
       "      <td>612</td>\n",
       "      <td>12/12/2016</td>\n",
       "      <td>8.6</td>\n",
       "      <td>Urban Lodge Hotel</td>\n",
       "      <td>Belgium</td>\n",
       "      <td>No tissue paper box was present at the room</td>\n",
       "      <td>10</td>\n",
       "      <td>5018</td>\n",
       "      <td>No Positive</td>\n",
       "      <td>0</td>\n",
       "      <td>7</td>\n",
       "      <td>[' Leisure trip ', ' Group ', ' Triple Room ',...</td>\n",
       "      <td>234 day</td>\n",
       "      <td>52.385649</td>\n",
       "      <td>4.834443</td>\n",
       "    </tr>\n",
       "  </tbody>\n",
       "</table>\n",
       "</div>"
      ],
      "text/plain": [
       "                                       hotel_address  \\\n",
       "0                 Via Senigallia 6 20161 Milan Italy   \n",
       "1  Arlandaweg 10 Westpoort 1043 EW Amsterdam Neth...   \n",
       "\n",
       "   additional_number_of_scoring review_date  average_score         hotel_name  \\\n",
       "0                           904   7/21/2017            8.1     Hotel Da Vinci   \n",
       "1                           612  12/12/2016            8.6  Urban Lodge Hotel   \n",
       "\n",
       "  reviewer_nationality                                    negative_review  \\\n",
       "0      United Kingdom    Would have appreciated a shop in the hotel th...   \n",
       "1             Belgium         No tissue paper box was present at the room   \n",
       "\n",
       "   review_total_negative_word_counts  total_number_of_reviews  \\\n",
       "0                                 52                    16670   \n",
       "1                                 10                     5018   \n",
       "\n",
       "                                     positive_review  \\\n",
       "0   Hotel was great clean friendly staff free bre...   \n",
       "1                                        No Positive   \n",
       "\n",
       "   review_total_positive_word_counts  \\\n",
       "0                                 62   \n",
       "1                                  0   \n",
       "\n",
       "   total_number_of_reviews_reviewer_has_given  \\\n",
       "0                                           1   \n",
       "1                                           7   \n",
       "\n",
       "                                                tags days_since_review  \\\n",
       "0  [' Leisure trip ', ' Couple ', ' Double Room '...           13 days   \n",
       "1  [' Leisure trip ', ' Group ', ' Triple Room ',...           234 day   \n",
       "\n",
       "         lat       lng  \n",
       "0  45.533137  9.171102  \n",
       "1  52.385649  4.834443  "
      ]
     },
     "execution_count": 8,
     "metadata": {},
     "output_type": "execute_result"
    }
   ],
   "source": [
    "df_test.head(2)"
   ]
  },
  {
   "cell_type": "code",
   "execution_count": 9,
   "metadata": {},
   "outputs": [
    {
     "data": {
      "text/html": [
       "<div>\n",
       "<style scoped>\n",
       "    .dataframe tbody tr th:only-of-type {\n",
       "        vertical-align: middle;\n",
       "    }\n",
       "\n",
       "    .dataframe tbody tr th {\n",
       "        vertical-align: top;\n",
       "    }\n",
       "\n",
       "    .dataframe thead th {\n",
       "        text-align: right;\n",
       "    }\n",
       "</style>\n",
       "<table border=\"1\" class=\"dataframe\">\n",
       "  <thead>\n",
       "    <tr style=\"text-align: right;\">\n",
       "      <th></th>\n",
       "      <th>reviewer_score</th>\n",
       "      <th>id</th>\n",
       "    </tr>\n",
       "  </thead>\n",
       "  <tbody>\n",
       "    <tr>\n",
       "      <th>0</th>\n",
       "      <td>1</td>\n",
       "      <td>488440</td>\n",
       "    </tr>\n",
       "    <tr>\n",
       "      <th>1</th>\n",
       "      <td>10</td>\n",
       "      <td>274649</td>\n",
       "    </tr>\n",
       "  </tbody>\n",
       "</table>\n",
       "</div>"
      ],
      "text/plain": [
       "   reviewer_score      id\n",
       "0               1  488440\n",
       "1              10  274649"
      ]
     },
     "execution_count": 9,
     "metadata": {},
     "output_type": "execute_result"
    }
   ],
   "source": [
    "sample_submission.head(2)"
   ]
  },
  {
   "cell_type": "code",
   "execution_count": 10,
   "metadata": {},
   "outputs": [
    {
     "name": "stdout",
     "output_type": "stream",
     "text": [
      "<class 'pandas.core.frame.DataFrame'>\n",
      "RangeIndex: 128935 entries, 0 to 128934\n",
      "Data columns (total 2 columns):\n",
      " #   Column          Non-Null Count   Dtype\n",
      "---  ------          --------------   -----\n",
      " 0   reviewer_score  128935 non-null  int64\n",
      " 1   id              128935 non-null  int64\n",
      "dtypes: int64(2)\n",
      "memory usage: 2.0 MB\n"
     ]
    }
   ],
   "source": [
    "sample_submission.info()"
   ]
  },
  {
   "cell_type": "code",
   "execution_count": 11,
   "metadata": {},
   "outputs": [
    {
     "name": "stderr",
     "output_type": "stream",
     "text": [
      "C:\\Users\\Asus-PC\\AppData\\Local\\Temp\\ipykernel_13344\\447817491.py:6: FutureWarning: The frame.append method is deprecated and will be removed from pandas in a future version. Use pandas.concat instead.\n",
      "  data = df_test.append(df_train, sort=False).reset_index(drop=True) # объединяем\n"
     ]
    }
   ],
   "source": [
    "# ВАЖНО! дря корректной обработки признаков объединяем трейн и тест в один датасет\n",
    "df_train['sample'] = 1 # помечаем где у нас трейн\n",
    "df_test['sample'] = 0 # помечаем где у нас тест\n",
    "df_test['reviewer_score'] = 0 # в тесте у нас нет значения reviewer_score, мы его должны предсказать, по этому пока просто заполняем нулями\n",
    "\n",
    "data = df_test.append(df_train, sort=False).reset_index(drop=True) # объединяем"
   ]
  },
  {
   "cell_type": "code",
   "execution_count": 12,
   "metadata": {},
   "outputs": [
    {
     "name": "stdout",
     "output_type": "stream",
     "text": [
      "<class 'pandas.core.frame.DataFrame'>\n",
      "RangeIndex: 515738 entries, 0 to 515737\n",
      "Data columns (total 18 columns):\n",
      " #   Column                                      Non-Null Count   Dtype  \n",
      "---  ------                                      --------------   -----  \n",
      " 0   hotel_address                               515738 non-null  object \n",
      " 1   additional_number_of_scoring                515738 non-null  int64  \n",
      " 2   review_date                                 515738 non-null  object \n",
      " 3   average_score                               515738 non-null  float64\n",
      " 4   hotel_name                                  515738 non-null  object \n",
      " 5   reviewer_nationality                        515738 non-null  object \n",
      " 6   negative_review                             515738 non-null  object \n",
      " 7   review_total_negative_word_counts           515738 non-null  int64  \n",
      " 8   total_number_of_reviews                     515738 non-null  int64  \n",
      " 9   positive_review                             515738 non-null  object \n",
      " 10  review_total_positive_word_counts           515738 non-null  int64  \n",
      " 11  total_number_of_reviews_reviewer_has_given  515738 non-null  int64  \n",
      " 12  tags                                        515738 non-null  object \n",
      " 13  days_since_review                           515738 non-null  object \n",
      " 14  lat                                         512470 non-null  float64\n",
      " 15  lng                                         512470 non-null  float64\n",
      " 16  sample                                      515738 non-null  int64  \n",
      " 17  reviewer_score                              515738 non-null  float64\n",
      "dtypes: float64(4), int64(6), object(8)\n",
      "memory usage: 70.8+ MB\n"
     ]
    }
   ],
   "source": [
    "data.info()"
   ]
  },
  {
   "cell_type": "code",
   "execution_count": 13,
   "metadata": {},
   "outputs": [
    {
     "name": "stdout",
     "output_type": "stream",
     "text": [
      "Requirement already satisfied: nltk in c:\\users\\asus-pc\\appdata\\local\\programs\\python\\python39\\lib\\site-packages (3.7)\n",
      "Requirement already satisfied: tqdm in c:\\users\\asus-pc\\appdata\\local\\programs\\python\\python39\\lib\\site-packages (from nltk) (4.64.1)\n",
      "Requirement already satisfied: regex>=2021.8.3 in c:\\users\\asus-pc\\appdata\\local\\programs\\python\\python39\\lib\\site-packages (from nltk) (2022.10.31)\n",
      "Requirement already satisfied: joblib in c:\\users\\asus-pc\\appdata\\local\\programs\\python\\python39\\lib\\site-packages (from nltk) (1.1.0)\n",
      "Requirement already satisfied: click in c:\\users\\asus-pc\\appdata\\local\\programs\\python\\python39\\lib\\site-packages (from nltk) (8.1.3)\n",
      "Requirement already satisfied: colorama in c:\\users\\asus-pc\\appdata\\local\\programs\\python\\python39\\lib\\site-packages (from click->nltk) (0.4.4)\n"
     ]
    },
    {
     "name": "stderr",
     "output_type": "stream",
     "text": [
      "WARNING: You are using pip version 21.2.4; however, version 22.3.1 is available.\n",
      "You should consider upgrading via the 'C:\\Users\\Asus-PC\\AppData\\Local\\Programs\\Python\\Python39\\python.exe -m pip install --upgrade pip' command.\n"
     ]
    }
   ],
   "source": [
    "!pip3 install nltk"
   ]
  },
  {
   "cell_type": "code",
   "execution_count": 14,
   "metadata": {},
   "outputs": [
    {
     "name": "stderr",
     "output_type": "stream",
     "text": [
      "[nltk_data] Downloading package vader_lexicon to C:\\Users\\Asus-\n",
      "[nltk_data]     PC\\AppData\\Roaming\\nltk_data...\n",
      "[nltk_data]   Package vader_lexicon is already up-to-date!\n"
     ]
    }
   ],
   "source": [
    "# создаем новые признаки на основе 'negative_review' и 'positive_review'\n",
    "import nltk\n",
    "from nltk.sentiment.vader import SentimentIntensityAnalyzer\n",
    "import time\n",
    "nltk.downloader.download('vader_lexicon')\n",
    "\n",
    "sent_analyzer = SentimentIntensityAnalyzer()\n",
    "\n",
    "data['neg_neg'] = data['negative_review'].apply(lambda x: sent_analyzer.polarity_scores(x)['neg'])\n",
    "data['neg_neu'] = data['negative_review'].apply(lambda x: sent_analyzer.polarity_scores(x)['neu'])\n",
    "data['neg_pos'] = data['negative_review'].apply(lambda x: sent_analyzer.polarity_scores(x)['pos'])\n",
    "data['neg_compound'] = data['negative_review'].apply(lambda x: sent_analyzer.polarity_scores(x)['compound'])\n",
    "\n",
    "data['pos_neg'] = data['positive_review'].apply(lambda x: sent_analyzer.polarity_scores(x)['neg'])\n",
    "data['pos_neu'] = data['positive_review'].apply(lambda x: sent_analyzer.polarity_scores(x)['neu'])\n",
    "data['pos_pos'] = data['positive_review'].apply(lambda x: sent_analyzer.polarity_scores(x)['pos'])\n",
    "data['pos_compound'] = data['positive_review'].apply(lambda x: sent_analyzer.polarity_scores(x)['compound'])"
   ]
  },
  {
   "cell_type": "code",
   "execution_count": 15,
   "metadata": {},
   "outputs": [
    {
     "name": "stdout",
     "output_type": "stream",
     "text": [
      "<class 'pandas.core.frame.DataFrame'>\n",
      "RangeIndex: 515738 entries, 0 to 515737\n",
      "Data columns (total 26 columns):\n",
      " #   Column                                      Non-Null Count   Dtype  \n",
      "---  ------                                      --------------   -----  \n",
      " 0   hotel_address                               515738 non-null  object \n",
      " 1   additional_number_of_scoring                515738 non-null  int64  \n",
      " 2   review_date                                 515738 non-null  object \n",
      " 3   average_score                               515738 non-null  float64\n",
      " 4   hotel_name                                  515738 non-null  object \n",
      " 5   reviewer_nationality                        515738 non-null  object \n",
      " 6   negative_review                             515738 non-null  object \n",
      " 7   review_total_negative_word_counts           515738 non-null  int64  \n",
      " 8   total_number_of_reviews                     515738 non-null  int64  \n",
      " 9   positive_review                             515738 non-null  object \n",
      " 10  review_total_positive_word_counts           515738 non-null  int64  \n",
      " 11  total_number_of_reviews_reviewer_has_given  515738 non-null  int64  \n",
      " 12  tags                                        515738 non-null  object \n",
      " 13  days_since_review                           515738 non-null  object \n",
      " 14  lat                                         512470 non-null  float64\n",
      " 15  lng                                         512470 non-null  float64\n",
      " 16  sample                                      515738 non-null  int64  \n",
      " 17  reviewer_score                              515738 non-null  float64\n",
      " 18  neg_neg                                     515738 non-null  float64\n",
      " 19  neg_neu                                     515738 non-null  float64\n",
      " 20  neg_pos                                     515738 non-null  float64\n",
      " 21  neg_compound                                515738 non-null  float64\n",
      " 22  pos_neg                                     515738 non-null  float64\n",
      " 23  pos_neu                                     515738 non-null  float64\n",
      " 24  pos_pos                                     515738 non-null  float64\n",
      " 25  pos_compound                                515738 non-null  float64\n",
      "dtypes: float64(12), int64(6), object(8)\n",
      "memory usage: 102.3+ MB\n"
     ]
    }
   ],
   "source": [
    "data.info()"
   ]
  },
  {
   "cell_type": "code",
   "execution_count": 16,
   "metadata": {},
   "outputs": [],
   "source": [
    "# создаем новый признак 'nights'(количество ночей, проведенных в отеле) на основе признака 'tags'\n",
    "regex_nights = '(\\d+) night'\n",
    "data['nights'] = data['tags'].str.findall(regex_nights).str.get(0)\n",
    "\n",
    "# заполняем пропуски в признаке 'nights' модальным значением, переводим признак в формат целого числа\n",
    "nights_mode = int(data['nights'].mode())\n",
    "data['nights'] = data['nights'].fillna(value = nights_mode)\n",
    "data['nights'] = data['nights'].astype(int)"
   ]
  },
  {
   "cell_type": "code",
   "execution_count": 17,
   "metadata": {},
   "outputs": [
    {
     "name": "stdout",
     "output_type": "stream",
     "text": [
      "<class 'pandas.core.frame.DataFrame'>\n",
      "RangeIndex: 515738 entries, 0 to 515737\n",
      "Data columns (total 27 columns):\n",
      " #   Column                                      Non-Null Count   Dtype  \n",
      "---  ------                                      --------------   -----  \n",
      " 0   hotel_address                               515738 non-null  object \n",
      " 1   additional_number_of_scoring                515738 non-null  int64  \n",
      " 2   review_date                                 515738 non-null  object \n",
      " 3   average_score                               515738 non-null  float64\n",
      " 4   hotel_name                                  515738 non-null  object \n",
      " 5   reviewer_nationality                        515738 non-null  object \n",
      " 6   negative_review                             515738 non-null  object \n",
      " 7   review_total_negative_word_counts           515738 non-null  int64  \n",
      " 8   total_number_of_reviews                     515738 non-null  int64  \n",
      " 9   positive_review                             515738 non-null  object \n",
      " 10  review_total_positive_word_counts           515738 non-null  int64  \n",
      " 11  total_number_of_reviews_reviewer_has_given  515738 non-null  int64  \n",
      " 12  tags                                        515738 non-null  object \n",
      " 13  days_since_review                           515738 non-null  object \n",
      " 14  lat                                         512470 non-null  float64\n",
      " 15  lng                                         512470 non-null  float64\n",
      " 16  sample                                      515738 non-null  int64  \n",
      " 17  reviewer_score                              515738 non-null  float64\n",
      " 18  neg_neg                                     515738 non-null  float64\n",
      " 19  neg_neu                                     515738 non-null  float64\n",
      " 20  neg_pos                                     515738 non-null  float64\n",
      " 21  neg_compound                                515738 non-null  float64\n",
      " 22  pos_neg                                     515738 non-null  float64\n",
      " 23  pos_neu                                     515738 non-null  float64\n",
      " 24  pos_pos                                     515738 non-null  float64\n",
      " 25  pos_compound                                515738 non-null  float64\n",
      " 26  nights                                      515738 non-null  int32  \n",
      "dtypes: float64(12), int32(1), int64(6), object(8)\n",
      "memory usage: 104.3+ MB\n"
     ]
    }
   ],
   "source": [
    "data.info()"
   ]
  },
  {
   "cell_type": "code",
   "execution_count": 18,
   "metadata": {},
   "outputs": [],
   "source": [
    "# создаем новый признак 'goals'(цель путешествия) на основе признака 'tags'\n",
    "regex_goal = '(\\w+) trip'\n",
    "data['goal'] = data['tags'].str.findall(regex_goal).str.get(0)\n",
    "\n",
    "# заполняем пропуски в признаке 'goal' на 'unknown'\n",
    "data['goal'] = data['goal'].fillna('uknown')\n",
    "\n",
    "# кодируем номинальный категориальный признак 'goal'(принимающий 3 значения) с помощью OneHot Encoding\n",
    "import category_encoders as ce\n",
    "one_hot_encoder_goal = ce.OneHotEncoder()\n",
    "data_goal = one_hot_encoder_goal.fit_transform(data['goal'])\n",
    "data = pd.concat([data, data_goal], axis = 1)\n",
    "\n",
    "# переименование столбцов\n",
    "data = data.rename(columns = {\n",
    "    'goal_1': 'Leisure',\n",
    "    'goal_2': 'Business',\n",
    "    'goal_3': 'Unknown'})"
   ]
  },
  {
   "cell_type": "code",
   "execution_count": 19,
   "metadata": {},
   "outputs": [
    {
     "name": "stdout",
     "output_type": "stream",
     "text": [
      "<class 'pandas.core.frame.DataFrame'>\n",
      "RangeIndex: 515738 entries, 0 to 515737\n",
      "Data columns (total 31 columns):\n",
      " #   Column                                      Non-Null Count   Dtype  \n",
      "---  ------                                      --------------   -----  \n",
      " 0   hotel_address                               515738 non-null  object \n",
      " 1   additional_number_of_scoring                515738 non-null  int64  \n",
      " 2   review_date                                 515738 non-null  object \n",
      " 3   average_score                               515738 non-null  float64\n",
      " 4   hotel_name                                  515738 non-null  object \n",
      " 5   reviewer_nationality                        515738 non-null  object \n",
      " 6   negative_review                             515738 non-null  object \n",
      " 7   review_total_negative_word_counts           515738 non-null  int64  \n",
      " 8   total_number_of_reviews                     515738 non-null  int64  \n",
      " 9   positive_review                             515738 non-null  object \n",
      " 10  review_total_positive_word_counts           515738 non-null  int64  \n",
      " 11  total_number_of_reviews_reviewer_has_given  515738 non-null  int64  \n",
      " 12  tags                                        515738 non-null  object \n",
      " 13  days_since_review                           515738 non-null  object \n",
      " 14  lat                                         512470 non-null  float64\n",
      " 15  lng                                         512470 non-null  float64\n",
      " 16  sample                                      515738 non-null  int64  \n",
      " 17  reviewer_score                              515738 non-null  float64\n",
      " 18  neg_neg                                     515738 non-null  float64\n",
      " 19  neg_neu                                     515738 non-null  float64\n",
      " 20  neg_pos                                     515738 non-null  float64\n",
      " 21  neg_compound                                515738 non-null  float64\n",
      " 22  pos_neg                                     515738 non-null  float64\n",
      " 23  pos_neu                                     515738 non-null  float64\n",
      " 24  pos_pos                                     515738 non-null  float64\n",
      " 25  pos_compound                                515738 non-null  float64\n",
      " 26  nights                                      515738 non-null  int32  \n",
      " 27  goal                                        515738 non-null  object \n",
      " 28  Leisure                                     515738 non-null  int64  \n",
      " 29  Business                                    515738 non-null  int64  \n",
      " 30  Unknown                                     515738 non-null  int64  \n",
      "dtypes: float64(12), int32(1), int64(9), object(9)\n",
      "memory usage: 120.0+ MB\n"
     ]
    }
   ],
   "source": [
    "data.info()"
   ]
  },
  {
   "cell_type": "code",
   "execution_count": 20,
   "metadata": {},
   "outputs": [
    {
     "name": "stdout",
     "output_type": "stream",
     "text": [
      "<class 'pandas.core.frame.DataFrame'>\n",
      "RangeIndex: 515738 entries, 0 to 515737\n",
      "Data columns (total 31 columns):\n",
      " #   Column                                      Non-Null Count   Dtype  \n",
      "---  ------                                      --------------   -----  \n",
      " 0   hotel_address                               515738 non-null  object \n",
      " 1   additional_number_of_scoring                515738 non-null  int64  \n",
      " 2   review_date                                 515738 non-null  object \n",
      " 3   average_score                               515738 non-null  float64\n",
      " 4   hotel_name                                  515738 non-null  object \n",
      " 5   reviewer_nationality                        515738 non-null  object \n",
      " 6   negative_review                             515738 non-null  object \n",
      " 7   review_total_negative_word_counts           515738 non-null  int64  \n",
      " 8   total_number_of_reviews                     515738 non-null  int64  \n",
      " 9   positive_review                             515738 non-null  object \n",
      " 10  review_total_positive_word_counts           515738 non-null  int64  \n",
      " 11  total_number_of_reviews_reviewer_has_given  515738 non-null  int64  \n",
      " 12  tags                                        515738 non-null  object \n",
      " 13  days_since_review                           515738 non-null  int32  \n",
      " 14  lat                                         512470 non-null  float64\n",
      " 15  lng                                         512470 non-null  float64\n",
      " 16  sample                                      515738 non-null  int64  \n",
      " 17  reviewer_score                              515738 non-null  float64\n",
      " 18  neg_neg                                     515738 non-null  float64\n",
      " 19  neg_neu                                     515738 non-null  float64\n",
      " 20  neg_pos                                     515738 non-null  float64\n",
      " 21  neg_compound                                515738 non-null  float64\n",
      " 22  pos_neg                                     515738 non-null  float64\n",
      " 23  pos_neu                                     515738 non-null  float64\n",
      " 24  pos_pos                                     515738 non-null  float64\n",
      " 25  pos_compound                                515738 non-null  float64\n",
      " 26  nights                                      515738 non-null  int32  \n",
      " 27  goal                                        515738 non-null  object \n",
      " 28  Leisure                                     515738 non-null  int64  \n",
      " 29  Business                                    515738 non-null  int64  \n",
      " 30  Unknown                                     515738 non-null  int64  \n",
      "dtypes: float64(12), int32(2), int64(9), object(8)\n",
      "memory usage: 118.0+ MB\n"
     ]
    }
   ],
   "source": [
    "# переводим признак 'days_since_review' из строкового в числовой\n",
    "regex_days = '(\\d*)'\n",
    "data['days_since_review'] = data['days_since_review'].str.findall(regex_days).str.get(0).astype(int)\n",
    "data.info()"
   ]
  },
  {
   "cell_type": "code",
   "execution_count": 21,
   "metadata": {},
   "outputs": [],
   "source": [
    "# создаем новый признак 'hotel_country'(страна отеля) на основе признака 'hotel_address'\n",
    "regex_country = '\\s(\\w*)$'\n",
    "data['hotel_country'] = data['hotel_address'].str.findall(regex_country).str.get(0)\n",
    "\n",
    "# кодируем номинальный признак 'hotel_country'(принимающий 6 значений) с помощью get_dummies:\n",
    "data = pd.get_dummies(data, columns = ['hotel_country'])"
   ]
  },
  {
   "cell_type": "code",
   "execution_count": 22,
   "metadata": {},
   "outputs": [
    {
     "name": "stdout",
     "output_type": "stream",
     "text": [
      "<class 'pandas.core.frame.DataFrame'>\n",
      "RangeIndex: 515738 entries, 0 to 515737\n",
      "Data columns (total 37 columns):\n",
      " #   Column                                      Non-Null Count   Dtype  \n",
      "---  ------                                      --------------   -----  \n",
      " 0   hotel_address                               515738 non-null  object \n",
      " 1   additional_number_of_scoring                515738 non-null  int64  \n",
      " 2   review_date                                 515738 non-null  object \n",
      " 3   average_score                               515738 non-null  float64\n",
      " 4   hotel_name                                  515738 non-null  object \n",
      " 5   reviewer_nationality                        515738 non-null  object \n",
      " 6   negative_review                             515738 non-null  object \n",
      " 7   review_total_negative_word_counts           515738 non-null  int64  \n",
      " 8   total_number_of_reviews                     515738 non-null  int64  \n",
      " 9   positive_review                             515738 non-null  object \n",
      " 10  review_total_positive_word_counts           515738 non-null  int64  \n",
      " 11  total_number_of_reviews_reviewer_has_given  515738 non-null  int64  \n",
      " 12  tags                                        515738 non-null  object \n",
      " 13  days_since_review                           515738 non-null  int32  \n",
      " 14  lat                                         512470 non-null  float64\n",
      " 15  lng                                         512470 non-null  float64\n",
      " 16  sample                                      515738 non-null  int64  \n",
      " 17  reviewer_score                              515738 non-null  float64\n",
      " 18  neg_neg                                     515738 non-null  float64\n",
      " 19  neg_neu                                     515738 non-null  float64\n",
      " 20  neg_pos                                     515738 non-null  float64\n",
      " 21  neg_compound                                515738 non-null  float64\n",
      " 22  pos_neg                                     515738 non-null  float64\n",
      " 23  pos_neu                                     515738 non-null  float64\n",
      " 24  pos_pos                                     515738 non-null  float64\n",
      " 25  pos_compound                                515738 non-null  float64\n",
      " 26  nights                                      515738 non-null  int32  \n",
      " 27  goal                                        515738 non-null  object \n",
      " 28  Leisure                                     515738 non-null  int64  \n",
      " 29  Business                                    515738 non-null  int64  \n",
      " 30  Unknown                                     515738 non-null  int64  \n",
      " 31  hotel_country_Austria                       515738 non-null  uint8  \n",
      " 32  hotel_country_France                        515738 non-null  uint8  \n",
      " 33  hotel_country_Italy                         515738 non-null  uint8  \n",
      " 34  hotel_country_Kingdom                       515738 non-null  uint8  \n",
      " 35  hotel_country_Netherlands                   515738 non-null  uint8  \n",
      " 36  hotel_country_Spain                         515738 non-null  uint8  \n",
      "dtypes: float64(12), int32(2), int64(9), object(8), uint8(6)\n",
      "memory usage: 121.0+ MB\n"
     ]
    }
   ],
   "source": [
    "data.info()"
   ]
  },
  {
   "cell_type": "code",
   "execution_count": 23,
   "metadata": {},
   "outputs": [],
   "source": [
    "# переводим признак 'review_date' в формат datetime\n",
    "data['review_date'] = pd.to_datetime(data['review_date'])\n",
    "\n",
    "# создаем новые признаки 'month' и 'dayofweek' на основе признака 'review_date'\n",
    "data['month'] = data['review_date'].dt.month\n",
    "data['dayofweek'] = data['review_date'].dt.dayofweek"
   ]
  },
  {
   "cell_type": "code",
   "execution_count": 24,
   "metadata": {},
   "outputs": [
    {
     "name": "stdout",
     "output_type": "stream",
     "text": [
      "<class 'pandas.core.frame.DataFrame'>\n",
      "RangeIndex: 515738 entries, 0 to 515737\n",
      "Data columns (total 39 columns):\n",
      " #   Column                                      Non-Null Count   Dtype         \n",
      "---  ------                                      --------------   -----         \n",
      " 0   hotel_address                               515738 non-null  object        \n",
      " 1   additional_number_of_scoring                515738 non-null  int64         \n",
      " 2   review_date                                 515738 non-null  datetime64[ns]\n",
      " 3   average_score                               515738 non-null  float64       \n",
      " 4   hotel_name                                  515738 non-null  object        \n",
      " 5   reviewer_nationality                        515738 non-null  object        \n",
      " 6   negative_review                             515738 non-null  object        \n",
      " 7   review_total_negative_word_counts           515738 non-null  int64         \n",
      " 8   total_number_of_reviews                     515738 non-null  int64         \n",
      " 9   positive_review                             515738 non-null  object        \n",
      " 10  review_total_positive_word_counts           515738 non-null  int64         \n",
      " 11  total_number_of_reviews_reviewer_has_given  515738 non-null  int64         \n",
      " 12  tags                                        515738 non-null  object        \n",
      " 13  days_since_review                           515738 non-null  int32         \n",
      " 14  lat                                         512470 non-null  float64       \n",
      " 15  lng                                         512470 non-null  float64       \n",
      " 16  sample                                      515738 non-null  int64         \n",
      " 17  reviewer_score                              515738 non-null  float64       \n",
      " 18  neg_neg                                     515738 non-null  float64       \n",
      " 19  neg_neu                                     515738 non-null  float64       \n",
      " 20  neg_pos                                     515738 non-null  float64       \n",
      " 21  neg_compound                                515738 non-null  float64       \n",
      " 22  pos_neg                                     515738 non-null  float64       \n",
      " 23  pos_neu                                     515738 non-null  float64       \n",
      " 24  pos_pos                                     515738 non-null  float64       \n",
      " 25  pos_compound                                515738 non-null  float64       \n",
      " 26  nights                                      515738 non-null  int32         \n",
      " 27  goal                                        515738 non-null  object        \n",
      " 28  Leisure                                     515738 non-null  int64         \n",
      " 29  Business                                    515738 non-null  int64         \n",
      " 30  Unknown                                     515738 non-null  int64         \n",
      " 31  hotel_country_Austria                       515738 non-null  uint8         \n",
      " 32  hotel_country_France                        515738 non-null  uint8         \n",
      " 33  hotel_country_Italy                         515738 non-null  uint8         \n",
      " 34  hotel_country_Kingdom                       515738 non-null  uint8         \n",
      " 35  hotel_country_Netherlands                   515738 non-null  uint8         \n",
      " 36  hotel_country_Spain                         515738 non-null  uint8         \n",
      " 37  month                                       515738 non-null  int64         \n",
      " 38  dayofweek                                   515738 non-null  int64         \n",
      "dtypes: datetime64[ns](1), float64(12), int32(2), int64(11), object(7), uint8(6)\n",
      "memory usage: 128.9+ MB\n"
     ]
    }
   ],
   "source": [
    "data.info()"
   ]
  },
  {
   "cell_type": "code",
   "execution_count": 25,
   "metadata": {},
   "outputs": [],
   "source": [
    "# кодируем номинальный признак 'reviewer_nationality'(принимающий 225 значений) с помощью Binary Encoding\n",
    "encoder_nationality = ce.BinaryEncoder()\n",
    "data_nationality = encoder_nationality.fit_transform(data['reviewer_nationality'])\n",
    "data = pd.concat([data, data_nationality], axis = 1)"
   ]
  },
  {
   "cell_type": "code",
   "execution_count": 26,
   "metadata": {},
   "outputs": [
    {
     "name": "stdout",
     "output_type": "stream",
     "text": [
      "<class 'pandas.core.frame.DataFrame'>\n",
      "RangeIndex: 515738 entries, 0 to 515737\n",
      "Data columns (total 47 columns):\n",
      " #   Column                                      Non-Null Count   Dtype         \n",
      "---  ------                                      --------------   -----         \n",
      " 0   hotel_address                               515738 non-null  object        \n",
      " 1   additional_number_of_scoring                515738 non-null  int64         \n",
      " 2   review_date                                 515738 non-null  datetime64[ns]\n",
      " 3   average_score                               515738 non-null  float64       \n",
      " 4   hotel_name                                  515738 non-null  object        \n",
      " 5   reviewer_nationality                        515738 non-null  object        \n",
      " 6   negative_review                             515738 non-null  object        \n",
      " 7   review_total_negative_word_counts           515738 non-null  int64         \n",
      " 8   total_number_of_reviews                     515738 non-null  int64         \n",
      " 9   positive_review                             515738 non-null  object        \n",
      " 10  review_total_positive_word_counts           515738 non-null  int64         \n",
      " 11  total_number_of_reviews_reviewer_has_given  515738 non-null  int64         \n",
      " 12  tags                                        515738 non-null  object        \n",
      " 13  days_since_review                           515738 non-null  int32         \n",
      " 14  lat                                         512470 non-null  float64       \n",
      " 15  lng                                         512470 non-null  float64       \n",
      " 16  sample                                      515738 non-null  int64         \n",
      " 17  reviewer_score                              515738 non-null  float64       \n",
      " 18  neg_neg                                     515738 non-null  float64       \n",
      " 19  neg_neu                                     515738 non-null  float64       \n",
      " 20  neg_pos                                     515738 non-null  float64       \n",
      " 21  neg_compound                                515738 non-null  float64       \n",
      " 22  pos_neg                                     515738 non-null  float64       \n",
      " 23  pos_neu                                     515738 non-null  float64       \n",
      " 24  pos_pos                                     515738 non-null  float64       \n",
      " 25  pos_compound                                515738 non-null  float64       \n",
      " 26  nights                                      515738 non-null  int32         \n",
      " 27  goal                                        515738 non-null  object        \n",
      " 28  Leisure                                     515738 non-null  int64         \n",
      " 29  Business                                    515738 non-null  int64         \n",
      " 30  Unknown                                     515738 non-null  int64         \n",
      " 31  hotel_country_Austria                       515738 non-null  uint8         \n",
      " 32  hotel_country_France                        515738 non-null  uint8         \n",
      " 33  hotel_country_Italy                         515738 non-null  uint8         \n",
      " 34  hotel_country_Kingdom                       515738 non-null  uint8         \n",
      " 35  hotel_country_Netherlands                   515738 non-null  uint8         \n",
      " 36  hotel_country_Spain                         515738 non-null  uint8         \n",
      " 37  month                                       515738 non-null  int64         \n",
      " 38  dayofweek                                   515738 non-null  int64         \n",
      " 39  reviewer_nationality_0                      515738 non-null  int64         \n",
      " 40  reviewer_nationality_1                      515738 non-null  int64         \n",
      " 41  reviewer_nationality_2                      515738 non-null  int64         \n",
      " 42  reviewer_nationality_3                      515738 non-null  int64         \n",
      " 43  reviewer_nationality_4                      515738 non-null  int64         \n",
      " 44  reviewer_nationality_5                      515738 non-null  int64         \n",
      " 45  reviewer_nationality_6                      515738 non-null  int64         \n",
      " 46  reviewer_nationality_7                      515738 non-null  int64         \n",
      "dtypes: datetime64[ns](1), float64(12), int32(2), int64(19), object(7), uint8(6)\n",
      "memory usage: 160.3+ MB\n"
     ]
    }
   ],
   "source": [
    "data.info()"
   ]
  },
  {
   "cell_type": "code",
   "execution_count": 27,
   "metadata": {},
   "outputs": [],
   "source": [
    "# заменяем пропуски в признаках 'lat' и 'lng' на модальные значения\n",
    "value_lat_lng = {\n",
    "    'lat': data['lat'].mode()[0],\n",
    "    'lng': data['lng'].mode()[0]\n",
    "}\n",
    "data = data.fillna(value_lat_lng)"
   ]
  },
  {
   "cell_type": "code",
   "execution_count": 28,
   "metadata": {},
   "outputs": [
    {
     "name": "stdout",
     "output_type": "stream",
     "text": [
      "<class 'pandas.core.frame.DataFrame'>\n",
      "RangeIndex: 515738 entries, 0 to 515737\n",
      "Data columns (total 47 columns):\n",
      " #   Column                                      Non-Null Count   Dtype         \n",
      "---  ------                                      --------------   -----         \n",
      " 0   hotel_address                               515738 non-null  object        \n",
      " 1   additional_number_of_scoring                515738 non-null  int64         \n",
      " 2   review_date                                 515738 non-null  datetime64[ns]\n",
      " 3   average_score                               515738 non-null  float64       \n",
      " 4   hotel_name                                  515738 non-null  object        \n",
      " 5   reviewer_nationality                        515738 non-null  object        \n",
      " 6   negative_review                             515738 non-null  object        \n",
      " 7   review_total_negative_word_counts           515738 non-null  int64         \n",
      " 8   total_number_of_reviews                     515738 non-null  int64         \n",
      " 9   positive_review                             515738 non-null  object        \n",
      " 10  review_total_positive_word_counts           515738 non-null  int64         \n",
      " 11  total_number_of_reviews_reviewer_has_given  515738 non-null  int64         \n",
      " 12  tags                                        515738 non-null  object        \n",
      " 13  days_since_review                           515738 non-null  int32         \n",
      " 14  lat                                         515738 non-null  float64       \n",
      " 15  lng                                         515738 non-null  float64       \n",
      " 16  sample                                      515738 non-null  int64         \n",
      " 17  reviewer_score                              515738 non-null  float64       \n",
      " 18  neg_neg                                     515738 non-null  float64       \n",
      " 19  neg_neu                                     515738 non-null  float64       \n",
      " 20  neg_pos                                     515738 non-null  float64       \n",
      " 21  neg_compound                                515738 non-null  float64       \n",
      " 22  pos_neg                                     515738 non-null  float64       \n",
      " 23  pos_neu                                     515738 non-null  float64       \n",
      " 24  pos_pos                                     515738 non-null  float64       \n",
      " 25  pos_compound                                515738 non-null  float64       \n",
      " 26  nights                                      515738 non-null  int32         \n",
      " 27  goal                                        515738 non-null  object        \n",
      " 28  Leisure                                     515738 non-null  int64         \n",
      " 29  Business                                    515738 non-null  int64         \n",
      " 30  Unknown                                     515738 non-null  int64         \n",
      " 31  hotel_country_Austria                       515738 non-null  uint8         \n",
      " 32  hotel_country_France                        515738 non-null  uint8         \n",
      " 33  hotel_country_Italy                         515738 non-null  uint8         \n",
      " 34  hotel_country_Kingdom                       515738 non-null  uint8         \n",
      " 35  hotel_country_Netherlands                   515738 non-null  uint8         \n",
      " 36  hotel_country_Spain                         515738 non-null  uint8         \n",
      " 37  month                                       515738 non-null  int64         \n",
      " 38  dayofweek                                   515738 non-null  int64         \n",
      " 39  reviewer_nationality_0                      515738 non-null  int64         \n",
      " 40  reviewer_nationality_1                      515738 non-null  int64         \n",
      " 41  reviewer_nationality_2                      515738 non-null  int64         \n",
      " 42  reviewer_nationality_3                      515738 non-null  int64         \n",
      " 43  reviewer_nationality_4                      515738 non-null  int64         \n",
      " 44  reviewer_nationality_5                      515738 non-null  int64         \n",
      " 45  reviewer_nationality_6                      515738 non-null  int64         \n",
      " 46  reviewer_nationality_7                      515738 non-null  int64         \n",
      "dtypes: datetime64[ns](1), float64(12), int32(2), int64(19), object(7), uint8(6)\n",
      "memory usage: 160.3+ MB\n"
     ]
    }
   ],
   "source": [
    "data.info()"
   ]
  },
  {
   "cell_type": "code",
   "execution_count": 29,
   "metadata": {},
   "outputs": [],
   "source": [
    "# очищаем датасет от нечисловых признаков\n",
    "cols_to_remove = ['hotel_address',\n",
    " 'review_date',\n",
    " 'hotel_name',\n",
    " 'reviewer_nationality',\n",
    " 'negative_review',\n",
    " 'positive_review',\n",
    " 'tags',\n",
    " 'goal']\n",
    "\n",
    "data = data.drop(cols_to_remove, axis = 1)"
   ]
  },
  {
   "cell_type": "code",
   "execution_count": 30,
   "metadata": {},
   "outputs": [
    {
     "name": "stdout",
     "output_type": "stream",
     "text": [
      "<class 'pandas.core.frame.DataFrame'>\n",
      "RangeIndex: 515738 entries, 0 to 515737\n",
      "Data columns (total 39 columns):\n",
      " #   Column                                      Non-Null Count   Dtype  \n",
      "---  ------                                      --------------   -----  \n",
      " 0   additional_number_of_scoring                515738 non-null  int64  \n",
      " 1   average_score                               515738 non-null  float64\n",
      " 2   review_total_negative_word_counts           515738 non-null  int64  \n",
      " 3   total_number_of_reviews                     515738 non-null  int64  \n",
      " 4   review_total_positive_word_counts           515738 non-null  int64  \n",
      " 5   total_number_of_reviews_reviewer_has_given  515738 non-null  int64  \n",
      " 6   days_since_review                           515738 non-null  int32  \n",
      " 7   lat                                         515738 non-null  float64\n",
      " 8   lng                                         515738 non-null  float64\n",
      " 9   sample                                      515738 non-null  int64  \n",
      " 10  reviewer_score                              515738 non-null  float64\n",
      " 11  neg_neg                                     515738 non-null  float64\n",
      " 12  neg_neu                                     515738 non-null  float64\n",
      " 13  neg_pos                                     515738 non-null  float64\n",
      " 14  neg_compound                                515738 non-null  float64\n",
      " 15  pos_neg                                     515738 non-null  float64\n",
      " 16  pos_neu                                     515738 non-null  float64\n",
      " 17  pos_pos                                     515738 non-null  float64\n",
      " 18  pos_compound                                515738 non-null  float64\n",
      " 19  nights                                      515738 non-null  int32  \n",
      " 20  Leisure                                     515738 non-null  int64  \n",
      " 21  Business                                    515738 non-null  int64  \n",
      " 22  Unknown                                     515738 non-null  int64  \n",
      " 23  hotel_country_Austria                       515738 non-null  uint8  \n",
      " 24  hotel_country_France                        515738 non-null  uint8  \n",
      " 25  hotel_country_Italy                         515738 non-null  uint8  \n",
      " 26  hotel_country_Kingdom                       515738 non-null  uint8  \n",
      " 27  hotel_country_Netherlands                   515738 non-null  uint8  \n",
      " 28  hotel_country_Spain                         515738 non-null  uint8  \n",
      " 29  month                                       515738 non-null  int64  \n",
      " 30  dayofweek                                   515738 non-null  int64  \n",
      " 31  reviewer_nationality_0                      515738 non-null  int64  \n",
      " 32  reviewer_nationality_1                      515738 non-null  int64  \n",
      " 33  reviewer_nationality_2                      515738 non-null  int64  \n",
      " 34  reviewer_nationality_3                      515738 non-null  int64  \n",
      " 35  reviewer_nationality_4                      515738 non-null  int64  \n",
      " 36  reviewer_nationality_5                      515738 non-null  int64  \n",
      " 37  reviewer_nationality_6                      515738 non-null  int64  \n",
      " 38  reviewer_nationality_7                      515738 non-null  int64  \n",
      "dtypes: float64(12), int32(2), int64(19), uint8(6)\n",
      "memory usage: 128.9 MB\n"
     ]
    }
   ],
   "source": [
    "data.info()"
   ]
  },
  {
   "cell_type": "code",
   "execution_count": 31,
   "metadata": {},
   "outputs": [
    {
     "data": {
      "text/html": [
       "<div>\n",
       "<style scoped>\n",
       "    .dataframe tbody tr th:only-of-type {\n",
       "        vertical-align: middle;\n",
       "    }\n",
       "\n",
       "    .dataframe tbody tr th {\n",
       "        vertical-align: top;\n",
       "    }\n",
       "\n",
       "    .dataframe thead th {\n",
       "        text-align: right;\n",
       "    }\n",
       "</style>\n",
       "<table border=\"1\" class=\"dataframe\">\n",
       "  <thead>\n",
       "    <tr style=\"text-align: right;\">\n",
       "      <th></th>\n",
       "      <th>additional_number_of_scoring</th>\n",
       "      <th>average_score</th>\n",
       "      <th>review_total_negative_word_counts</th>\n",
       "      <th>total_number_of_reviews</th>\n",
       "      <th>review_total_positive_word_counts</th>\n",
       "      <th>total_number_of_reviews_reviewer_has_given</th>\n",
       "      <th>days_since_review</th>\n",
       "      <th>lat</th>\n",
       "      <th>lng</th>\n",
       "      <th>sample</th>\n",
       "      <th>...</th>\n",
       "      <th>month</th>\n",
       "      <th>dayofweek</th>\n",
       "      <th>reviewer_nationality_0</th>\n",
       "      <th>reviewer_nationality_1</th>\n",
       "      <th>reviewer_nationality_2</th>\n",
       "      <th>reviewer_nationality_3</th>\n",
       "      <th>reviewer_nationality_4</th>\n",
       "      <th>reviewer_nationality_5</th>\n",
       "      <th>reviewer_nationality_6</th>\n",
       "      <th>reviewer_nationality_7</th>\n",
       "    </tr>\n",
       "  </thead>\n",
       "  <tbody>\n",
       "    <tr>\n",
       "      <th>0</th>\n",
       "      <td>1.146640</td>\n",
       "      <td>-0.428571</td>\n",
       "      <td>2.047619</td>\n",
       "      <td>5.928222</td>\n",
       "      <td>3.000000</td>\n",
       "      <td>-0.285714</td>\n",
       "      <td>13</td>\n",
       "      <td>45.533137</td>\n",
       "      <td>9.171102</td>\n",
       "      <td>0</td>\n",
       "      <td>...</td>\n",
       "      <td>7</td>\n",
       "      <td>4</td>\n",
       "      <td>0</td>\n",
       "      <td>0</td>\n",
       "      <td>0</td>\n",
       "      <td>0</td>\n",
       "      <td>0</td>\n",
       "      <td>0</td>\n",
       "      <td>0</td>\n",
       "      <td>1</td>\n",
       "    </tr>\n",
       "    <tr>\n",
       "      <th>1</th>\n",
       "      <td>0.551935</td>\n",
       "      <td>0.285714</td>\n",
       "      <td>0.047619</td>\n",
       "      <td>1.176183</td>\n",
       "      <td>-0.647059</td>\n",
       "      <td>0.571429</td>\n",
       "      <td>234</td>\n",
       "      <td>52.385649</td>\n",
       "      <td>4.834443</td>\n",
       "      <td>0</td>\n",
       "      <td>...</td>\n",
       "      <td>12</td>\n",
       "      <td>0</td>\n",
       "      <td>0</td>\n",
       "      <td>0</td>\n",
       "      <td>0</td>\n",
       "      <td>0</td>\n",
       "      <td>0</td>\n",
       "      <td>0</td>\n",
       "      <td>1</td>\n",
       "      <td>0</td>\n",
       "    </tr>\n",
       "    <tr>\n",
       "      <th>2</th>\n",
       "      <td>-0.600815</td>\n",
       "      <td>-0.142857</td>\n",
       "      <td>-0.285714</td>\n",
       "      <td>-0.727162</td>\n",
       "      <td>-0.352941</td>\n",
       "      <td>1.714286</td>\n",
       "      <td>616</td>\n",
       "      <td>41.393192</td>\n",
       "      <td>2.161520</td>\n",
       "      <td>0</td>\n",
       "      <td>...</td>\n",
       "      <td>11</td>\n",
       "      <td>3</td>\n",
       "      <td>0</td>\n",
       "      <td>0</td>\n",
       "      <td>0</td>\n",
       "      <td>0</td>\n",
       "      <td>0</td>\n",
       "      <td>0</td>\n",
       "      <td>1</td>\n",
       "      <td>1</td>\n",
       "    </tr>\n",
       "    <tr>\n",
       "      <th>3</th>\n",
       "      <td>-0.203666</td>\n",
       "      <td>1.000000</td>\n",
       "      <td>-0.428571</td>\n",
       "      <td>-0.241028</td>\n",
       "      <td>0.941176</td>\n",
       "      <td>0.857143</td>\n",
       "      <td>656</td>\n",
       "      <td>45.479888</td>\n",
       "      <td>9.196298</td>\n",
       "      <td>0</td>\n",
       "      <td>...</td>\n",
       "      <td>10</td>\n",
       "      <td>5</td>\n",
       "      <td>0</td>\n",
       "      <td>0</td>\n",
       "      <td>0</td>\n",
       "      <td>0</td>\n",
       "      <td>0</td>\n",
       "      <td>1</td>\n",
       "      <td>0</td>\n",
       "      <td>0</td>\n",
       "    </tr>\n",
       "    <tr>\n",
       "      <th>4</th>\n",
       "      <td>1.004073</td>\n",
       "      <td>1.000000</td>\n",
       "      <td>-0.428571</td>\n",
       "      <td>1.041191</td>\n",
       "      <td>-0.235294</td>\n",
       "      <td>-0.142857</td>\n",
       "      <td>444</td>\n",
       "      <td>52.370545</td>\n",
       "      <td>4.888644</td>\n",
       "      <td>0</td>\n",
       "      <td>...</td>\n",
       "      <td>5</td>\n",
       "      <td>0</td>\n",
       "      <td>0</td>\n",
       "      <td>0</td>\n",
       "      <td>0</td>\n",
       "      <td>0</td>\n",
       "      <td>0</td>\n",
       "      <td>0</td>\n",
       "      <td>0</td>\n",
       "      <td>1</td>\n",
       "    </tr>\n",
       "  </tbody>\n",
       "</table>\n",
       "<p>5 rows × 39 columns</p>\n",
       "</div>"
      ],
      "text/plain": [
       "   additional_number_of_scoring  average_score  \\\n",
       "0                      1.146640      -0.428571   \n",
       "1                      0.551935       0.285714   \n",
       "2                     -0.600815      -0.142857   \n",
       "3                     -0.203666       1.000000   \n",
       "4                      1.004073       1.000000   \n",
       "\n",
       "   review_total_negative_word_counts  total_number_of_reviews  \\\n",
       "0                           2.047619                 5.928222   \n",
       "1                           0.047619                 1.176183   \n",
       "2                          -0.285714                -0.727162   \n",
       "3                          -0.428571                -0.241028   \n",
       "4                          -0.428571                 1.041191   \n",
       "\n",
       "   review_total_positive_word_counts  \\\n",
       "0                           3.000000   \n",
       "1                          -0.647059   \n",
       "2                          -0.352941   \n",
       "3                           0.941176   \n",
       "4                          -0.235294   \n",
       "\n",
       "   total_number_of_reviews_reviewer_has_given  days_since_review        lat  \\\n",
       "0                                   -0.285714                 13  45.533137   \n",
       "1                                    0.571429                234  52.385649   \n",
       "2                                    1.714286                616  41.393192   \n",
       "3                                    0.857143                656  45.479888   \n",
       "4                                   -0.142857                444  52.370545   \n",
       "\n",
       "        lng  sample  ...  month  dayofweek  reviewer_nationality_0  \\\n",
       "0  9.171102       0  ...      7          4                       0   \n",
       "1  4.834443       0  ...     12          0                       0   \n",
       "2  2.161520       0  ...     11          3                       0   \n",
       "3  9.196298       0  ...     10          5                       0   \n",
       "4  4.888644       0  ...      5          0                       0   \n",
       "\n",
       "   reviewer_nationality_1  reviewer_nationality_2  reviewer_nationality_3  \\\n",
       "0                       0                       0                       0   \n",
       "1                       0                       0                       0   \n",
       "2                       0                       0                       0   \n",
       "3                       0                       0                       0   \n",
       "4                       0                       0                       0   \n",
       "\n",
       "   reviewer_nationality_4  reviewer_nationality_5  reviewer_nationality_6  \\\n",
       "0                       0                       0                       0   \n",
       "1                       0                       0                       1   \n",
       "2                       0                       0                       1   \n",
       "3                       0                       1                       0   \n",
       "4                       0                       0                       0   \n",
       "\n",
       "   reviewer_nationality_7  \n",
       "0                       1  \n",
       "1                       0  \n",
       "2                       1  \n",
       "3                       0  \n",
       "4                       1  \n",
       "\n",
       "[5 rows x 39 columns]"
      ]
     },
     "execution_count": 31,
     "metadata": {},
     "output_type": "execute_result"
    }
   ],
   "source": [
    "# выбираем признаки для нормализации\n",
    "cols_for_norm = ['additional_number_of_scoring', 'average_score','review_total_negative_word_counts', \n",
    "                 'total_number_of_reviews', 'review_total_positive_word_counts', \n",
    "                 'total_number_of_reviews_reviewer_has_given']\n",
    "\n",
    "# получаем преобразованные признаки с помощью RobustScaler\n",
    "from sklearn import preprocessing\n",
    "r_scaler = preprocessing.RobustScaler()\n",
    "df_r = r_scaler.fit_transform(data[['additional_number_of_scoring', 'average_score',\n",
    "                                    'review_total_negative_word_counts', \n",
    "                                    'total_number_of_reviews', 'review_total_positive_word_counts',\n",
    "                                    'total_number_of_reviews_reviewer_has_given']])\n",
    "df_r = pd.DataFrame(df_r, columns=cols_for_norm)\n",
    "\n",
    "df_r\n",
    "\n",
    "# заменяем признаки на преобразованные\n",
    "for col in cols_for_norm:\n",
    "    data[col] = df_r[col]\n",
    "data.head()"
   ]
  },
  {
   "cell_type": "code",
   "execution_count": 32,
   "metadata": {},
   "outputs": [
    {
     "data": {
      "text/plain": [
       "<AxesSubplot:>"
      ]
     },
     "execution_count": 32,
     "metadata": {},
     "output_type": "execute_result"
    },
    {
     "data": {
      "image/png": "[encoded data removed]",
      "text/plain": [
       "<Figure size 432x288 with 2 Axes>"
      ]
     },
     "metadata": {
      "needs_background": "light"
     },
     "output_type": "display_data"
    }
   ],
   "source": [
    "#ищем мультиколлинеарные признаки\n",
    "corr = data.corr()\n",
    "corr = corr[corr.abs()>=0.7]\n",
    "sns.heatmap(corr)"
   ]
  },
  {
   "cell_type": "code",
   "execution_count": 33,
   "metadata": {},
   "outputs": [
    {
     "data": {
      "text/plain": [
       "<AxesSubplot:>"
      ]
     },
     "execution_count": 33,
     "metadata": {},
     "output_type": "execute_result"
    },
    {
     "data": {
      "image/png": "[encoded data removed]",
      "text/plain": [
       "<Figure size 432x288 with 2 Axes>"
      ]
     },
     "metadata": {
      "needs_background": "light"
     },
     "output_type": "display_data"
    }
   ],
   "source": [
    "#ищем мультиколлинеарные признаки - детализация 1\n",
    "corr1 = data[['neg_neg', 'neg_neu', 'neg_pos', 'neg_compound', 'pos_neg', 'pos_neu',\n",
    "       'pos_pos', 'pos_compound', 'Leisure', 'Business', 'Unknown']].corr()\n",
    "corr1 = corr1[corr1.abs()>=0.7]\n",
    "sns.heatmap(corr1, annot=True)"
   ]
  },
  {
   "cell_type": "code",
   "execution_count": 34,
   "metadata": {},
   "outputs": [
    {
     "data": {
      "text/plain": [
       "<AxesSubplot:>"
      ]
     },
     "execution_count": 34,
     "metadata": {},
     "output_type": "execute_result"
    },
    {
     "data": {
      "image/png": "[encoded data removed]",
      "text/plain": [
       "<Figure size 432x288 with 2 Axes>"
      ]
     },
     "metadata": {
      "needs_background": "light"
     },
     "output_type": "display_data"
    }
   ],
   "source": [
    "#ищем мультиколлинеарные признаки - детализация 2\n",
    "corr2 = data[['hotel_country_Austria', 'hotel_country_France', 'hotel_country_Italy',\n",
    "       'hotel_country_Kingdom', 'hotel_country_Netherlands',\n",
    "       'hotel_country_Spain', 'lat', 'lng']].corr()\n",
    "corr2 = corr2[corr2.abs()>=0.7]\n",
    "sns.heatmap(corr2, annot=True)"
   ]
  },
  {
   "cell_type": "code",
   "execution_count": 35,
   "metadata": {},
   "outputs": [
    {
     "data": {
      "text/plain": [
       "<AxesSubplot:>"
      ]
     },
     "execution_count": 35,
     "metadata": {},
     "output_type": "execute_result"
    },
    {
     "data": {
      "image/png": "[encoded data removed]",
      "text/plain": [
       "<Figure size 432x288 with 2 Axes>"
      ]
     },
     "metadata": {
      "needs_background": "light"
     },
     "output_type": "display_data"
    }
   ],
   "source": [
    "#ищем мультиколлинеарные признаки - детализация 3\n",
    "corr3 = data[['additional_number_of_scoring',\n",
    "       'average_score', 'review_total_negative_word_counts',\n",
    "       'total_number_of_reviews']].corr()\n",
    "corr3 = corr3[corr3.abs()>=0.7]\n",
    "sns.heatmap(corr3, annot=True)"
   ]
  },
  {
   "cell_type": "code",
   "execution_count": 36,
   "metadata": {},
   "outputs": [],
   "source": [
    "#удаляем мультиколлинеарные признаки\n",
    "multicol_features = ['neg_neg', 'pos_pos', 'Leisure', 'lat', 'lng', 'additional_number_of_scoring']\n",
    "data = data.drop(multicol_features, axis = 1)"
   ]
  },
  {
   "cell_type": "code",
   "execution_count": 37,
   "metadata": {},
   "outputs": [
    {
     "name": "stdout",
     "output_type": "stream",
     "text": [
      "<class 'pandas.core.frame.DataFrame'>\n",
      "RangeIndex: 515738 entries, 0 to 515737\n",
      "Data columns (total 33 columns):\n",
      " #   Column                                      Non-Null Count   Dtype  \n",
      "---  ------                                      --------------   -----  \n",
      " 0   average_score                               515738 non-null  float64\n",
      " 1   review_total_negative_word_counts           515738 non-null  float64\n",
      " 2   total_number_of_reviews                     515738 non-null  float64\n",
      " 3   review_total_positive_word_counts           515738 non-null  float64\n",
      " 4   total_number_of_reviews_reviewer_has_given  515738 non-null  float64\n",
      " 5   days_since_review                           515738 non-null  int32  \n",
      " 6   sample                                      515738 non-null  int64  \n",
      " 7   reviewer_score                              515738 non-null  float64\n",
      " 8   neg_neu                                     515738 non-null  float64\n",
      " 9   neg_pos                                     515738 non-null  float64\n",
      " 10  neg_compound                                515738 non-null  float64\n",
      " 11  pos_neg                                     515738 non-null  float64\n",
      " 12  pos_neu                                     515738 non-null  float64\n",
      " 13  pos_compound                                515738 non-null  float64\n",
      " 14  nights                                      515738 non-null  int32  \n",
      " 15  Business                                    515738 non-null  int64  \n",
      " 16  Unknown                                     515738 non-null  int64  \n",
      " 17  hotel_country_Austria                       515738 non-null  uint8  \n",
      " 18  hotel_country_France                        515738 non-null  uint8  \n",
      " 19  hotel_country_Italy                         515738 non-null  uint8  \n",
      " 20  hotel_country_Kingdom                       515738 non-null  uint8  \n",
      " 21  hotel_country_Netherlands                   515738 non-null  uint8  \n",
      " 22  hotel_country_Spain                         515738 non-null  uint8  \n",
      " 23  month                                       515738 non-null  int64  \n",
      " 24  dayofweek                                   515738 non-null  int64  \n",
      " 25  reviewer_nationality_0                      515738 non-null  int64  \n",
      " 26  reviewer_nationality_1                      515738 non-null  int64  \n",
      " 27  reviewer_nationality_2                      515738 non-null  int64  \n",
      " 28  reviewer_nationality_3                      515738 non-null  int64  \n",
      " 29  reviewer_nationality_4                      515738 non-null  int64  \n",
      " 30  reviewer_nationality_5                      515738 non-null  int64  \n",
      " 31  reviewer_nationality_6                      515738 non-null  int64  \n",
      " 32  reviewer_nationality_7                      515738 non-null  int64  \n",
      "dtypes: float64(12), int32(2), int64(13), uint8(6)\n",
      "memory usage: 105.3 MB\n"
     ]
    }
   ],
   "source": [
    "data.info()"
   ]
  },
  {
   "cell_type": "code",
   "execution_count": 38,
   "metadata": {},
   "outputs": [],
   "source": [
    "# Теперь выделим тестовую часть\n",
    "train_data = data.query('sample == 1').drop(['sample'], axis=1)\n",
    "test_data = data.query('sample == 0').drop(['sample'], axis=1)\n",
    "\n",
    "y = train_data.reviewer_score.values            # наш таргет\n",
    "X = train_data.drop(['reviewer_score'], axis=1)"
   ]
  },
  {
   "cell_type": "code",
   "execution_count": 39,
   "metadata": {},
   "outputs": [],
   "source": [
    "# Воспользуемся специальной функцие train_test_split для разбивки тестовых данных\n",
    "# выделим 20% данных на валидацию (параметр test_size)\n",
    "X_train, X_test, y_train, y_test = train_test_split(X, y, test_size=0.2, random_state=RANDOM_SEED)"
   ]
  },
  {
   "cell_type": "code",
   "execution_count": 40,
   "metadata": {},
   "outputs": [
    {
     "data": {
      "text/plain": [
       "((128935, 32), (386803, 32), (386803, 31), (309442, 31), (77361, 31))"
      ]
     },
     "execution_count": 40,
     "metadata": {},
     "output_type": "execute_result"
    }
   ],
   "source": [
    "# проверяем\n",
    "test_data.shape, train_data.shape, X.shape, X_train.shape, X_test.shape"
   ]
  },
  {
   "cell_type": "code",
   "execution_count": 41,
   "metadata": {},
   "outputs": [],
   "source": [
    "# Импортируем необходимые библиотеки:\n",
    "from sklearn.ensemble import RandomForestRegressor # инструмент для создания и обучения модели\n",
    "from sklearn import metrics # инструменты для оценки точности модели"
   ]
  },
  {
   "cell_type": "code",
   "execution_count": 42,
   "metadata": {},
   "outputs": [],
   "source": [
    "# Создаём модель (НАСТРОЙКИ НЕ ТРОГАЕМ)\n",
    "model = RandomForestRegressor(n_estimators=100, verbose=1, n_jobs=-1, random_state=RANDOM_SEED)"
   ]
  },
  {
   "cell_type": "code",
   "execution_count": 43,
   "metadata": {},
   "outputs": [
    {
     "name": "stderr",
     "output_type": "stream",
     "text": [
      "[Parallel(n_jobs=-1)]: Using backend ThreadingBackend with 4 concurrent workers.\n",
      "[Parallel(n_jobs=-1)]: Done  42 tasks      | elapsed:  1.6min\n",
      "[Parallel(n_jobs=-1)]: Done 100 out of 100 | elapsed:  3.6min finished\n",
      "[Parallel(n_jobs=4)]: Using backend ThreadingBackend with 4 concurrent workers.\n",
      "[Parallel(n_jobs=4)]: Done  42 tasks      | elapsed:    2.7s\n",
      "[Parallel(n_jobs=4)]: Done 100 out of 100 | elapsed:    4.2s finished\n"
     ]
    }
   ],
   "source": [
    "# Обучаем модель на тестовом наборе данных\n",
    "model.fit(X_train, y_train)\n",
    "\n",
    "# Используем обученную модель для предсказания рейтинга ресторанов в тестовой выборке.\n",
    "# Предсказанные значения записываем в переменную y_pred\n",
    "y_pred = model.predict(X_test)"
   ]
  },
  {
   "cell_type": "code",
   "execution_count": 44,
   "metadata": {},
   "outputs": [
    {
     "name": "stdout",
     "output_type": "stream",
     "text": [
      "MAPE: 0.8780589577866535\n"
     ]
    }
   ],
   "source": [
    "# Сравниваем предсказанные значения (y_pred) с реальными (y_test), и смотрим насколько они в среднем отличаются\n",
    "# Метрика называется Mean Absolute Error (MAE) и показывает среднее отклонение предсказанных значений от фактических.\n",
    "print('MAPE:', metrics.mean_absolute_error(y_test, y_pred))"
   ]
  },
  {
   "cell_type": "code",
   "execution_count": 45,
   "metadata": {},
   "outputs": [
    {
     "name": "stdout",
     "output_type": "stream",
     "text": [
      "MAPE: 0.12517724202288277\n"
     ]
    }
   ],
   "source": [
    "# Сравниваем предсказанные значения (y_pred) с реальными (y_test), и смотрим насколько они отличаются  \n",
    "# Метрика называется Mean Absolute Percentage Error (MAPE) и показывает среднюю абсолютную процентную ошибку предсказанных значений от фактических.  \n",
    "print('MAPE:', metrics.mean_absolute_percentage_error(y_test, y_pred))"
   ]
  },
  {
   "cell_type": "code",
   "execution_count": 46,
   "metadata": {},
   "outputs": [
    {
     "data": {
      "text/plain": [
       "<AxesSubplot:>"
      ]
     },
     "execution_count": 46,
     "metadata": {},
     "output_type": "execute_result"
    },
    {
     "data": {
      "image/png": "[encoded data removed]",
      "text/plain": [
       "<Figure size 720x720 with 1 Axes>"
      ]
     },
     "metadata": {
      "needs_background": "light"
     },
     "output_type": "display_data"
    }
   ],
   "source": [
    "# в RandomForestRegressor есть возможность вывести самые важные признаки для модели\n",
    "plt.rcParams['figure.figsize'] = (10,10)\n",
    "feat_importances = pd.Series(model.feature_importances_, index=X.columns)\n",
    "feat_importances.nlargest(15).plot(kind='barh')"
   ]
  },
  {
   "cell_type": "code",
   "execution_count": 47,
   "metadata": {},
   "outputs": [
    {
     "data": {
      "text/html": [
       "<div>\n",
       "<style scoped>\n",
       "    .dataframe tbody tr th:only-of-type {\n",
       "        vertical-align: middle;\n",
       "    }\n",
       "\n",
       "    .dataframe tbody tr th {\n",
       "        vertical-align: top;\n",
       "    }\n",
       "\n",
       "    .dataframe thead th {\n",
       "        text-align: right;\n",
       "    }\n",
       "</style>\n",
       "<table border=\"1\" class=\"dataframe\">\n",
       "  <thead>\n",
       "    <tr style=\"text-align: right;\">\n",
       "      <th></th>\n",
       "      <th>average_score</th>\n",
       "      <th>review_total_negative_word_counts</th>\n",
       "      <th>total_number_of_reviews</th>\n",
       "      <th>review_total_positive_word_counts</th>\n",
       "      <th>total_number_of_reviews_reviewer_has_given</th>\n",
       "      <th>days_since_review</th>\n",
       "      <th>reviewer_score</th>\n",
       "      <th>neg_neu</th>\n",
       "      <th>neg_pos</th>\n",
       "      <th>neg_compound</th>\n",
       "      <th>...</th>\n",
       "      <th>month</th>\n",
       "      <th>dayofweek</th>\n",
       "      <th>reviewer_nationality_0</th>\n",
       "      <th>reviewer_nationality_1</th>\n",
       "      <th>reviewer_nationality_2</th>\n",
       "      <th>reviewer_nationality_3</th>\n",
       "      <th>reviewer_nationality_4</th>\n",
       "      <th>reviewer_nationality_5</th>\n",
       "      <th>reviewer_nationality_6</th>\n",
       "      <th>reviewer_nationality_7</th>\n",
       "    </tr>\n",
       "  </thead>\n",
       "  <tbody>\n",
       "    <tr>\n",
       "      <th>65527</th>\n",
       "      <td>0.428571</td>\n",
       "      <td>0.857143</td>\n",
       "      <td>-0.241028</td>\n",
       "      <td>0.529412</td>\n",
       "      <td>-0.285714</td>\n",
       "      <td>224</td>\n",
       "      <td>0.0</td>\n",
       "      <td>0.906</td>\n",
       "      <td>0.000</td>\n",
       "      <td>-0.3818</td>\n",
       "      <td>...</td>\n",
       "      <td>12</td>\n",
       "      <td>3</td>\n",
       "      <td>0</td>\n",
       "      <td>0</td>\n",
       "      <td>0</td>\n",
       "      <td>0</td>\n",
       "      <td>0</td>\n",
       "      <td>0</td>\n",
       "      <td>0</td>\n",
       "      <td>1</td>\n",
       "    </tr>\n",
       "    <tr>\n",
       "      <th>50211</th>\n",
       "      <td>1.000000</td>\n",
       "      <td>1.095238</td>\n",
       "      <td>-0.665987</td>\n",
       "      <td>0.647059</td>\n",
       "      <td>0.857143</td>\n",
       "      <td>107</td>\n",
       "      <td>0.0</td>\n",
       "      <td>0.852</td>\n",
       "      <td>0.148</td>\n",
       "      <td>0.5423</td>\n",
       "      <td>...</td>\n",
       "      <td>4</td>\n",
       "      <td>1</td>\n",
       "      <td>0</td>\n",
       "      <td>0</td>\n",
       "      <td>0</td>\n",
       "      <td>0</td>\n",
       "      <td>0</td>\n",
       "      <td>0</td>\n",
       "      <td>0</td>\n",
       "      <td>1</td>\n",
       "    </tr>\n",
       "    <tr>\n",
       "      <th>100</th>\n",
       "      <td>0.000000</td>\n",
       "      <td>0.761905</td>\n",
       "      <td>-0.019984</td>\n",
       "      <td>-0.470588</td>\n",
       "      <td>-0.142857</td>\n",
       "      <td>581</td>\n",
       "      <td>0.0</td>\n",
       "      <td>0.804</td>\n",
       "      <td>0.000</td>\n",
       "      <td>-0.6261</td>\n",
       "      <td>...</td>\n",
       "      <td>12</td>\n",
       "      <td>3</td>\n",
       "      <td>0</td>\n",
       "      <td>0</td>\n",
       "      <td>0</td>\n",
       "      <td>0</td>\n",
       "      <td>0</td>\n",
       "      <td>0</td>\n",
       "      <td>0</td>\n",
       "      <td>1</td>\n",
       "    </tr>\n",
       "    <tr>\n",
       "      <th>42874</th>\n",
       "      <td>-0.714286</td>\n",
       "      <td>-0.238095</td>\n",
       "      <td>1.899674</td>\n",
       "      <td>1.176471</td>\n",
       "      <td>0.000000</td>\n",
       "      <td>2</td>\n",
       "      <td>0.0</td>\n",
       "      <td>1.000</td>\n",
       "      <td>0.000</td>\n",
       "      <td>0.0000</td>\n",
       "      <td>...</td>\n",
       "      <td>8</td>\n",
       "      <td>1</td>\n",
       "      <td>0</td>\n",
       "      <td>0</td>\n",
       "      <td>0</td>\n",
       "      <td>0</td>\n",
       "      <td>0</td>\n",
       "      <td>0</td>\n",
       "      <td>0</td>\n",
       "      <td>1</td>\n",
       "    </tr>\n",
       "    <tr>\n",
       "      <th>111515</th>\n",
       "      <td>0.571429</td>\n",
       "      <td>0.380952</td>\n",
       "      <td>-0.263051</td>\n",
       "      <td>-0.235294</td>\n",
       "      <td>0.142857</td>\n",
       "      <td>22</td>\n",
       "      <td>0.0</td>\n",
       "      <td>0.747</td>\n",
       "      <td>0.103</td>\n",
       "      <td>-0.2023</td>\n",
       "      <td>...</td>\n",
       "      <td>7</td>\n",
       "      <td>2</td>\n",
       "      <td>0</td>\n",
       "      <td>0</td>\n",
       "      <td>0</td>\n",
       "      <td>0</td>\n",
       "      <td>0</td>\n",
       "      <td>0</td>\n",
       "      <td>0</td>\n",
       "      <td>1</td>\n",
       "    </tr>\n",
       "    <tr>\n",
       "      <th>61096</th>\n",
       "      <td>-0.428571</td>\n",
       "      <td>0.190476</td>\n",
       "      <td>-0.231240</td>\n",
       "      <td>-0.529412</td>\n",
       "      <td>-0.285714</td>\n",
       "      <td>250</td>\n",
       "      <td>0.0</td>\n",
       "      <td>0.675</td>\n",
       "      <td>0.000</td>\n",
       "      <td>-0.5875</td>\n",
       "      <td>...</td>\n",
       "      <td>11</td>\n",
       "      <td>5</td>\n",
       "      <td>0</td>\n",
       "      <td>1</td>\n",
       "      <td>1</td>\n",
       "      <td>0</td>\n",
       "      <td>0</td>\n",
       "      <td>1</td>\n",
       "      <td>1</td>\n",
       "      <td>1</td>\n",
       "    </tr>\n",
       "    <tr>\n",
       "      <th>62294</th>\n",
       "      <td>-2.000000</td>\n",
       "      <td>-0.428571</td>\n",
       "      <td>-0.029772</td>\n",
       "      <td>0.000000</td>\n",
       "      <td>-0.285714</td>\n",
       "      <td>487</td>\n",
       "      <td>0.0</td>\n",
       "      <td>0.000</td>\n",
       "      <td>0.000</td>\n",
       "      <td>-0.7096</td>\n",
       "      <td>...</td>\n",
       "      <td>4</td>\n",
       "      <td>6</td>\n",
       "      <td>0</td>\n",
       "      <td>0</td>\n",
       "      <td>0</td>\n",
       "      <td>0</td>\n",
       "      <td>1</td>\n",
       "      <td>1</td>\n",
       "      <td>1</td>\n",
       "      <td>0</td>\n",
       "    </tr>\n",
       "    <tr>\n",
       "      <th>100260</th>\n",
       "      <td>1.285714</td>\n",
       "      <td>0.285714</td>\n",
       "      <td>0.075449</td>\n",
       "      <td>0.411765</td>\n",
       "      <td>-0.285714</td>\n",
       "      <td>77</td>\n",
       "      <td>0.0</td>\n",
       "      <td>0.836</td>\n",
       "      <td>0.164</td>\n",
       "      <td>0.3291</td>\n",
       "      <td>...</td>\n",
       "      <td>5</td>\n",
       "      <td>3</td>\n",
       "      <td>0</td>\n",
       "      <td>0</td>\n",
       "      <td>0</td>\n",
       "      <td>0</td>\n",
       "      <td>0</td>\n",
       "      <td>0</td>\n",
       "      <td>0</td>\n",
       "      <td>1</td>\n",
       "    </tr>\n",
       "    <tr>\n",
       "      <th>119892</th>\n",
       "      <td>-0.142857</td>\n",
       "      <td>2.714286</td>\n",
       "      <td>0.544454</td>\n",
       "      <td>-0.176471</td>\n",
       "      <td>1.857143</td>\n",
       "      <td>423</td>\n",
       "      <td>0.0</td>\n",
       "      <td>0.775</td>\n",
       "      <td>0.035</td>\n",
       "      <td>-0.8845</td>\n",
       "      <td>...</td>\n",
       "      <td>6</td>\n",
       "      <td>0</td>\n",
       "      <td>0</td>\n",
       "      <td>0</td>\n",
       "      <td>0</td>\n",
       "      <td>0</td>\n",
       "      <td>0</td>\n",
       "      <td>0</td>\n",
       "      <td>0</td>\n",
       "      <td>1</td>\n",
       "    </tr>\n",
       "    <tr>\n",
       "      <th>80036</th>\n",
       "      <td>-0.714286</td>\n",
       "      <td>-0.428571</td>\n",
       "      <td>-0.039560</td>\n",
       "      <td>0.235294</td>\n",
       "      <td>0.714286</td>\n",
       "      <td>659</td>\n",
       "      <td>0.0</td>\n",
       "      <td>0.000</td>\n",
       "      <td>0.000</td>\n",
       "      <td>-0.7096</td>\n",
       "      <td>...</td>\n",
       "      <td>10</td>\n",
       "      <td>2</td>\n",
       "      <td>0</td>\n",
       "      <td>0</td>\n",
       "      <td>0</td>\n",
       "      <td>0</td>\n",
       "      <td>0</td>\n",
       "      <td>0</td>\n",
       "      <td>0</td>\n",
       "      <td>1</td>\n",
       "    </tr>\n",
       "  </tbody>\n",
       "</table>\n",
       "<p>10 rows × 32 columns</p>\n",
       "</div>"
      ],
      "text/plain": [
       "        average_score  review_total_negative_word_counts  \\\n",
       "65527        0.428571                           0.857143   \n",
       "50211        1.000000                           1.095238   \n",
       "100          0.000000                           0.761905   \n",
       "42874       -0.714286                          -0.238095   \n",
       "111515       0.571429                           0.380952   \n",
       "61096       -0.428571                           0.190476   \n",
       "62294       -2.000000                          -0.428571   \n",
       "100260       1.285714                           0.285714   \n",
       "119892      -0.142857                           2.714286   \n",
       "80036       -0.714286                          -0.428571   \n",
       "\n",
       "        total_number_of_reviews  review_total_positive_word_counts  \\\n",
       "65527                 -0.241028                           0.529412   \n",
       "50211                 -0.665987                           0.647059   \n",
       "100                   -0.019984                          -0.470588   \n",
       "42874                  1.899674                           1.176471   \n",
       "111515                -0.263051                          -0.235294   \n",
       "61096                 -0.231240                          -0.529412   \n",
       "62294                 -0.029772                           0.000000   \n",
       "100260                 0.075449                           0.411765   \n",
       "119892                 0.544454                          -0.176471   \n",
       "80036                 -0.039560                           0.235294   \n",
       "\n",
       "        total_number_of_reviews_reviewer_has_given  days_since_review  \\\n",
       "65527                                    -0.285714                224   \n",
       "50211                                     0.857143                107   \n",
       "100                                      -0.142857                581   \n",
       "42874                                     0.000000                  2   \n",
       "111515                                    0.142857                 22   \n",
       "61096                                    -0.285714                250   \n",
       "62294                                    -0.285714                487   \n",
       "100260                                   -0.285714                 77   \n",
       "119892                                    1.857143                423   \n",
       "80036                                     0.714286                659   \n",
       "\n",
       "        reviewer_score  neg_neu  neg_pos  neg_compound  ...  month  dayofweek  \\\n",
       "65527              0.0    0.906    0.000       -0.3818  ...     12          3   \n",
       "50211              0.0    0.852    0.148        0.5423  ...      4          1   \n",
       "100                0.0    0.804    0.000       -0.6261  ...     12          3   \n",
       "42874              0.0    1.000    0.000        0.0000  ...      8          1   \n",
       "111515             0.0    0.747    0.103       -0.2023  ...      7          2   \n",
       "61096              0.0    0.675    0.000       -0.5875  ...     11          5   \n",
       "62294              0.0    0.000    0.000       -0.7096  ...      4          6   \n",
       "100260             0.0    0.836    0.164        0.3291  ...      5          3   \n",
       "119892             0.0    0.775    0.035       -0.8845  ...      6          0   \n",
       "80036              0.0    0.000    0.000       -0.7096  ...     10          2   \n",
       "\n",
       "        reviewer_nationality_0  reviewer_nationality_1  \\\n",
       "65527                        0                       0   \n",
       "50211                        0                       0   \n",
       "100                          0                       0   \n",
       "42874                        0                       0   \n",
       "111515                       0                       0   \n",
       "61096                        0                       1   \n",
       "62294                        0                       0   \n",
       "100260                       0                       0   \n",
       "119892                       0                       0   \n",
       "80036                        0                       0   \n",
       "\n",
       "        reviewer_nationality_2  reviewer_nationality_3  \\\n",
       "65527                        0                       0   \n",
       "50211                        0                       0   \n",
       "100                          0                       0   \n",
       "42874                        0                       0   \n",
       "111515                       0                       0   \n",
       "61096                        1                       0   \n",
       "62294                        0                       0   \n",
       "100260                       0                       0   \n",
       "119892                       0                       0   \n",
       "80036                        0                       0   \n",
       "\n",
       "        reviewer_nationality_4  reviewer_nationality_5  \\\n",
       "65527                        0                       0   \n",
       "50211                        0                       0   \n",
       "100                          0                       0   \n",
       "42874                        0                       0   \n",
       "111515                       0                       0   \n",
       "61096                        0                       1   \n",
       "62294                        1                       1   \n",
       "100260                       0                       0   \n",
       "119892                       0                       0   \n",
       "80036                        0                       0   \n",
       "\n",
       "        reviewer_nationality_6  reviewer_nationality_7  \n",
       "65527                        0                       1  \n",
       "50211                        0                       1  \n",
       "100                          0                       1  \n",
       "42874                        0                       1  \n",
       "111515                       0                       1  \n",
       "61096                        1                       1  \n",
       "62294                        1                       0  \n",
       "100260                       0                       1  \n",
       "119892                       0                       1  \n",
       "80036                        0                       1  \n",
       "\n",
       "[10 rows x 32 columns]"
      ]
     },
     "execution_count": 47,
     "metadata": {},
     "output_type": "execute_result"
    }
   ],
   "source": [
    "test_data.sample(10)"
   ]
  },
  {
   "cell_type": "code",
   "execution_count": 48,
   "metadata": {},
   "outputs": [],
   "source": [
    "test_data = test_data.drop(['reviewer_score'], axis=1)"
   ]
  },
  {
   "cell_type": "code",
   "execution_count": 49,
   "metadata": {},
   "outputs": [
    {
     "data": {
      "text/html": [
       "<div>\n",
       "<style scoped>\n",
       "    .dataframe tbody tr th:only-of-type {\n",
       "        vertical-align: middle;\n",
       "    }\n",
       "\n",
       "    .dataframe tbody tr th {\n",
       "        vertical-align: top;\n",
       "    }\n",
       "\n",
       "    .dataframe thead th {\n",
       "        text-align: right;\n",
       "    }\n",
       "</style>\n",
       "<table border=\"1\" class=\"dataframe\">\n",
       "  <thead>\n",
       "    <tr style=\"text-align: right;\">\n",
       "      <th></th>\n",
       "      <th>reviewer_score</th>\n",
       "      <th>id</th>\n",
       "    </tr>\n",
       "  </thead>\n",
       "  <tbody>\n",
       "    <tr>\n",
       "      <th>0</th>\n",
       "      <td>1</td>\n",
       "      <td>488440</td>\n",
       "    </tr>\n",
       "    <tr>\n",
       "      <th>1</th>\n",
       "      <td>10</td>\n",
       "      <td>274649</td>\n",
       "    </tr>\n",
       "    <tr>\n",
       "      <th>2</th>\n",
       "      <td>3</td>\n",
       "      <td>374688</td>\n",
       "    </tr>\n",
       "    <tr>\n",
       "      <th>3</th>\n",
       "      <td>10</td>\n",
       "      <td>404352</td>\n",
       "    </tr>\n",
       "    <tr>\n",
       "      <th>4</th>\n",
       "      <td>9</td>\n",
       "      <td>451596</td>\n",
       "    </tr>\n",
       "    <tr>\n",
       "      <th>...</th>\n",
       "      <td>...</td>\n",
       "      <td>...</td>\n",
       "    </tr>\n",
       "    <tr>\n",
       "      <th>128930</th>\n",
       "      <td>7</td>\n",
       "      <td>495812</td>\n",
       "    </tr>\n",
       "    <tr>\n",
       "      <th>128931</th>\n",
       "      <td>1</td>\n",
       "      <td>315577</td>\n",
       "    </tr>\n",
       "    <tr>\n",
       "      <th>128932</th>\n",
       "      <td>3</td>\n",
       "      <td>511968</td>\n",
       "    </tr>\n",
       "    <tr>\n",
       "      <th>128933</th>\n",
       "      <td>6</td>\n",
       "      <td>303386</td>\n",
       "    </tr>\n",
       "    <tr>\n",
       "      <th>128934</th>\n",
       "      <td>5</td>\n",
       "      <td>103157</td>\n",
       "    </tr>\n",
       "  </tbody>\n",
       "</table>\n",
       "<p>128935 rows × 2 columns</p>\n",
       "</div>"
      ],
      "text/plain": [
       "        reviewer_score      id\n",
       "0                    1  488440\n",
       "1                   10  274649\n",
       "2                    3  374688\n",
       "3                   10  404352\n",
       "4                    9  451596\n",
       "...                ...     ...\n",
       "128930               7  495812\n",
       "128931               1  315577\n",
       "128932               3  511968\n",
       "128933               6  303386\n",
       "128934               5  103157\n",
       "\n",
       "[128935 rows x 2 columns]"
      ]
     },
     "execution_count": 49,
     "metadata": {},
     "output_type": "execute_result"
    }
   ],
   "source": [
    "sample_submission"
   ]
  },
  {
   "cell_type": "code",
   "execution_count": 50,
   "metadata": {},
   "outputs": [
    {
     "name": "stderr",
     "output_type": "stream",
     "text": [
      "[Parallel(n_jobs=4)]: Using backend ThreadingBackend with 4 concurrent workers.\n",
      "[Parallel(n_jobs=4)]: Done  42 tasks      | elapsed:    3.0s\n",
      "[Parallel(n_jobs=4)]: Done 100 out of 100 | elapsed:    6.4s finished\n"
     ]
    }
   ],
   "source": [
    "predict_submission = model.predict(test_data)"
   ]
  },
  {
   "cell_type": "code",
   "execution_count": 51,
   "metadata": {},
   "outputs": [
    {
     "data": {
      "text/plain": [
       "array([8.695, 7.355, 8.636, ..., 8.367, 9.468, 7.016])"
      ]
     },
     "execution_count": 51,
     "metadata": {},
     "output_type": "execute_result"
    }
   ],
   "source": [
    "predict_submission"
   ]
  },
  {
   "cell_type": "code",
   "execution_count": 52,
   "metadata": {},
   "outputs": [
    {
     "data": {
      "text/plain": [
       "['reviewer_score', 'id']"
      ]
     },
     "execution_count": 52,
     "metadata": {},
     "output_type": "execute_result"
    }
   ],
   "source": [
    "list(sample_submission)"
   ]
  },
  {
   "cell_type": "code",
   "execution_count": 53,
   "metadata": {},
   "outputs": [
    {
     "data": {
      "text/html": [
       "<div>\n",
       "<style scoped>\n",
       "    .dataframe tbody tr th:only-of-type {\n",
       "        vertical-align: middle;\n",
       "    }\n",
       "\n",
       "    .dataframe tbody tr th {\n",
       "        vertical-align: top;\n",
       "    }\n",
       "\n",
       "    .dataframe thead th {\n",
       "        text-align: right;\n",
       "    }\n",
       "</style>\n",
       "<table border=\"1\" class=\"dataframe\">\n",
       "  <thead>\n",
       "    <tr style=\"text-align: right;\">\n",
       "      <th></th>\n",
       "      <th>reviewer_score</th>\n",
       "      <th>id</th>\n",
       "    </tr>\n",
       "  </thead>\n",
       "  <tbody>\n",
       "    <tr>\n",
       "      <th>0</th>\n",
       "      <td>8.695</td>\n",
       "      <td>488440</td>\n",
       "    </tr>\n",
       "    <tr>\n",
       "      <th>1</th>\n",
       "      <td>7.355</td>\n",
       "      <td>274649</td>\n",
       "    </tr>\n",
       "    <tr>\n",
       "      <th>2</th>\n",
       "      <td>8.636</td>\n",
       "      <td>374688</td>\n",
       "    </tr>\n",
       "    <tr>\n",
       "      <th>3</th>\n",
       "      <td>9.729</td>\n",
       "      <td>404352</td>\n",
       "    </tr>\n",
       "    <tr>\n",
       "      <th>4</th>\n",
       "      <td>9.480</td>\n",
       "      <td>451596</td>\n",
       "    </tr>\n",
       "    <tr>\n",
       "      <th>5</th>\n",
       "      <td>9.120</td>\n",
       "      <td>302161</td>\n",
       "    </tr>\n",
       "    <tr>\n",
       "      <th>6</th>\n",
       "      <td>8.103</td>\n",
       "      <td>317079</td>\n",
       "    </tr>\n",
       "    <tr>\n",
       "      <th>7</th>\n",
       "      <td>7.519</td>\n",
       "      <td>13963</td>\n",
       "    </tr>\n",
       "    <tr>\n",
       "      <th>8</th>\n",
       "      <td>8.367</td>\n",
       "      <td>159785</td>\n",
       "    </tr>\n",
       "    <tr>\n",
       "      <th>9</th>\n",
       "      <td>7.703</td>\n",
       "      <td>195089</td>\n",
       "    </tr>\n",
       "  </tbody>\n",
       "</table>\n",
       "</div>"
      ],
      "text/plain": [
       "   reviewer_score      id\n",
       "0           8.695  488440\n",
       "1           7.355  274649\n",
       "2           8.636  374688\n",
       "3           9.729  404352\n",
       "4           9.480  451596\n",
       "5           9.120  302161\n",
       "6           8.103  317079\n",
       "7           7.519   13963\n",
       "8           8.367  159785\n",
       "9           7.703  195089"
      ]
     },
     "execution_count": 53,
     "metadata": {},
     "output_type": "execute_result"
    }
   ],
   "source": [
    "sample_submission['reviewer_score'] = predict_submission\n",
    "sample_submission.to_csv('submission.csv', index=False)\n",
    "sample_submission.head(10)"
   ]
  }
 ],
 "metadata": {
  "kernelspec": {
   "display_name": "Python 3.9.10 64-bit",
   "language": "python",
   "name": "python3"
  },
  "language_info": {
   "codemirror_mode": {
    "name": "ipython",
    "version": 3
   },
   "file_extension": ".py",
   "mimetype": "text/x-python",
   "name": "python",
   "nbconvert_exporter": "python",
   "pygments_lexer": "ipython3",
   "version": "3.9.10"
  },
  "orig_nbformat": 4,
  "vscode": {
   "interpreter": {
    "hash": "9f086136165bce3aeeb244448ca5394686af1346905e521452f0b4d8420c1205"
   }
  }
 },
 "nbformat": 4,
 "nbformat_minor": 2
}
